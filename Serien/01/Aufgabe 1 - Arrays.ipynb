{
 "cells": [
  {
   "cell_type": "markdown",
   "metadata": {},
   "source": [
    "# **Aufgabe 1 - Arrays**"
   ]
  },
  {
   "cell_type": "markdown",
   "metadata": {},
   "source": [
    "<p style=\"background-color:#f6f6f6;border-left:5px solid red;padding:0.6em;box-sizing:border-box;\">\n",
    "<strong>Lernziele:</strong><br/>\n",
    "    Diese Übung zeigt ihnen die grundlegende Synatax für das Erstellen und manipiulieren von Arrays. Ausserdem werden die Syntax für grundlegende Kontrollstrukturen (<em>for-loop & if-condition</em>) eingeführt.\n",
    "</p>"
   ]
  },
  {
   "cell_type": "markdown",
   "metadata": {},
   "source": [
    "## **Hintergrund**"
   ]
  },
  {
   "cell_type": "markdown",
   "metadata": {},
   "source": [
    "Daten, die wir aus einem Experiment erhalten liegen meistens in Form von Listen vor. Wir denken hier oft an Tabellen:\n",
    "\n",
    "x  | y\n",
    "---|---\n",
    "x1 | y1\n",
    "x2 | y2\n",
    " . | .\n",
    " . | .\n",
    " . | .\n",
    "\n",
    "In Python gibt es viele Datenstrukturen um solche Arten von Daten zu verarbeiten. Besonders gut geeignet für Datenanalyse sind Arrays aus der Numpy-Bibliothek."
   ]
  },
  {
   "cell_type": "markdown",
   "metadata": {},
   "source": [
    "Ein Array ist eine Variable, ganz ähnlich wie eine herkömmliche Integer, Fliesskomma oder Stringvariable. Der Unterschied ist, dass in dieser Variable mehrere Werte gespeichert werden können, z.B. :\n",
    "\n",
    "`a = np.array([0.1, 0.2, 0.3])`\n",
    "\n",
    "Die Variable `a` ist hier ein 1-Dimensionales Array, in dem drei Zahlenwerte gespeichert sind. Arrays können auch mehrere Dimensionen haben:\n",
    "\n",
    "`a = np.array([[0.1, 0.2, 0.3],\n",
    "               [1.1, 1.1, 1.3]])`\n",
    "\n",
    "Dies ist ein 2-dimensionales Array, bestehend aus zwei Zeilen mit jeweils drei spalten. Höherdimensionale Arrays sind nicht mehr so einfach darzustellen. Wir beschränken uns hier zunächst auf 1- und 2-dimensionale Arrays.\n",
    "\n",
    "In einem Array müssen alle Zeilen gleich viele Spalten haben.\n",
    "\n",
    "Die einzelnen Werte in einem Array können über ihre Zeilen- und Spaltenindizes identifiziert werden."
   ]
  },
  {
   "cell_type": "markdown",
   "metadata": {},
   "source": [
    "## **Aufgaben**"
   ]
  },
  {
   "cell_type": "markdown",
   "metadata": {},
   "source": [
    "Binden Sie die die Numpy-Bibliothek ein:"
   ]
  },
  {
   "cell_type": "code",
   "execution_count": null,
   "metadata": {
    "is_executing": true
   },
   "outputs": [],
   "source": [
    "import numpy as np"
   ]
  },
  {
   "cell_type": "markdown",
   "metadata": {},
   "source": [
    "### Erstellen von Arrays"
   ]
  },
  {
   "cell_type": "markdown",
   "metadata": {},
   "source": [
    "Um ein Numpy-Array zu erstellen verwenden wir den Befehl np.array(). Dabei können wir schon die Werte übergeben, mit denen das Array initialisiert werden soll. Dabei legen wir auch schon die Dimension des Arrays fest.\n",
    "\n",
    "Wir erstellen ein 1-dimensionales Array:"
   ]
  },
  {
   "cell_type": "code",
   "execution_count": null,
   "metadata": {
    "is_executing": true
   },
   "outputs": [],
   "source": [
    "a = np.array([0.1, 0.2, 0.3])"
   ]
  },
  {
   "cell_type": "markdown",
   "metadata": {},
   "source": [
    "Nun sind der Variable a diese drei Werte in einem 1-dimensionalen Array zugewiesen. Die Werte in der gleichen Dimension (hier gibt es nur eine) stehen in einer eckigen Klammer und sind durch Kommata getrennt.\n",
    "\n",
    "Wir können das leicht überprüfen:"
   ]
  },
  {
   "cell_type": "code",
   "execution_count": null,
   "metadata": {
    "ExecuteTime": {
     "end_time": "2024-02-09T12:53:59.303957100Z",
     "start_time": "2024-02-09T12:53:59.287740500Z"
    }
   },
   "outputs": [],
   "source": [
    "print(a)"
   ]
  },
  {
   "cell_type": "markdown",
   "metadata": {},
   "source": [
    "Um ein Array einer bestimmten Länge zu erstellen, dessen Werte erst später eingetragen werden, können wir die Funktionen np.zeros() oder np.ones() verwenden, je nach dem mit welchem Wert das Array initialisiert werden soll."
   ]
  },
  {
   "cell_type": "code",
   "execution_count": null,
   "metadata": {
    "ExecuteTime": {
     "end_time": "2024-02-09T12:54:07.274982900Z",
     "start_time": "2024-02-09T12:54:07.254824200Z"
    }
   },
   "outputs": [],
   "source": [
    "b = np.zeros(5)\n",
    "print(b)\n",
    "\n",
    "c = np.ones(5)\n",
    "print(c)"
   ]
  },
  {
   "cell_type": "markdown",
   "metadata": {},
   "source": [
    "Standardmässig erzeugen diese Funktionen Arrays aus 64-bit floats. Falls ein anderer Datentyp für die Einträge verwendet werden soll, kann man das mit einem Argument bestimmen:"
   ]
  },
  {
   "cell_type": "code",
   "execution_count": null,
   "metadata": {
    "ExecuteTime": {
     "end_time": "2024-02-09T12:54:31.015955800Z",
     "start_time": "2024-02-09T12:54:30.994576600Z"
    }
   },
   "outputs": [],
   "source": [
    "d = np.ones(5, dtype=int)\n",
    "print(d)"
   ]
  },
  {
   "cell_type": "markdown",
   "metadata": {},
   "source": [
    "Informationen über Standardwerte und weitere Optionen finden Sie in der Numpy-Dokumentation: https://numpy.org/doc/stable/reference/generated/numpy.array.html\n",
    "\n",
    "In IPython-Notebooks können Sie die Dokumentation einer Funktion auch so abrufen:"
   ]
  },
  {
   "cell_type": "code",
   "execution_count": null,
   "metadata": {
    "ExecuteTime": {
     "end_time": "2024-02-09T12:54:42.042086900Z",
     "start_time": "2024-02-09T12:54:41.975495500Z"
    }
   },
   "outputs": [],
   "source": [
    "# Führen Sie diese Zelle aus\n",
    "np.array?"
   ]
  },
  {
   "cell_type": "markdown",
   "metadata": {},
   "source": [
    "Aufgabe:\n",
    "\n",
    "- Finden Sie heraus, mit welchem Datentyp die Funktion np.array das Array initialisiert."
   ]
  },
  {
   "cell_type": "markdown",
   "metadata": {},
   "source": [
    "### Einfaches Indexieren von Arrays"
   ]
  },
  {
   "cell_type": "markdown",
   "metadata": {},
   "source": [
    "Wir können Werte des Arrays indexieren, in dem wir den entsprechenden Index in eckigen Klammern angeben:\n"
   ]
  },
  {
   "cell_type": "code",
   "execution_count": null,
   "metadata": {
    "ExecuteTime": {
     "end_time": "2024-02-09T12:55:01.785327300Z",
     "start_time": "2024-02-09T12:55:01.770255400Z"
    }
   },
   "outputs": [],
   "source": [
    "a = np.array([0.1, 0.2, 0.3])\n",
    "print(a[1])"
   ]
  },
  {
   "cell_type": "code",
   "execution_count": null,
   "metadata": {
    "ExecuteTime": {
     "end_time": "2024-02-09T12:55:03.556779800Z",
     "start_time": "2024-02-09T12:55:03.534643Z"
    }
   },
   "outputs": [],
   "source": [
    "print(a[0])\n",
    "print(a[1])\n",
    "print(a[2])"
   ]
  },
  {
   "cell_type": "markdown",
   "metadata": {},
   "source": [
    "Hier sehen wir auch: In Python beginnen die Indizes von Arrays mit 0."
   ]
  },
  {
   "cell_type": "markdown",
   "metadata": {},
   "source": [
    "Man kann sich das so vorstellen, dass die Indizes \"zwischen\" den Werten stehen:\n",
    "\n",
    "`Index 0   1   2   3   4   5 `<br>\n",
    "`Wert  | a | b | c | d | e |`\n",
    "\n",
    "Damit ist einfacher verständlich, dass wir mit 0 zu Zählen beginnen und der letzte Eintrag im Array nach dem Index 'Länge-1' steht.\n",
    "\n",
    "Das heisst in einem Array mit drei Einträgen ist der letzte Index 2. Wenn wir einen Index verwenden der grösser ist als 'Länge-1' gibt es eine Fehlermeldung. Wir können jedoch negative Indizes angeben."
   ]
  },
  {
   "cell_type": "markdown",
   "metadata": {},
   "source": [
    "**Aufgabe:**\n",
    "- Geben Sie den Wert des Arrays a an der Stelle -1 aus. Was stellen Sie fest? Was gibt ein Index -2?"
   ]
  },
  {
   "cell_type": "code",
   "execution_count": null,
   "metadata": {},
   "outputs": [],
   "source": [
    "# Ihr Code"
   ]
  },
  {
   "cell_type": "markdown",
   "metadata": {},
   "source": [
    "Wir können also ein Arrays mit negativen Indizes von hinten indizieren, ohne die Länge des Arrays kennen zu müssen!\n",
    "\n",
    "\n",
    "Der Index kann natürlich auch selbst eine Variable sein, diese muss aber (in neueren Python-Versionen) ein Integer sein."
   ]
  },
  {
   "cell_type": "markdown",
   "metadata": {},
   "source": [
    "**Aufgabe:**\n",
    "- Definieren Sie eine Indexvariable und geben sie den entsprechenden Wert des Arrays a aus."
   ]
  },
  {
   "cell_type": "code",
   "execution_count": null,
   "metadata": {},
   "outputs": [],
   "source": [
    "# Ihr Code"
   ]
  },
  {
   "cell_type": "markdown",
   "metadata": {},
   "source": [
    "Ganz analog zum Auslesen kann man einem Eintrag auch einen Wert zuweisen."
   ]
  },
  {
   "cell_type": "code",
   "execution_count": null,
   "metadata": {},
   "outputs": [],
   "source": [
    "b = np.array([0.1, 0.2, 0.3])\n",
    "b[1] = 5.5\n",
    "print(b)"
   ]
  },
  {
   "cell_type": "markdown",
   "metadata": {},
   "source": [
    "### Array Slicing"
   ]
  },
  {
   "cell_type": "markdown",
   "metadata": {},
   "source": [
    "Häufig möchte man nicht nur einen einzelnen Wert aus einem Array lesen, sondern gleich ein ganzes Subarray. Die allgemeine Syntax hierfür ist:\n",
    "\n",
    "`a[i_start:i_stop:i_step]`\n",
    "\n",
    "Auf diese Weise wählt man aus dem Array `a` die Elemente zwischen den Indizes `i_start` und `i_stop` in Schritten von `i_step` aus."
   ]
  },
  {
   "cell_type": "code",
   "execution_count": null,
   "metadata": {},
   "outputs": [],
   "source": [
    "a = np.array([0.1, 0.2, 0.3, 0.4, 0.5, 0.6, 0.7, 0.8, 0.9])\n",
    "\n",
    "# Alle Werte zwischen Positionen 1 und 4\n",
    "print(a[1:4:1])\n",
    "# Jeder zweite Wert zwischen Positionen 1 und 8\n",
    "print(a[1:8:2])\n",
    "# Jeder dritte Wert zwischen Positionen 0 und 8\n",
    "print(a[0:8:3])"
   ]
  },
  {
   "cell_type": "markdown",
   "metadata": {},
   "source": [
    "Auch hier ist es hilfreich, sich die Indizes zwischen den Werten vorzustellen.\n",
    "\n",
    "`Index  0   1   2   3   4   5 `<br>\n",
    "`Wert   | a | b | c | d | e |`<br>\n",
    "`Index -5  -4  -3  -2  -1`\n",
    "\n",
    "So wird deutlich, dass alle Werte *zwischen* `i_start` und `i_stop` ausgewählt werden. Wie beim einfachen Indexieren funktioniert das Slicing auch mit negativen Indizes."
   ]
  },
  {
   "cell_type": "markdown",
   "metadata": {},
   "source": [
    "Wenn eines der drei Argumente `i_start`, `i_stop` oder `i_step` weggelassen wird, nimmt es einen Standardwert an. Die Standardwerte sind:\n",
    "\n",
    "- `i_start`: Anfang des Arrays (Index 0)\n",
    "- `i_stop`: Ende des Arrays (Index = Länge des Arrays)\n",
    "- `i_step`: 1\n",
    "\n",
    "Wenn `i_step` weggelassen wird, kann man den zweiten Doppelpunkt auch weglassen und die Syntax vereinfacht sich zu `a[i_start:i_stop]`."
   ]
  },
  {
   "cell_type": "code",
   "execution_count": null,
   "metadata": {},
   "outputs": [],
   "source": [
    "print(a[:4])\n",
    "print(a[3:])\n",
    "print(a[-3:])"
   ]
  },
  {
   "cell_type": "markdown",
   "metadata": {},
   "source": [
    "**Aufgabe:**\n",
    "    \n",
    "- Probieren Sie ein paar verschiedene Array-Slices aus um sich mit der Syntax vertraut zu machen.\n",
    "- Wählen sie aus dem Array a alle Einträge ausser dem ersten und dem letzten aus."
   ]
  },
  {
   "cell_type": "code",
   "execution_count": null,
   "metadata": {},
   "outputs": [],
   "source": [
    "# Ihr Code"
   ]
  },
  {
   "cell_type": "markdown",
   "metadata": {},
   "source": [
    "### For-Schleifen"
   ]
  },
  {
   "cell_type": "markdown",
   "metadata": {},
   "source": [
    "Wenn man durch die Einträge eines Arrays iterieren will, d.h. eines nach dem anderen bearbeiten, bieten sich hierzu for-Schleifen an. In Python wird in einer for-Schleife eine Iterationsvariable definiert und eine Liste von Werten, die diese annehmen soll."
   ]
  },
  {
   "cell_type": "code",
   "execution_count": null,
   "metadata": {},
   "outputs": [],
   "source": [
    "a = np.array([0.1, 0.2, 0.3])\n",
    "for index in a:\n",
    "    print(index)"
   ]
  },
  {
   "cell_type": "markdown",
   "metadata": {},
   "source": [
    "Hier ist i die Iterationsvariable und das Array a enthält die Werte, die i in der Schleife annehmen soll.\n",
    "\n",
    "Wenn man in der Schleife nicht nur den Wert eines Eintrags, sondern auch seinen Index verwenden möchte, kann man die Funktion `enumerate` verwenden."
   ]
  },
  {
   "cell_type": "code",
   "execution_count": null,
   "metadata": {},
   "outputs": [],
   "source": [
    "a = np.array([0.1, 0.2, 0.3])\n",
    "\n",
    "# Erstelle ein zweites Array mit der gleichen Länge wie a\n",
    "b = np.zeros(len(a))\n",
    "\n",
    "# Wir möchten jedem b[i] den Wert a[i]**2 zuweisen.\n",
    "for index, value in enumerate(a):\n",
    "    b[index] = value**2\n",
    "    \n",
    "print(a)\n",
    "print(b)"
   ]
  },
  {
   "cell_type": "markdown",
   "metadata": {},
   "source": [
    "Die Iterationsvariablen `index` und `wert` können natürlich auch beliebig anders benannt werden."
   ]
  },
  {
   "cell_type": "markdown",
   "metadata": {},
   "source": [
    "Wenn man über einen Bereich von ganzen Zahlen iterieren will, z.B. über einen Bereich von Indizes, verwendet man die Funktion `range(i_start, i_stop, i_step)` um den Zahlenbereich zu erzeugen. Die Argumente `i_start`, `i_stop` und `i_step` verhalten sich genau so wie oben bei \"Array Slicing\" erklärt."
   ]
  },
  {
   "cell_type": "code",
   "execution_count": null,
   "metadata": {},
   "outputs": [],
   "source": [
    "for index in range(2, 10, 2):\n",
    "    print(index)"
   ]
  },
  {
   "cell_type": "markdown",
   "metadata": {},
   "source": [
    "Beachten Sie, dass `i_stop` nicht im erzeugten Bereich enthalten ist!\n",
    "\n",
    "Diese Funktion bietet sich auch an, um eine for-Schleife einfach eine bestimmte Anzahl mal durchlaufen zu lassen. Gibt man nur ein Argument an, wird dieses als `i_stop` interpretiert und die anderen beiden nehmen die Standardwerte `i_start = 0` und `i_step = 1` an."
   ]
  },
  {
   "cell_type": "code",
   "execution_count": null,
   "metadata": {},
   "outputs": [],
   "source": [
    "# Diese Schleife wird fünfmal durchlaufen.\n",
    "for index in range(5):\n",
    "    print(index)"
   ]
  },
  {
   "cell_type": "markdown",
   "metadata": {},
   "source": [
    "**Aufgabe:**\n",
    "\n",
    "- Schreiben Sie eine for-Schleife, die jeden Eintrag eines Arrays mit 2 multipliziert und ausgibt.\n",
    "- Erzeugen Sie ein Array a mit beliebigen Werten, und ein zweites Array b mit derselben Länge wie a. Schreiben Sie dann eine for-Schleife, die von jedem Wert a[i] den Index i des Eintrags abzieht und das Resultat in b[i] speichert.\n",
    "- Schreiben Sie eine for-Schleife, die zu jedem Wert a[i] den nächsten Eintrag a[i+1] dazuaddiert und das Resultat ausgibt. Achten Sie darauf, wo die Schleife abbrechen muss, um eine Fehlermeldung zu vermeiden."
   ]
  },
  {
   "cell_type": "code",
   "execution_count": null,
   "metadata": {},
   "outputs": [],
   "source": [
    "# Ihr Code"
   ]
  },
  {
   "cell_type": "markdown",
   "metadata": {},
   "source": [
    "## If-Else Bedingungen\n",
    "\n",
    "Ein weiteres wichtiges Konzept, ist das der If-Else Bedingungen. Diese verwenden wir um Bedingungen zu setzen, welche den Codefluss beeinflussen.  \n",
    "Die Syntax für ein If-Statement ist folgendermassen in Python:"
   ]
  },
  {
   "cell_type": "code",
   "execution_count": null,
   "metadata": {},
   "outputs": [],
   "source": [
    "if condition: #first condition\n",
    "    code\n",
    "elif condition2: #else if condition\n",
    "    code\n",
    "else: #No condition met\n",
    "    code"
   ]
  },
  {
   "cell_type": "markdown",
   "metadata": {},
   "source": [
    "Hierbei sind insbesondere die Doppelpunkte zu beachten, welche den Code-Block beginnen. Zusätzlich sind die *elif* and *else* statements optional und müssen nicht verwendet werden.  \n",
    "Zum Beispiel können wir überprüfen wie oft ein bestimmter Wert in einem Array vorkommt, indem wir einen Zähler inkrementieren wenn immer ein Array-Element den gesuchten Wert hat:"
   ]
  },
  {
   "cell_type": "code",
   "execution_count": null,
   "metadata": {
    "collapsed": false
   },
   "outputs": [],
   "source": [
    "a = np.array([0.0, 2.0, 3.0, 5.0, 2.0, 0.0, 1.0])\n",
    "counter = 0\n",
    "number_of_interest = 2.0\n",
    "for value in a:\n",
    "    if value == number_of_interest:\n",
    "        counter += 1\n",
    "print(counter)"
   ]
  },
  {
   "cell_type": "markdown",
   "metadata": {},
   "source": [
    "**Aufgabe:**  \n",
    "Schauen sie sich den folgenden Code an und überlegen sie welcher Wert in der Variable x gespeichert wird und welcher numerischer Wert am Ende ausgegeben wird:"
   ]
  },
  {
   "cell_type": "code",
   "execution_count": null,
   "metadata": {},
   "outputs": [],
   "source": [
    "a = np.array([0, -4, 2, 1, -7, 8, 3, 2, 1])\n",
    "x = 0\n",
    "for value in a[1::2]:\n",
    "    if value > 0:\n",
    "        x += value\n",
    "print(x)"
   ]
  },
  {
   "cell_type": "markdown",
   "metadata": {},
   "source": [
    "Können sie den Code von oben erweitern, sodas zusätzlich die Summe der negativen Elemente an den ungeraden Indices in der Variable y berechnet wird:"
   ]
  },
  {
   "cell_type": "code",
   "execution_count": null,
   "metadata": {},
   "outputs": [],
   "source": [
    "a = np.array([0, -4, 2, 1, -7, 8, 3, 2, 1, -9])\n",
    "x = 0\n",
    "y = \n",
    "for value in a[1::2]:\n",
    "    if value >= 0:\n",
    "        x += value\n",
    "    \n",
    "print(x)\n",
    "print(y)"
   ]
  },
  {
   "cell_type": "markdown",
   "metadata": {},
   "source": [
    "### Höherdimensionale Arrays"
   ]
  },
  {
   "cell_type": "markdown",
   "metadata": {},
   "source": [
    "Um ein Array mit höheren Dimensionen zu erzeugen können wir ähnlich wie bei eindimensionalen vorgehen:"
   ]
  },
  {
   "cell_type": "code",
   "execution_count": null,
   "metadata": {},
   "outputs": [],
   "source": [
    "a = np.array([[0.1, 0.2, 0.3],\n",
    "              [1.1, 1.2, 1.3]])\n",
    "print(a)"
   ]
  },
  {
   "cell_type": "markdown",
   "metadata": {},
   "source": [
    "Dies ist ein 2-dimensionales Array mit zwei Zeilen mit jeweils drei Einträgen.\n",
    "\n",
    "Um einen Eintrag in diesem Array zu indexieren müssen wir nun zwei Werte übergeben:"
   ]
  },
  {
   "cell_type": "code",
   "execution_count": null,
   "metadata": {},
   "outputs": [],
   "source": [
    "print(a[0, 1])"
   ]
  },
  {
   "cell_type": "markdown",
   "metadata": {},
   "source": [
    "Dabei ist der erste Wert der Index der Zeile und der zweite der der Spalte.\n",
    "\n",
    "Das Array-Slicing funktioniert ebenso wie bei eindimensionalen Arrays und kann auf Zeilen und Spalten separat angewendet werden. So kann man ganz einfach bestimmte Zeilen oder Spalten auswählen.\n"
   ]
  },
  {
   "cell_type": "code",
   "execution_count": null,
   "metadata": {},
   "outputs": [],
   "source": [
    "print(a[0, :])\n",
    "print(a[:, 0])"
   ]
  },
  {
   "cell_type": "markdown",
   "metadata": {},
   "source": [
    "Aber wir können auch einen Bereich indexieren:"
   ]
  },
  {
   "cell_type": "code",
   "execution_count": null,
   "metadata": {},
   "outputs": [],
   "source": [
    "print(a[0, 1:])\n",
    "print(a[:, 1:])\n",
    "print(a[:, ::2])"
   ]
  },
  {
   "cell_type": "markdown",
   "metadata": {},
   "source": [
    "So können wir sehr einfach einen Teil des Arrays erhalten. "
   ]
  },
  {
   "cell_type": "markdown",
   "metadata": {},
   "source": [
    "Auch hier können natürlich wir wieder iterativ in Schleifen Subarrays auswählen."
   ]
  },
  {
   "cell_type": "code",
   "execution_count": null,
   "metadata": {},
   "outputs": [],
   "source": [
    "for i in range(0, 3, 1):\n",
    "    print(a[:, i])"
   ]
  },
  {
   "cell_type": "markdown",
   "metadata": {},
   "source": [
    "So erhalten wir die einzelnen Spalten aus dem Array.\n",
    "\n",
    "Um die Grösse eines Arrays zu erfahren können wir die shape-Funktion benutzen:"
   ]
  },
  {
   "cell_type": "code",
   "execution_count": null,
   "metadata": {},
   "outputs": [],
   "source": [
    "print(a.shape)"
   ]
  },
  {
   "cell_type": "markdown",
   "metadata": {},
   "source": [
    "Diese Funktion gibt ein Tupel zurück mit den Längen der einzelnen Dimensionen des Arrays, auf das die Funktion angewendet wird.\n",
    "In Python können wir in einem solchen Fall die Rückgabewerte auch gleich individuellen Variablen zuordnen:"
   ]
  },
  {
   "cell_type": "code",
   "execution_count": null,
   "metadata": {},
   "outputs": [],
   "source": [
    "zeilen, spalten = a.shape\n",
    "print(zeilen)\n",
    "print(spalten)"
   ]
  },
  {
   "cell_type": "markdown",
   "metadata": {},
   "source": [
    "### Operationen auf Numpy-Arrays"
   ]
  },
  {
   "cell_type": "markdown",
   "metadata": {},
   "source": [
    "Für unsere Anwendung sind Numpy-Arrays besonders gut geeignet weil wir viele mathematische Funktionen auf das ganze Array anwenden können und diese dann automatisch auf alle Einträge des Arrays angewendet werden.\n",
    "Um z.B. alle Werte in einer Zeile eines 2-D Arrays zu quadrieren können wir schreiben:"
   ]
  },
  {
   "cell_type": "code",
   "execution_count": null,
   "metadata": {},
   "outputs": [],
   "source": [
    "a = np.array([[0.1, 0.2, 0.3],\n",
    "              [1.1, 1.2, 1.3]])\n",
    "b = a[1, :]**2\n",
    "print(b)"
   ]
  },
  {
   "cell_type": "markdown",
   "metadata": {},
   "source": [
    "Wir können auch alle Werte aus zwei Arrays miteinander Verrechnen:"
   ]
  },
  {
   "cell_type": "code",
   "execution_count": null,
   "metadata": {},
   "outputs": [],
   "source": [
    "b = a[0, :] + a[1, :]\n",
    "print(b)"
   ]
  },
  {
   "cell_type": "markdown",
   "metadata": {},
   "source": [
    "Beachten Sie, dass Operationen auf zwei Arrays nur funktionieren, wenn sie die gleiche Länge haben!"
   ]
  },
  {
   "cell_type": "markdown",
   "metadata": {},
   "source": [
    "**Aufgabe:**\n",
    "- Probieren Sie verschieden Operationen auf Arrays aus: Arrays mit Zahlen multiplizieren, addieren, etc. und Arrays mit Arrays verrechnen.\n",
    "- Probieren Sie ein paar verschiedene Funktionen (auch transzendente Funktionen wie np.sin(), oder np.exp()) auf dem Array aus."
   ]
  },
  {
   "cell_type": "code",
   "execution_count": null,
   "metadata": {},
   "outputs": [],
   "source": [
    "# Ihr Code"
   ]
  },
  {
   "cell_type": "markdown",
   "metadata": {},
   "source": [
    "Darüber hinaus gibt es einige Funktionen, die auf dem ganzen Array operieren:"
   ]
  },
  {
   "cell_type": "code",
   "execution_count": null,
   "metadata": {},
   "outputs": [],
   "source": [
    "c = np.sum(a[0, :])\n",
    "print(c)"
   ]
  },
  {
   "cell_type": "markdown",
   "metadata": {},
   "source": [
    "Dies ergibt die Summe aller Einträge in dem Array.\n",
    "\n",
    "**Aufgabe:**\n",
    "- Verwenden Sie die Funktion np.prod() um das Produkt aller Einträge eines Arrays zu berechnen."
   ]
  },
  {
   "cell_type": "code",
   "execution_count": null,
   "metadata": {},
   "outputs": [],
   "source": [
    "# Ihr Code"
   ]
  },
  {
   "cell_type": "markdown",
   "metadata": {},
   "source": [
    "Schliesslich gibt es noch weitere Funktionen um Arrays mit speziellen Werten zu initialisieren:"
   ]
  },
  {
   "cell_type": "code",
   "execution_count": null,
   "metadata": {},
   "outputs": [],
   "source": [
    "print('1D Zeros')\n",
    "a = np.zeros(10)\n",
    "print(a)\n",
    "\n",
    "print('---')\n",
    "print('2D Zeros')\n",
    "a = np.zeros([2, 2])\n",
    "print(a)\n",
    "\n",
    "print('---')\n",
    "print('1D Ones')\n",
    "a = np.ones(10)\n",
    "print(a)\n",
    "\n",
    "print('---')\n",
    "print('2D Ones')\n",
    "a = np.ones([2, 2])\n",
    "print(a)\n",
    "\n",
    "a_min = 0\n",
    "a_max = 5\n",
    "n_a = 11\n",
    "d_a = 0.5\n",
    "\n",
    "print('---')\n",
    "print('Arange von {:0.2f} bis {:0.2f}, mit Schrittgrösse {:0.2f}'.format(a_min, a_max, d_a))\n",
    "a = np.arange(a_min, a_max, d_a)\n",
    "print(a)\n",
    "\n",
    "print('---')\n",
    "print('Linspace von {:0.2f} bis {:0.2f}, in {:d} Schritten'.format(a_min, a_max, n_a))\n",
    "a = np.linspace(a_min, a_max, n_a)\n",
    "print(a)"
   ]
  },
  {
   "cell_type": "markdown",
   "metadata": {},
   "source": [
    "Die ersten beiden Funktionen sind selbsterklärend. Die letzten sind geeignet um Arrays zu erzeugen, die Werte zwischen zwei Grenzwerten a_min und a_max in gleichmässigen Abständen enthalten.\n",
    "Numpy stellt uns hierfür zwei Funktionen zur Verfügung: np.arange(a_min, a_max, d_a) und np.linspace(a_min, a_max, n_a). Der Unterschied zwischen den beiden Funktionen ist, dass bei arange die Differenz zwischen zwei aufeinanderfolgenden Werten angegeben wird (d_a). Die Länge des Arrays ist dann vollständig definiert. Bei linspace übergeben wir stattdessen die Länge des Arrays, das wir erzeugen wollen, und damit ist die Differenz zwischen den aufeinanderfolgenden Werten definiert. \n",
    "\n",
    "**Aufgabe:**\n",
    "- Erzeugen Sie ein paar Arrays mit diesen Funktionen und versuchen Sie die Unterschiede zu verstehen. Welche Werte müssen n_a bzw d_a haben um mit arange und linspace identische Arrays zu erzeugen?"
   ]
  },
  {
   "cell_type": "code",
   "execution_count": null,
   "metadata": {},
   "outputs": [],
   "source": [
    "# Ihr Code"
   ]
  },
  {
   "cell_type": "markdown",
   "metadata": {},
   "source": [
    "## Bemerkung zu Numpy-Arrays und Python Listen"
   ]
  },
  {
   "cell_type": "markdown",
   "metadata": {},
   "source": [
    "Wir haben in diesem Notebook Arrays aus dem Modul Numpy vorgestellt, da diese für die Datenverarbeitung besonders geeignet sind. Allerdings gibt es in Python auch den eingebauten Datentyp der Listen, die sehr ähnlich wie Numpy-Arrays aussehen, sich aber anders verhalten. Die wichtigsten Unterschiede sind:\n",
    "\n",
    "- Mehrdimensionale Listen lassen sich nicht mit der gleichen Syntax wie mehrdimensionale Numpy-Arrays indexieren: statt a[1, 5] muss man a[1][5] schreiben. Ausserdem funktioniert das Slicing nicht mehr auf die gleiche Weise.\n",
    "- Operationen, die auf eine Liste angewendet werden, werde nicht automatisch elementweise ausgeführt. Oft gibt es direkt eine Fehlermeldung, weil die Operation für die Liste nicht definiert ist, aber manchmal muss man sich vor unerwartetem Verhalten in Acht nehmen.\n",
    "\n",
    "Wir empfehlen Ihnen deshalb in diesem Kurs immer Numpy-Arrays zu verwenden. Wenn Sie Fehlermeldungen antreffen, in denen \"list\" vorkommt, haben Sie vermutlich aus Versehen eine Python-Liste anstelle eines Numpy-Arrays verwendet.\n",
    "\n",
    "Hier folgen ein paar Beispiele, bei denen das Verhalten von Python Listen von demjenigen von Numpy-Arrays abweicht."
   ]
  },
  {
   "cell_type": "code",
   "execution_count": null,
   "metadata": {},
   "outputs": [],
   "source": [
    "# Definiere eine python-Liste\n",
    "a = [0.1, 0.2, 0.3]"
   ]
  },
  {
   "cell_type": "code",
   "execution_count": null,
   "metadata": {},
   "outputs": [],
   "source": [
    "# Die Addition von Listen und Zahlen ist undefiniert!\n",
    "print(a + 2)"
   ]
  },
  {
   "cell_type": "code",
   "execution_count": null,
   "metadata": {},
   "outputs": [],
   "source": [
    "# Ebenso andere einfach operationen\n",
    "print(a * 2)"
   ]
  },
  {
   "cell_type": "code",
   "execution_count": null,
   "metadata": {},
   "outputs": [],
   "source": [
    "# 2D Liste\n",
    "a = [[0.1, 0.2, 0.3],\n",
    "     [1  ,   2,   3]]\n",
    "\n",
    "# Indexieren funktioniert nicht mehr so...\n",
    "print(a[1, 2])"
   ]
  },
  {
   "cell_type": "code",
   "execution_count": null,
   "metadata": {},
   "outputs": [],
   "source": [
    "# ...sondern so\n",
    "print(a[1][2])"
   ]
  },
  {
   "cell_type": "code",
   "execution_count": null,
   "metadata": {},
   "outputs": [],
   "source": [
    "# Slicing funktioniert noch innerhalb einer Zeile\n",
    "print(a[1][:])"
   ]
  },
  {
   "cell_type": "code",
   "execution_count": null,
   "metadata": {},
   "outputs": [],
   "source": [
    "# ...verhält sich aber anders wenn man es auf der Spalte versucht\n",
    "print(a[:][1])"
   ]
  },
  {
   "cell_type": "code",
   "execution_count": null,
   "metadata": {},
   "outputs": [],
   "source": [
    "# Addieren von zwei Listen fügt sie zusammen, statt die Elemente zu addieren\n",
    "a = [1, 2, 3]\n",
    "b = [0.1, 0.2, 0.3]\n",
    "\n",
    "print(a + b)"
   ]
  },
  {
   "cell_type": "markdown",
   "metadata": {},
   "source": [
    "## Zusammenfassung"
   ]
  },
  {
   "cell_type": "markdown",
   "metadata": {},
   "source": [
    "Sie haben nun die wichtigsten Eigenschaften von Numpy-Arrays kennengelernt. Damit sollten Sie in der Lage sein Daten in Arrays zu organisieren und alle relevanten Manipulationen an diesen Daten vorzunehmen.\n",
    "\n",
    "Bitte beachten Sie dass viele dieser Funktionen nur für Numpy-Arrays auf diese Art und Weise funktionieren und für 'native' Python-Arrays oder Listen die Syntax oder die Funktionen oft anders aussehen."
   ]
  }
 ],
 "metadata": {
  "kernelspec": {
   "display_name": "Python 3 (ipykernel)",
   "language": "python",
   "name": "python3"
  },
  "language_info": {
   "codemirror_mode": {
    "name": "ipython",
    "version": 3
   },
   "file_extension": ".py",
   "mimetype": "text/x-python",
   "name": "python",
   "nbconvert_exporter": "python",
   "pygments_lexer": "ipython3",
   "version": "3.12.1"
  },
  "latex_envs": {
   "LaTeX_envs_menu_present": true,
   "autoclose": false,
   "autocomplete": true,
   "bibliofile": "biblio.bib",
   "cite_by": "apalike",
   "current_citInitial": 1,
   "eqLabelWithNumbers": true,
   "eqNumInitial": 1,
   "hotkeys": {
    "equation": "Ctrl-E",
    "itemize": "Ctrl-I"
   },
   "labels_anchors": false,
   "latex_user_defs": false,
   "report_style_numbering": false,
   "user_envs_cfg": false
  },
  "toc": {
   "base_numbering": 1,
   "nav_menu": {},
   "number_sections": false,
   "sideBar": true,
   "skip_h1_title": false,
   "title_cell": "Table of Contents",
   "title_sidebar": "Contents",
   "toc_cell": false,
   "toc_position": {},
   "toc_section_display": true,
   "toc_window_display": true
  }
 },
 "nbformat": 4,
 "nbformat_minor": 4
}
