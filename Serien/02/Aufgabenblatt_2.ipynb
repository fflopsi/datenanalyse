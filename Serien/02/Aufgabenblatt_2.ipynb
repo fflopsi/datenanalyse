{
 "cells": [
  {
   "cell_type": "markdown",
   "id": "b3a5216e-3f60-4a47-9feb-c39e6fe6113c",
   "metadata": {},
   "source": [
    "# Aufgabenblatt 2"
   ]
  },
  {
   "cell_type": "markdown",
   "id": "770a7e82-46cd-41d2-9755-0f2345821b6b",
   "metadata": {},
   "source": [
    "<p style=\"border-left:5px solid red;padding:0.6em;box-sizing:border-box;\">\n",
    "<strong>Lernziele:</strong><br/>\n",
    "    Diese Übung führt sie an die digitale Natur von Messsignalen, sowie den Einfluss verschiedener Messgrössen, heran.\n",
    "</p>\n",
    "\n",
    "<p style=\"border-left:5px solid blue;padding:0.6em;box-sizing:border-box;\">\n",
    "<strong>Wichtigste Funktionen für diese Übung:</strong><br/>\n",
    "    Dies sind die wichtigsten Funktionen die sie während dieser Übung benötigen:<br>\n",
    "    Die jeweilige Syntax beschreibt eine examplarische Verwendung. Im allgemeinen haben die Funktionen weitere Argumente die übergeben werden können. Der Funktionsname ist jeweils ein Link zur offiziellen Dokumentation, welche alle Argumente darlegt und die Funktion beschreibt. <br>\n",
    "    <b>Funktionen zur Datenanlyse </b><br> \n",
    "    <a href=\"https://numpy.org/doc/stable/reference/generated/numpy.loadtxt.html\">data = numpy.loadtxt(filepath, <em>optional arguments</em>)</a> Lädt die Daten in einem Dokument und schreibt die Daten in eine Variable <em>data</em><br>\n",
    "    <a href=\"https://numpy.org/doc/stable/reference/generated/numpy.sort.html\">sortedarray = numpy.sort(data)</a> Sortiert das Array <em>data</em>. Stadardmässig wird das Array aufsteigend sortiert.<br>\n",
    "    <a href=\"https://numpy.org/doc/stable/reference/generated/numpy.diff.html\">res = numpy.diff(data)</a> Berechnet standardmässig die erste diskrete Differenz der Einträge des Arrays <em>data</em>. Das resultierende Array wird um einen Eintrag kürzer sein als das Ursprüngliche.<br>\n",
    "    <a href=\"https://numpy.org/doc/stable/reference/generated/numpy.min.html\">res = numpy.min(data)</a>Gibt den Minimalwert im Array <em>data</em> zurück.<br>\n",
    "    <a href=\"https://numpy.org/doc/stable/reference/generated/numpy.histogram.html\">hist = numpy.histogram(data, number_of_bins)</a> Sortiert die Daten <em>data</em> in <em>number_of_bins</em> gleich grossen Bins ein. Der Rückgabewert ist ein Array, welches die Grenzen und die Population der Bins enthält.<br>\n",
    "    <b>Funktionen zum Plotten: </b><br>\n",
    "    <a href=\"https://matplotlib.org/stable/api/_as_gen/matplotlib.pyplot.figure.html\">figure = matplotlib.pyplot.figure()</a> Erstellt eine neue Figur und gibt den Handle zu dieser zurück.<br>\n",
    "    <a href=\"https://matplotlib.org/stable/api/_as_gen/matplotlib.pyplot.subplot.html\">axis = matplotlib.pyplot.subplot(nrows, ncolumn, index)</a> Erstellt einen neuen Plot in der aktuellen Figur. Erlaubt es mehrere Figuren in einem Plot zu haben. Mittels der Argumente kann der <em>index</em>te Plot in einem Grid aus <em>nrows</em> Reihen und <em>ncolumns</em> Spalten erstellt werden.<br>\n",
    "    <a href=\"https://matplotlib.org/stable/api/_as_gen/matplotlib.pyplot.plot.html\">axis.plot(x, y)</a> Plotted die Daten x,y in einem Graphen.<br>\n",
    "    <a href=\"https://matplotlib.org/stable/api/_as_gen/matplotlib.axes.Axes.set_xlabel.html\">axis.set_xlabel(label)</a> Erstelle ein Label für die X-Achse des aktuellen Graphen.<br>\n",
    "    <a href=\"https://matplotlib.org/stable/api/_as_gen/matplotlib.axes.Axes.set_ylabel.html\">axis.set_ylabel(label)</a> Erstelle ein Label für die Y-Achse des aktuellen Graphen.<br>\n",
    "    <a href=\"https://matplotlib.org/stable/api/_as_gen/matplotlib.axes.Axes.set_title.html\">axis.set_title(title)</a> Erstelle einen Titel für den aktuellen Graphen.<br>\n",
    "    <a href=\"https://matplotlib.org/stable/api/_as_gen/matplotlib.axes.Axes.bar.html\">axis.bar(x, heights, width)</a> Erstelle ein Balkendiagramm mit den Balken an den Positionen x und den Höhen <em>heights</em>. Die Breite der Balken kann über den Parameter <em>width</em> angepasst werden.<br>\n",
    "</p>\n",
    "</p>"
   ]
  },
  {
   "cell_type": "code",
   "execution_count": null,
   "id": "076b9707",
   "metadata": {},
   "outputs": [],
   "source": [
    "import numpy as np\n",
    "import matplotlib.pyplot as plt"
   ]
  },
  {
   "cell_type": "markdown",
   "id": "3699a4cb",
   "metadata": {},
   "source": [
    "# Aufgabe 1: Auflösung einer Messung"
   ]
  },
  {
   "cell_type": "markdown",
   "id": "3f9e9125",
   "metadata": {},
   "source": [
    "In dieser Übung schauen wir uns den Einfluss der Auflösung des Signalwerts einer Messung auf die Analyse an. Hierfür haben Sie vier Dateien mit Messdaten, die Sie im Ordner \"Aufgabe 1\" finden. Alle vier Messungen wurden am gleichen System durchgeführt, aber sie haben unterschiedliche Auflösungen."
   ]
  },
  {
   "cell_type": "markdown",
   "id": "2e9cf248",
   "metadata": {},
   "source": [
    "## a)"
   ]
  },
  {
   "cell_type": "markdown",
   "id": "c5a632ee",
   "metadata": {},
   "source": [
    "Lesen Sie die Messdaten ein und stellen Sie für jede Messung die gemessene Grösse als Funktion der Zeit dar.\n",
    "\n",
    "Tipp: Jupyter Notebooks unterstützen auch interaktive Plots. Sie können diese Funktion durch das Ausführen des folgenden Codes aktivieren."
   ]
  },
  {
   "cell_type": "code",
   "execution_count": null,
   "id": "a5986e1f",
   "metadata": {},
   "outputs": [],
   "source": [
    "%matplotlib notebook"
   ]
  },
  {
   "cell_type": "markdown",
   "id": "c9ed7a33",
   "metadata": {},
   "source": [
    "Um die interaktiven Plots wieder auszuschalten verwenden Sie:"
   ]
  },
  {
   "cell_type": "code",
   "execution_count": null,
   "id": "eebab5e1",
   "metadata": {},
   "outputs": [],
   "source": [
    "%matplotlib inline"
   ]
  },
  {
   "cell_type": "code",
   "execution_count": null,
   "id": "b29d01e3",
   "metadata": {},
   "outputs": [],
   "source": []
  },
  {
   "cell_type": "markdown",
   "id": "d8bfed3d",
   "metadata": {},
   "source": [
    "## b)"
   ]
  },
  {
   "cell_type": "markdown",
   "id": "50737dda",
   "metadata": {},
   "source": [
    "Bestimmen Sie zu jeder Messung die Auflösung in der Signalgrösse (hier Spannung). Nützliche Funktionen hierfür sind z.B. `np.diff`, `np.sort` und `np.min`."
   ]
  },
  {
   "cell_type": "code",
   "execution_count": null,
   "id": "2397ca76",
   "metadata": {},
   "outputs": [],
   "source": []
  },
  {
   "cell_type": "markdown",
   "id": "eb82daf9-2c20-41fe-93b3-9494dc4da6ca",
   "metadata": {},
   "source": [
    "## **Hintergrund: Erstellen von Grafen**"
   ]
  },
  {
   "cell_type": "markdown",
   "id": "16c3fb06-24f4-4409-8478-a5652bab8c8c",
   "metadata": {},
   "source": [
    "Eine der wichtigsten Schritte beim Verarbeiten und Verstehen von Daten ist die grafische Darstellung der Werte. Eine weit verbreitetes Package ist `matplotlib`, es beinhaltet zahlreiche Möglichkeiten beliebig komplizierte Plots zu erstellen. Für die meisten Anwendungen genügt es jedoch aus `matplotlib.pyplot` mit `subplots` eine Figur und die dazugehörigen Achsen zu erstellen, und dann mit `plot` die Werte darzustellen. Zu jedem Plot gehört die Achsenbeschriftung, die mit `ax.set_xlabel` und  `ax.set_ylabel` erstellt werden kann (dazu gehören auch immer die Einheiten der dargestellten Grössen). Um klarzumachen, was dargestellt ist, kann mit `ax.set_title` ein Titel erstellt werden, was insbesondere dann hilfreich ist, wenn es keinen erklärenden Text zum Plot gibt (z.B. hier im Notebook oder in einer Präsentation)."
   ]
  },
  {
   "cell_type": "code",
   "execution_count": null,
   "id": "75c1d343-b349-4f6b-9389-9ad0841ccea7",
   "metadata": {},
   "outputs": [],
   "source": [
    "import matplotlib.pyplot as plt\n",
    "t = np.linspace(0, 5, 100)\n",
    "y = 15 * t - 9.81 / 2 * t**2\n",
    "\n",
    "fig = plt.figure()\n",
    "ax = fig.add_subplot(1, 1, 1)\n",
    "ax.plot(t, y)\n",
    "ax.set_xlabel('t (s)')\n",
    "ax.set_ylabel('y (m)')\n",
    "ax.set_title('Wurfparabel')"
   ]
  },
  {
   "cell_type": "markdown",
   "id": "15a56c3c",
   "metadata": {},
   "source": [
    "## c)"
   ]
  },
  {
   "cell_type": "markdown",
   "id": "1fc90b3b",
   "metadata": {},
   "source": [
    "Plotten Sie nochmal die Daten und beschriften Sie die Plots mit der zugehörigen Signalauflösung. Da die Punkte auf der x-Achse sehr dicht beieinander liegen, lässt sich nicht viel erkennen. Schauen Sie sich deswegen kleinere Bereiche auf der x-Achse an, z.B. 10 Sekunden, 5 Sekunden, 1 Sekunde, 0.1 Sekunden... Können Sie eine Struktur erkennen? Wie wirkt sich die Auflösung aus?"
   ]
  },
  {
   "cell_type": "code",
   "execution_count": null,
   "id": "fc99c6b4",
   "metadata": {},
   "outputs": [],
   "source": []
  },
  {
   "cell_type": "markdown",
   "id": "4c48de8a",
   "metadata": {},
   "source": [
    "## d)"
   ]
  },
  {
   "cell_type": "markdown",
   "id": "dae4b53a",
   "metadata": {},
   "source": [
    "Erstellen Sie ein Histogramm für jede Messung und plotten Sie es. Um das Histogramm zu berechnen, können Sie np.histogram() und um es in der gewohnten Balken-Form zu plotten ax.bar() verwenden. Die Grösse der Bins hat einen grossen Einfluss auf das Histogramm. Wählen Sie verschiedene Bingrössen aus, die für kleine oder grosse Signalauflösungen optimiert sind. Was passiert, wenn sie die Bingrösse kleiner als die Auflösung wählen?\n",
    "\n",
    "Der Syntax der Funktionen finden Sie wieder mit der Hilfe Funktion: `np.histogram?` und `ax.bar?`. Alternativ können sie auf die Hyperlinks am Anfang des Übungsblattes klicken um zur Online-Dokumentation zu gelangen.\n",
    "\n",
    "Um den Zusammenhang zwischen Signalauflösung und Bingrösse zu veranschaulichen, können Sie immer alle vier Histogramme mit derselben Bingrösse plotten und dann verschiedene Werte für die Bingrösse ausprobieren."
   ]
  },
  {
   "cell_type": "code",
   "execution_count": null,
   "id": "95c18303",
   "metadata": {},
   "outputs": [],
   "source": []
  },
  {
   "cell_type": "markdown",
   "id": "b4af6fb3",
   "metadata": {},
   "source": [
    "## e)"
   ]
  },
  {
   "cell_type": "markdown",
   "id": "9b6a2b7e",
   "metadata": {},
   "source": [
    "Welche Auflösung würden Sie für diese Messung wählen? Wie hängt die benötigte Auflösung mit den charakteristischen Grössen der Verteilung der Messwerte (z.B. Streuung) zusammen?"
   ]
  },
  {
   "cell_type": "code",
   "execution_count": null,
   "id": "4f4982dd",
   "metadata": {},
   "outputs": [],
   "source": []
  },
  {
   "cell_type": "markdown",
   "id": "997a6477",
   "metadata": {},
   "source": [
    "# Aufgabe 2: Oszillierendes Signal und Samplingrate"
   ]
  },
  {
   "cell_type": "markdown",
   "id": "f23c359c",
   "metadata": {},
   "source": [
    "Nun schauen wir uns den Einfluss der Samplingrate, d.h. der zeitlichen Auflösung, auf die Messung von oszillierenden Signalen an. Sie finden die Datensätze zu dieser Aufgabe im Ordner \"Aufgabe 2\"."
   ]
  },
  {
   "cell_type": "markdown",
   "id": "c0e43e70",
   "metadata": {},
   "source": [
    "## a)"
   ]
  },
  {
   "cell_type": "markdown",
   "id": "0092c9c5",
   "metadata": {},
   "source": [
    "Lesen Sie zuerst den Datensatz 'osc_data_1.txt' ein und bestimmen Sie die Samplingrate. Plotten Sie das Signal als Funktion der Zeit. Verwenden Sie im Plot Marker (z.B. Kreuze oder Punkte), um die Datenpunkte zu markieren."
   ]
  },
  {
   "cell_type": "code",
   "execution_count": null,
   "id": "b187f1d8",
   "metadata": {},
   "outputs": [],
   "source": []
  },
  {
   "cell_type": "markdown",
   "id": "0c4b958d",
   "metadata": {},
   "source": [
    "## b)"
   ]
  },
  {
   "cell_type": "markdown",
   "id": "ce79c75a",
   "metadata": {},
   "source": [
    "Lesen Sie die Oszillationsfrequenz des Signals aus Ihrem Plot ab."
   ]
  },
  {
   "cell_type": "code",
   "execution_count": null,
   "id": "fdc56064",
   "metadata": {},
   "outputs": [],
   "source": []
  },
  {
   "cell_type": "markdown",
   "id": "9b295cf2",
   "metadata": {},
   "source": [
    "## c)"
   ]
  },
  {
   "cell_type": "markdown",
   "id": "8fb4edde",
   "metadata": {},
   "source": [
    "Lesen Sie nun die Datei 'osc_data_2.txt' ein, bestimmen Sie die Samplingrate, plotten Sie das Signal und bestimmen Sie die Frequenz."
   ]
  },
  {
   "cell_type": "code",
   "execution_count": null,
   "id": "983a33ad",
   "metadata": {},
   "outputs": [],
   "source": []
  },
  {
   "cell_type": "markdown",
   "id": "8554110f",
   "metadata": {},
   "source": [
    "## d)"
   ]
  },
  {
   "cell_type": "markdown",
   "id": "48f2bfc0",
   "metadata": {},
   "source": [
    "Plotten Sie beide Datensätze im selbem Plot. Was stellen Sie fest?"
   ]
  },
  {
   "cell_type": "code",
   "execution_count": null,
   "id": "bd8d33d9",
   "metadata": {},
   "outputs": [],
   "source": []
  },
  {
   "cell_type": "markdown",
   "id": "2823722a",
   "metadata": {},
   "source": [
    "## Freiwillige Zusatzaufgabe: Frequenz automatisch bestimmen"
   ]
  },
  {
   "cell_type": "markdown",
   "id": "9ec4c731",
   "metadata": {},
   "source": [
    "In Aufgaben b) und c) haben Sie die ungefähre Frequenz von Auge aus dem Plot abgelesen. Überlegen Sie sich, wie Sie die Frequenz programmatisch aus dem Signal bestimmen könnten, und versuchen Sie Ihren Algorithmus zu implementieren.\n",
    "\n",
    "Da wir erst später in der Vorlesung genauer auf die Analyse die Analyse von oszillierenden Signalen zu sprechen kommen, brauchen Sie sich keine Gedanken zu machen, wenn Sie diese Aufgabe nicht bearbeiten möchten."
   ]
  },
  {
   "cell_type": "code",
   "execution_count": null,
   "id": "11f4b22b",
   "metadata": {},
   "outputs": [],
   "source": []
  }
 ],
 "metadata": {
  "kernelspec": {
   "display_name": "Python 3 (ipykernel)",
   "language": "python",
   "name": "python3"
  },
  "language_info": {
   "codemirror_mode": {
    "name": "ipython",
    "version": 3
   },
   "file_extension": ".py",
   "mimetype": "text/x-python",
   "name": "python",
   "nbconvert_exporter": "python",
   "pygments_lexer": "ipython3",
   "version": "3.12.1"
  },
  "toc": {
   "base_numbering": 1,
   "nav_menu": {},
   "number_sections": false,
   "sideBar": true,
   "skip_h1_title": false,
   "title_cell": "Table of Contents",
   "title_sidebar": "Contents",
   "toc_cell": false,
   "toc_position": {
    "height": "calc(100% - 180px)",
    "left": "10px",
    "top": "150px",
    "width": "384px"
   },
   "toc_section_display": true,
   "toc_window_display": true
  },
  "varInspector": {
   "cols": {
    "lenName": 16,
    "lenType": 16,
    "lenVar": 40
   },
   "kernels_config": {
    "python": {
     "delete_cmd_postfix": "",
     "delete_cmd_prefix": "del ",
     "library": "var_list.py",
     "varRefreshCmd": "print(var_dic_list())"
    },
    "r": {
     "delete_cmd_postfix": ") ",
     "delete_cmd_prefix": "rm(",
     "library": "var_list.r",
     "varRefreshCmd": "cat(var_dic_list()) "
    }
   },
   "types_to_exclude": [
    "module",
    "function",
    "builtin_function_or_method",
    "instance",
    "_Feature"
   ],
   "window_display": false
  }
 },
 "nbformat": 4,
 "nbformat_minor": 5
}
