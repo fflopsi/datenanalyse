{
 "cells": [
  {
   "cell_type": "markdown",
   "metadata": {},
   "source": [
    "# Aufgabe 2 - Laden und Speichern von Daten"
   ]
  },
  {
   "cell_type": "markdown",
   "metadata": {},
   "source": [
    "<p style=\"border-left:5px solid red;padding:0.6em;box-sizing:border-box;\">\n",
    "<strong>Lernziele:</strong><br/>\n",
    "    Diese Übung führt sie an den Umgang mit den externen Dateien heran. Dies ist insbesondere wichtig, da Messdaten häufig als externes Dokument vorliegen und importiert werden müssen bevor sie ausgewertet werden können.\n",
    "</p>\n",
    "\n",
    "<p style=\"border-left:5px solid blue;padding:0.6em;box-sizing:border-box;\">\n",
    "<strong>Wichtigste Funktionen für diese Übung:</strong><br/>\n",
    "    Dies sind die wichtigsten Funktionen die sie während dieser Übung benötigen:<br>\n",
    "    Die jeweilige Syntax beschreibt eine examplarische Verwendung. Im allgemeinen haben die Funktionen weitere Argumente die übergeben werden können. Der Funktionsname ist jeweils ein Link zur offiziellen Dokumentation, welche alle Argumente darlegt und ihre Funktion beschreibt. <br>\n",
    "    <a href=\"https://docs.python.org/3/library/os.html#os.getcwd\">os.getcwd()</a> Gibt das aktuelle Verzeichnis aus.<br>\n",
    "    <a href=\"https://docs.python.org/3/library/os.html#os.listdir\">os.listdir(path)</a> Gibt alle Inhalte des Ordners am Pfad <em>path</em> aus.<br>\n",
    "    <a href=\"https://docs.python.org/3/library/os.path.html#os.path.join\">os.path.join(path1, path2)</a> Verbindet die Strings von mehreren Pfaden/Dateien zu einem einzelnen Pfad zu der gewünschten Datei.<br>\n",
    "    <a href=\"https://numpy.org/doc/stable/reference/generated/numpy.loadtxt.html\">data = numpy.loadtxt(filepath, <em>optional arguments</em>)</a> Lädt die Daten in einem Dokument und schreibt die Daten in eine Variable <em>data</em><br>\n",
    "    <a href=\"https://numpy.org/doc/stable/reference/generated/numpy.savetxt.html\">numpy.savetxt(filename, data)</a> Schreibt das Array <em>data</em> in eine neu Data mit dem Namen <em>filename</em>.<br>\n",
    "    \n",
    "</p>"
   ]
  },
  {
   "cell_type": "markdown",
   "metadata": {},
   "source": [
    "## **Hintergrund**\n",
    "Im allgemeinen wollen wir Daten analysieren, die mit einem Computerprogramm oder mit einem Messgerät aufgenommen worden sind und die in einer Datei vorliegen. In diesen Dateien können die Daten in verschiedenen Formen gespeichert sein. Wir beschränken uns hier ausschliesslich auf Textdateien, in denen die Daten im ASCII-Format vorliegen.\n",
    "Den Inhalt dieser Dateien wollen wir in Python laden und einer Variable (z.B. einem Array) zuweisen. Nach der Analyse wollen wir diese Daten wiederum in einer neuen Datei abspeichern. "
   ]
  },
  {
   "cell_type": "markdown",
   "metadata": {},
   "source": [
    "Der Inhalt einer Messdaten-Datei besteht üblicherweise aus einem Header mit Metadaten und den Messdaten selbst. Der Header ist dazu da, die Messung zu beschreiben, so dass man später nachvollziehen kann, zu welchem Experiment die Daten gehören. Ausserdem enthält er normalerweise eine Erklärung zur Struktur der Daten, z.B. was die einzelnen Zeilen und Spalten bedeuten.\n",
    "\n",
    "Wir haben Ihnen mit der Übung die Beispieldatei \"example_data.txt\" zur Verfügung gestellt. Wenn Sie diese in einem Texteditor öffnen, können Sie sich ein Bild davon machen, wie eine Messdaten-Datei aussehen könnte. Für die Aufgaben unten werden Sie selbst eine neue Datei erstellen und von Hand Zahlen eingeben, damit Sie an einem einfachen Beispiel ausprobieren können, wie Python und Sie selbst mit der Datei interagieren können."
   ]
  },
  {
   "cell_type": "markdown",
   "metadata": {},
   "source": [
    "Die Datei mit den Messdaten ist auf dem Computer gespeichert und zwar in einer Datei mit einem Namen und einer Endung, die üblicherweise das Dateiformat charakterisiert: \"Name.Endung\"\n",
    "Beispiele für Dateiendungen sind: \n",
    "\n",
    "|Dateiendung | Beschreibung |\n",
    "| :- | :- |\n",
    "|.txt | Textdatei |\n",
    "| .html | Eine Textdatei, die einen HTML-Code enthält und von einem Browser interpretiert werden kann |\n",
    "| .py | Eine Textdatei, die ein Python-Skript enthält das von einem Python-Interpreter interpretiert werden kann |\n",
    "| .ipynb | Eine IPython Notebook-Datei, die in JSON gespeichert ist |\n",
    "|.jpg | Eine Binärdatei, die ein Bild im JPEG-Format enthält |"
   ]
  },
  {
   "cell_type": "markdown",
   "metadata": {},
   "source": [
    "Diese Dateien sind im Computer in einer Verzeichnisstruktur organisiert. In Windows sieht so ein Verzeichnisbaum üblicherweise so aus:\n",
    "\n",
    "| Verzeichnis | Beschreibung |\n",
    "| :- | :- |\n",
    "| C:\\ | Root-Verzeichnis (Wurzel des Baums). |\n",
    "| C:\\Progam Files\\ | Hier sind alle 64bit Programme abgespeichert die auf dem Computer installiert sind. |\n",
    "| C:\\Program Files (x86)\\ | Hier sind alle 32bit Programme abgespeichert die auf dem Computer installiert sind. |\n",
    "| C:\\Users\\ | Hier sind (üblicherweise) die Dateien abgespeichert, die von den Computerbenutzern angelegt oder erzeugt wurden. |\n",
    "| C:\\Users\\Name | Im Users-Ordner ist für jeden Benutzer (jeden Account) ein Ordner mit dem Namen (Name) des Accounts angelegt. |\n",
    "| C:\\Users\\Name\\Desktop | Hier sind alle Dateien abgespeichert, die auf dem Desktop dieser Benutzerin liegen. |\n",
    "| C:\\Users\\Name\\Documents | Hier sind üblicherweise die Dateien abgespeichert, die der Benutzer mit Programmen erstellt hat. |\n",
    "| C:\\Users\\Name\\Downloads | Hier sind üblicherweise die Dateien abgespeichert, die die Benutzerin aus dem Internet heruntergeladen hat. |\n",
    "| C:\\Users\\Name\\OneDrive | Hier sind alle Dateien lokal gespeichert, die aus dem OneDrive Cloud-Speicher synchronisiert werden. |\n",
    "\n",
    "\n",
    "**MacOS**:\n",
    "\n",
    "- Das Root-Verzeichnis ist \"/\"\n",
    "- Die Programme sind in \"/Applications/\"\n",
    "- Die User-Ordner und eine analoge Substruktur wie in Windows sind in \"/Users/Name\"\n",
    "\n",
    "**Linux**:\n",
    "\n",
    "- Das Rootverzeichnis ist \"/\"\n",
    "- Systemprogramme sind in \"/bin/\", \"/sbin/\", \"/usr/bin\", \"/usr/sbin/\"\n",
    "- Die Systemkonfiguration ist in \"/etc/\"\n",
    "- Die Userordner und analoge Substruktur sind in \"/home/name/\"\n",
    "\n",
    "Achtung! Auf Windows sind Pfad- und Dateinamen standardmässig case-insensitive (d.h. Gross- und Kleinschreibung sind irrelevant), während auf MacOS und Linux die Pfad- und Dateinamen case-sensitive sind."
   ]
  },
  {
   "cell_type": "markdown",
   "metadata": {},
   "source": [
    "## **Aufgaben**"
   ]
  },
  {
   "cell_type": "markdown",
   "metadata": {},
   "source": [
    "### Orientierung in der Verzeichnisstruktur"
   ]
  },
  {
   "cell_type": "markdown",
   "metadata": {},
   "source": [
    "Das IPython Notebook ist auch eine Datei, die irgendwo in diesem Verzeichnisbaum liegt, z.B.\n",
    "C:\\Users\\Name\\Documents\\Code\\Python\n",
    "\n",
    "Wenn wir Jupyter notebook starten, starten wir im Browser mit einem Dateiexplorer, der es uns erlaubt zu dem Verzeichnis zu wechseln, in dem wir unseren Code abgespeichert haben bzw. in dem wir unseren Code abspeichern wollen.\n",
    "\n",
    "Ordnung in dieser Verzeichnisstruktur zu halten ist hilfreich.\n",
    "\n",
    "In Python ist dann standardmässig das Arbeitsverzeichnis dasjenige Verzeichnis, in dem die Programmdatei, also der Code, liegt. Das Arbeitsverzeichnis heisst auch \"current working directory\" und kann folgendermassen ermittelt werden:"
   ]
  },
  {
   "cell_type": "code",
   "execution_count": 1,
   "metadata": {},
   "outputs": [
    {
     "name": "stdout",
     "output_type": "stream",
     "text": [
      "/home/flopsi/Documents/Programming/Datenanalyse/Serien/01\n"
     ]
    }
   ],
   "source": [
    "# Einbinden der Bibliothek für Zugriff auf die Dateistruktur\n",
    "import os\n",
    "# Ermitteln des current working directory und sofortige Ausgabe\n",
    "print(os.getcwd())"
   ]
  },
  {
   "cell_type": "markdown",
   "metadata": {},
   "source": [
    "Aufgaben:\n",
    "\n",
    "- Kopieren Sie den soeben ermittelten Pfad zum Arbeitsverzeichnis in die Zwischenablage.\n",
    "- Öffnen Sie den Dateiexplorer Ihres Betriebssystems\n",
    "- Fügen Sie den kopierten Pfad in die Pfadzeile des Explorers und bestätigen Sie die Änderung"
   ]
  },
  {
   "cell_type": "markdown",
   "metadata": {},
   "source": [
    "Mac: Gehe zu... -> Gehe zum Ordner -> *Pfad hierher kopieren* (shortcut: Cmd-Shift-G)<br>\n",
    "Linux: Kommt auf den verwendenten file explorer an. Oft kann man mit Ctrl-L die Pfadzeile auswählen.\n",
    "\n",
    "\n",
    "Nun haben Sie ein offenes Explorer-Fenster zum Arbeitsverzeichnis!\n",
    "\n",
    "Hier sehen wir alle Dateien und Ordner in diesem Verzeichnis. Wir können das auch in Python anzeigen:"
   ]
  },
  {
   "cell_type": "code",
   "execution_count": 2,
   "metadata": {},
   "outputs": [
    {
     "name": "stdout",
     "output_type": "stream",
     "text": [
      "['Aufgabe 1 - Arrays.ipynb', 'example_data.txt', 'Skillcheck.txt', 'Aufgabe 2 - Laden und Speichern von Daten.ipynb']\n"
     ]
    }
   ],
   "source": [
    "# Für mehr Übersichtlichkeit benutzen wir eine Variable 'cwd' um den Pfad des Arbeitsverzeichnisses zu speichern\n",
    "cwd = os.getcwd()\n",
    "# Erzeugen einer Liste 'files' mit allen Dateien und Ordnern im cwd\n",
    "files = os.listdir(cwd)\n",
    "# Ausgabe der Liste\n",
    "print(files)"
   ]
  },
  {
   "cell_type": "markdown",
   "metadata": {},
   "source": [
    "Dieser Code Erzeugt eine Liste mit allen Ordnern und Verzeichnissen im Arbeitsverzeichnis und gibt diese aus."
   ]
  },
  {
   "cell_type": "markdown",
   "metadata": {},
   "source": [
    "Aufgaben:\n",
    "- Erzeugen Sie eine Textdatei mit dem Namen \"Data.txt\" im Arbeitsverzeichnis (z.B. in Windows: Rechtklick im Dateiexplorer, im Kontextmenü: New - Text Document; Mac: Öffnen Sie Textedit und erzeugen sie die Datei und speichern Sie diese in dem Ordner, den Sie als Arbeitsverzeichnis identifiziert haben)\n",
    "- Öffnen Sie diese Datei mit einem Texteditor (z.B. in Windows: Rechtsklick auf die Datei, im Kontextmenü: Open with - Notepad)\n",
    "- Geben Sie im Editor jeweils eine Zahl in ein paar Zeilen ein.\n",
    "- Speichern Sie die Datei\n",
    "- Führen Sie den obigen Code erneut aus. Sie sollten nun die neue Datei \"Data.txt\" in der Liste wiederfinden können."
   ]
  },
  {
   "cell_type": "markdown",
   "metadata": {},
   "source": [
    "Um im allgemeinen auf eine Datei zugreifen zu können müssen wir nicht nur ihren Namen, sondern auch ihre Position im Verzeichnisbaum kennen. Also erzeugen wir uns einen absoluten Pfad, der den Zugriff auf die Datei vollständig charakterisiert:"
   ]
  },
  {
   "cell_type": "code",
   "execution_count": 3,
   "metadata": {},
   "outputs": [
    {
     "name": "stdout",
     "output_type": "stream",
     "text": [
      "/home/flopsi/Documents/Programming/Datenanalyse/Serien/01/Data.txt\n"
     ]
    }
   ],
   "source": [
    "file = os.path.join(cwd, 'Data.txt')\n",
    "print(file)"
   ]
  },
  {
   "cell_type": "markdown",
   "metadata": {},
   "source": [
    "Nun Sehen Sie den absoluten Pfad der Datei (in Windows üblicherweise beginnend mit \"C:\\\"), mit dem Dateinamen am Ende."
   ]
  },
  {
   "cell_type": "markdown",
   "metadata": {},
   "source": [
    "### Laden von Dateien"
   ]
  },
  {
   "cell_type": "markdown",
   "metadata": {},
   "source": [
    "Nun können wir den Inhalt der Datei in Python laden:"
   ]
  },
  {
   "cell_type": "code",
   "execution_count": 4,
   "metadata": {},
   "outputs": [
    {
     "name": "stdout",
     "output_type": "stream",
     "text": [
      "[ 1.  4.  9. 16. 25.]\n"
     ]
    }
   ],
   "source": [
    "import numpy as np\n",
    "# Laden der Datei die über den Pfad 'file' charakterisiert ist und abspeichern der Dateiinhalte in der Variable 'data'\n",
    "data = np.loadtxt(file)\n",
    "print(data)"
   ]
  },
  {
   "cell_type": "markdown",
   "metadata": {},
   "source": [
    "Nun sehen sie die Zahlen, die sie zuvor in die Datei geschrieben haben."
   ]
  },
  {
   "cell_type": "markdown",
   "metadata": {},
   "source": [
    "Nebenbemerkung: Dateien können auch über relative Pfade, ausgehend vom aktuellen Arbeitsverzeichnis, angegeben werden. Das heisst wir können diese Daten also auch einfach mit: `data = np.loadtxt('Data.txt')` laden, da sie sich im gleichen Verzeichnis wie unser IPython-Notebook befinden. Probieren Sie es aus."
   ]
  },
  {
   "cell_type": "markdown",
   "metadata": {},
   "source": [
    "Aufgabe:\n",
    "- Öffnen Sie wieder die Datei \"Data.txt\" in einem Editor und geben sie nun Zahlen in zwei Zeilen ein und speichern Sie die Datei. Wichtig: Die Zahlen müssen durch Leerzeichen getrennt sein und in beiden Zeilen müssen gleich viele Zahlen stehen!\n",
    "- Führen Sie den vorherigen Code wieder aus. Diese Funktion ist recht intelligent und interpretiert das Format der Zahlen oft vernünftig."
   ]
  },
  {
   "cell_type": "code",
   "execution_count": 5,
   "metadata": {},
   "outputs": [
    {
     "name": "stdout",
     "output_type": "stream",
     "text": [
      "[[ 1.  1.]\n",
      " [ 4.  2.]\n",
      " [ 9.  3.]\n",
      " [16.  4.]\n",
      " [25.  5.]]\n"
     ]
    }
   ],
   "source": [
    "data = np.loadtxt(file)\n",
    "print(data)"
   ]
  },
  {
   "cell_type": "markdown",
   "metadata": {},
   "source": [
    "Bisher enthält die Datei nur Zahlen, üblicherweise wollen wir in den ersten paar Zeilen aber auch Metadaten speichern. Metadaten könnten zum Beispiel sein: Das Datum der Messung, der Name des Messgeräts, das die Dateien erzeugt hat, oder die Bezeichnung der Messgrössen, die in der Datei gespeichert sind. Solche Metadaten sind wichtig, damit man später noch nachvollziehen kann, was gemessen wurde und wie."
   ]
  },
  {
   "cell_type": "markdown",
   "metadata": {},
   "source": [
    "Aufgabe:\n",
    "\n",
    "- Öffnen Sie nochmal die Datei in einem Editor und fügen Sie am Anfang eine oder mehrere Zeilen mit Metadaten ein, z.B. ihrem Namen, dem heutigen Datum, etc."
   ]
  },
  {
   "cell_type": "markdown",
   "metadata": {},
   "source": [
    "Da die Zeilen mit den Metadaten nicht strukturiert sind, kann die funktion np.loadtxt sie nicht interpretieren: Wenn sie den obigen Code nochmal ausführen, sollten Sie eine Fehlermeldung erhalten. Daher wollen wir der Funktion die Anweisung mitgeben, die Zeilen mit den Metadaten zu überspringen. Das entsprechende Argument finden Sie im der Dokumentation der np.loadtxt Funktion:"
   ]
  },
  {
   "cell_type": "code",
   "execution_count": 6,
   "metadata": {},
   "outputs": [
    {
     "name": "stdout",
     "output_type": "stream",
     "text": [
      "\u001b[0;31mSignature:\u001b[0m\n",
      "\u001b[0mnp\u001b[0m\u001b[0;34m.\u001b[0m\u001b[0mloadtxt\u001b[0m\u001b[0;34m(\u001b[0m\u001b[0;34m\u001b[0m\n",
      "\u001b[0;34m\u001b[0m    \u001b[0mfname\u001b[0m\u001b[0;34m,\u001b[0m\u001b[0;34m\u001b[0m\n",
      "\u001b[0;34m\u001b[0m    \u001b[0mdtype\u001b[0m\u001b[0;34m=\u001b[0m\u001b[0;34m<\u001b[0m\u001b[0;32mclass\u001b[0m \u001b[0;34m'float'\u001b[0m\u001b[0;34m>\u001b[0m\u001b[0;34m,\u001b[0m\u001b[0;34m\u001b[0m\n",
      "\u001b[0;34m\u001b[0m    \u001b[0mcomments\u001b[0m\u001b[0;34m=\u001b[0m\u001b[0;34m'#'\u001b[0m\u001b[0;34m,\u001b[0m\u001b[0;34m\u001b[0m\n",
      "\u001b[0;34m\u001b[0m    \u001b[0mdelimiter\u001b[0m\u001b[0;34m=\u001b[0m\u001b[0;32mNone\u001b[0m\u001b[0;34m,\u001b[0m\u001b[0;34m\u001b[0m\n",
      "\u001b[0;34m\u001b[0m    \u001b[0mconverters\u001b[0m\u001b[0;34m=\u001b[0m\u001b[0;32mNone\u001b[0m\u001b[0;34m,\u001b[0m\u001b[0;34m\u001b[0m\n",
      "\u001b[0;34m\u001b[0m    \u001b[0mskiprows\u001b[0m\u001b[0;34m=\u001b[0m\u001b[0;36m0\u001b[0m\u001b[0;34m,\u001b[0m\u001b[0;34m\u001b[0m\n",
      "\u001b[0;34m\u001b[0m    \u001b[0musecols\u001b[0m\u001b[0;34m=\u001b[0m\u001b[0;32mNone\u001b[0m\u001b[0;34m,\u001b[0m\u001b[0;34m\u001b[0m\n",
      "\u001b[0;34m\u001b[0m    \u001b[0munpack\u001b[0m\u001b[0;34m=\u001b[0m\u001b[0;32mFalse\u001b[0m\u001b[0;34m,\u001b[0m\u001b[0;34m\u001b[0m\n",
      "\u001b[0;34m\u001b[0m    \u001b[0mndmin\u001b[0m\u001b[0;34m=\u001b[0m\u001b[0;36m0\u001b[0m\u001b[0;34m,\u001b[0m\u001b[0;34m\u001b[0m\n",
      "\u001b[0;34m\u001b[0m    \u001b[0mencoding\u001b[0m\u001b[0;34m=\u001b[0m\u001b[0;34m'bytes'\u001b[0m\u001b[0;34m,\u001b[0m\u001b[0;34m\u001b[0m\n",
      "\u001b[0;34m\u001b[0m    \u001b[0mmax_rows\u001b[0m\u001b[0;34m=\u001b[0m\u001b[0;32mNone\u001b[0m\u001b[0;34m,\u001b[0m\u001b[0;34m\u001b[0m\n",
      "\u001b[0;34m\u001b[0m    \u001b[0;34m*\u001b[0m\u001b[0;34m,\u001b[0m\u001b[0;34m\u001b[0m\n",
      "\u001b[0;34m\u001b[0m    \u001b[0mquotechar\u001b[0m\u001b[0;34m=\u001b[0m\u001b[0;32mNone\u001b[0m\u001b[0;34m,\u001b[0m\u001b[0;34m\u001b[0m\n",
      "\u001b[0;34m\u001b[0m    \u001b[0mlike\u001b[0m\u001b[0;34m=\u001b[0m\u001b[0;32mNone\u001b[0m\u001b[0;34m,\u001b[0m\u001b[0;34m\u001b[0m\n",
      "\u001b[0;34m\u001b[0m\u001b[0;34m)\u001b[0m\u001b[0;34m\u001b[0m\u001b[0;34m\u001b[0m\u001b[0m\n",
      "\u001b[0;31mDocstring:\u001b[0m\n",
      "Load data from a text file.\n",
      "\n",
      "Parameters\n",
      "----------\n",
      "fname : file, str, pathlib.Path, list of str, generator\n",
      "    File, filename, list, or generator to read.  If the filename\n",
      "    extension is ``.gz`` or ``.bz2``, the file is first decompressed. Note\n",
      "    that generators must return bytes or strings. The strings\n",
      "    in a list or produced by a generator are treated as lines.\n",
      "dtype : data-type, optional\n",
      "    Data-type of the resulting array; default: float.  If this is a\n",
      "    structured data-type, the resulting array will be 1-dimensional, and\n",
      "    each row will be interpreted as an element of the array.  In this\n",
      "    case, the number of columns used must match the number of fields in\n",
      "    the data-type.\n",
      "comments : str or sequence of str or None, optional\n",
      "    The characters or list of characters used to indicate the start of a\n",
      "    comment. None implies no comments. For backwards compatibility, byte\n",
      "    strings will be decoded as 'latin1'. The default is '#'.\n",
      "delimiter : str, optional\n",
      "    The character used to separate the values. For backwards compatibility,\n",
      "    byte strings will be decoded as 'latin1'. The default is whitespace.\n",
      "\n",
      "    .. versionchanged:: 1.23.0\n",
      "       Only single character delimiters are supported. Newline characters\n",
      "       cannot be used as the delimiter.\n",
      "\n",
      "converters : dict or callable, optional\n",
      "    Converter functions to customize value parsing. If `converters` is\n",
      "    callable, the function is applied to all columns, else it must be a\n",
      "    dict that maps column number to a parser function.\n",
      "    See examples for further details.\n",
      "    Default: None.\n",
      "\n",
      "    .. versionchanged:: 1.23.0\n",
      "       The ability to pass a single callable to be applied to all columns\n",
      "       was added.\n",
      "\n",
      "skiprows : int, optional\n",
      "    Skip the first `skiprows` lines, including comments; default: 0.\n",
      "usecols : int or sequence, optional\n",
      "    Which columns to read, with 0 being the first. For example,\n",
      "    ``usecols = (1,4,5)`` will extract the 2nd, 5th and 6th columns.\n",
      "    The default, None, results in all columns being read.\n",
      "\n",
      "    .. versionchanged:: 1.11.0\n",
      "        When a single column has to be read it is possible to use\n",
      "        an integer instead of a tuple. E.g ``usecols = 3`` reads the\n",
      "        fourth column the same way as ``usecols = (3,)`` would.\n",
      "unpack : bool, optional\n",
      "    If True, the returned array is transposed, so that arguments may be\n",
      "    unpacked using ``x, y, z = loadtxt(...)``.  When used with a\n",
      "    structured data-type, arrays are returned for each field.\n",
      "    Default is False.\n",
      "ndmin : int, optional\n",
      "    The returned array will have at least `ndmin` dimensions.\n",
      "    Otherwise mono-dimensional axes will be squeezed.\n",
      "    Legal values: 0 (default), 1 or 2.\n",
      "\n",
      "    .. versionadded:: 1.6.0\n",
      "encoding : str, optional\n",
      "    Encoding used to decode the inputfile. Does not apply to input streams.\n",
      "    The special value 'bytes' enables backward compatibility workarounds\n",
      "    that ensures you receive byte arrays as results if possible and passes\n",
      "    'latin1' encoded strings to converters. Override this value to receive\n",
      "    unicode arrays and pass strings as input to converters.  If set to None\n",
      "    the system default is used. The default value is 'bytes'.\n",
      "\n",
      "    .. versionadded:: 1.14.0\n",
      "max_rows : int, optional\n",
      "    Read `max_rows` rows of content after `skiprows` lines. The default is\n",
      "    to read all the rows. Note that empty rows containing no data such as\n",
      "    empty lines and comment lines are not counted towards `max_rows`,\n",
      "    while such lines are counted in `skiprows`.\n",
      "\n",
      "    .. versionadded:: 1.16.0\n",
      "    \n",
      "    .. versionchanged:: 1.23.0\n",
      "        Lines containing no data, including comment lines (e.g., lines \n",
      "        starting with '#' or as specified via `comments`) are not counted \n",
      "        towards `max_rows`.\n",
      "quotechar : unicode character or None, optional\n",
      "    The character used to denote the start and end of a quoted item.\n",
      "    Occurrences of the delimiter or comment characters are ignored within\n",
      "    a quoted item. The default value is ``quotechar=None``, which means\n",
      "    quoting support is disabled.\n",
      "\n",
      "    If two consecutive instances of `quotechar` are found within a quoted\n",
      "    field, the first is treated as an escape character. See examples.\n",
      "\n",
      "    .. versionadded:: 1.23.0\n",
      "like : array_like, optional\n",
      "    Reference object to allow the creation of arrays which are not\n",
      "    NumPy arrays. If an array-like passed in as ``like`` supports\n",
      "    the ``__array_function__`` protocol, the result will be defined\n",
      "    by it. In this case, it ensures the creation of an array object\n",
      "    compatible with that passed in via this argument.\n",
      "\n",
      "    .. versionadded:: 1.20.0\n",
      "\n",
      "Returns\n",
      "-------\n",
      "out : ndarray\n",
      "    Data read from the text file.\n",
      "\n",
      "See Also\n",
      "--------\n",
      "load, fromstring, fromregex\n",
      "genfromtxt : Load data with missing values handled as specified.\n",
      "scipy.io.loadmat : reads MATLAB data files\n",
      "\n",
      "Notes\n",
      "-----\n",
      "This function aims to be a fast reader for simply formatted files.  The\n",
      "`genfromtxt` function provides more sophisticated handling of, e.g.,\n",
      "lines with missing values.\n",
      "\n",
      "Each row in the input text file must have the same number of values to be\n",
      "able to read all values. If all rows do not have same number of values, a\n",
      "subset of up to n columns (where n is the least number of values present\n",
      "in all rows) can be read by specifying the columns via `usecols`.\n",
      "\n",
      ".. versionadded:: 1.10.0\n",
      "\n",
      "The strings produced by the Python float.hex method can be used as\n",
      "input for floats.\n",
      "\n",
      "Examples\n",
      "--------\n",
      ">>> from io import StringIO   # StringIO behaves like a file object\n",
      ">>> c = StringIO(\"0 1\\n2 3\")\n",
      ">>> np.loadtxt(c)\n",
      "array([[0., 1.],\n",
      "       [2., 3.]])\n",
      "\n",
      ">>> d = StringIO(\"M 21 72\\nF 35 58\")\n",
      ">>> np.loadtxt(d, dtype={'names': ('gender', 'age', 'weight'),\n",
      "...                      'formats': ('S1', 'i4', 'f4')})\n",
      "array([(b'M', 21, 72.), (b'F', 35, 58.)],\n",
      "      dtype=[('gender', 'S1'), ('age', '<i4'), ('weight', '<f4')])\n",
      "\n",
      ">>> c = StringIO(\"1,0,2\\n3,0,4\")\n",
      ">>> x, y = np.loadtxt(c, delimiter=',', usecols=(0, 2), unpack=True)\n",
      ">>> x\n",
      "array([1., 3.])\n",
      ">>> y\n",
      "array([2., 4.])\n",
      "\n",
      "The `converters` argument is used to specify functions to preprocess the\n",
      "text prior to parsing. `converters` can be a dictionary that maps\n",
      "preprocessing functions to each column:\n",
      "\n",
      ">>> s = StringIO(\"1.618, 2.296\\n3.141, 4.669\\n\")\n",
      ">>> conv = {\n",
      "...     0: lambda x: np.floor(float(x)),  # conversion fn for column 0\n",
      "...     1: lambda x: np.ceil(float(x)),  # conversion fn for column 1\n",
      "... }\n",
      ">>> np.loadtxt(s, delimiter=\",\", converters=conv)\n",
      "array([[1., 3.],\n",
      "       [3., 5.]])\n",
      "\n",
      "`converters` can be a callable instead of a dictionary, in which case it\n",
      "is applied to all columns:\n",
      "\n",
      ">>> s = StringIO(\"0xDE 0xAD\\n0xC0 0xDE\")\n",
      ">>> import functools\n",
      ">>> conv = functools.partial(int, base=16)\n",
      ">>> np.loadtxt(s, converters=conv)\n",
      "array([[222., 173.],\n",
      "       [192., 222.]])\n",
      "\n",
      "This example shows how `converters` can be used to convert a field\n",
      "with a trailing minus sign into a negative number.\n",
      "\n",
      ">>> s = StringIO('10.01 31.25-\\n19.22 64.31\\n17.57- 63.94')\n",
      ">>> def conv(fld):\n",
      "...     return -float(fld[:-1]) if fld.endswith(b'-') else float(fld)\n",
      "...\n",
      ">>> np.loadtxt(s, converters=conv)\n",
      "array([[ 10.01, -31.25],\n",
      "       [ 19.22,  64.31],\n",
      "       [-17.57,  63.94]])\n",
      "\n",
      "Using a callable as the converter can be particularly useful for handling\n",
      "values with different formatting, e.g. floats with underscores:\n",
      "\n",
      ">>> s = StringIO(\"1 2.7 100_000\")\n",
      ">>> np.loadtxt(s, converters=float)\n",
      "array([1.e+00, 2.7e+00, 1.e+05])\n",
      "\n",
      "This idea can be extended to automatically handle values specified in\n",
      "many different formats:\n",
      "\n",
      ">>> def conv(val):\n",
      "...     try:\n",
      "...         return float(val)\n",
      "...     except ValueError:\n",
      "...         return float.fromhex(val)\n",
      ">>> s = StringIO(\"1, 2.5, 3_000, 0b4, 0x1.4000000000000p+2\")\n",
      ">>> np.loadtxt(s, delimiter=\",\", converters=conv, encoding=None)\n",
      "array([1.0e+00, 2.5e+00, 3.0e+03, 1.8e+02, 5.0e+00])\n",
      "\n",
      "Note that with the default ``encoding=\"bytes\"``, the inputs to the\n",
      "converter function are latin-1 encoded byte strings. To deactivate the\n",
      "implicit encoding prior to conversion, use ``encoding=None``\n",
      "\n",
      ">>> s = StringIO('10.01 31.25-\\n19.22 64.31\\n17.57- 63.94')\n",
      ">>> conv = lambda x: -float(x[:-1]) if x.endswith('-') else float(x)\n",
      ">>> np.loadtxt(s, converters=conv, encoding=None)\n",
      "array([[ 10.01, -31.25],\n",
      "       [ 19.22,  64.31],\n",
      "       [-17.57,  63.94]])\n",
      "\n",
      "Support for quoted fields is enabled with the `quotechar` parameter.\n",
      "Comment and delimiter characters are ignored when they appear within a\n",
      "quoted item delineated by `quotechar`:\n",
      "\n",
      ">>> s = StringIO('\"alpha, #42\", 10.0\\n\"beta, #64\", 2.0\\n')\n",
      ">>> dtype = np.dtype([(\"label\", \"U12\"), (\"value\", float)])\n",
      ">>> np.loadtxt(s, dtype=dtype, delimiter=\",\", quotechar='\"')\n",
      "array([('alpha, #42', 10.), ('beta, #64',  2.)],\n",
      "      dtype=[('label', '<U12'), ('value', '<f8')])\n",
      "\n",
      "Quoted fields can be separated by multiple whitespace characters:\n",
      "\n",
      ">>> s = StringIO('\"alpha, #42\"       10.0\\n\"beta, #64\" 2.0\\n')\n",
      ">>> dtype = np.dtype([(\"label\", \"U12\"), (\"value\", float)])\n",
      ">>> np.loadtxt(s, dtype=dtype, delimiter=None, quotechar='\"')\n",
      "array([('alpha, #42', 10.), ('beta, #64',  2.)],\n",
      "      dtype=[('label', '<U12'), ('value', '<f8')])\n",
      "\n",
      "Two consecutive quote characters within a quoted field are treated as a\n",
      "single escaped character:\n",
      "\n",
      ">>> s = StringIO('\"Hello, my name is \"\"Monty\"\"!\"')\n",
      ">>> np.loadtxt(s, dtype=\"U\", delimiter=\",\", quotechar='\"')\n",
      "array('Hello, my name is \"Monty\"!', dtype='<U26')\n",
      "\n",
      "Read subset of columns when all rows do not contain equal number of values:\n",
      "\n",
      ">>> d = StringIO(\"1 2\\n2 4\\n3 9 12\\n4 16 20\")\n",
      ">>> np.loadtxt(d, usecols=(0, 1))\n",
      "array([[ 1.,  2.],\n",
      "       [ 2.,  4.],\n",
      "       [ 3.,  9.],\n",
      "       [ 4., 16.]])\n",
      "\u001b[0;31mFile:\u001b[0m      /nix/store/x373jqidfn9mc4xk47yw0n7aw0c5izig-python3-3.10.13-env/lib/python3.10/site-packages/numpy/lib/npyio.py\n",
      "\u001b[0;31mType:\u001b[0m      function"
     ]
    }
   ],
   "source": [
    "np.loadtxt?"
   ]
  },
  {
   "cell_type": "markdown",
   "metadata": {},
   "source": [
    "Aufgabe:\n",
    "\n",
    "- Finden Sie in der Dokumentation das Argument, mit dem Sie festlegen können, wie viele Zeilen am Anfang der Datei übersprungen werden und wenden Sie es an, um Ihre Datei einzulesen."
   ]
  },
  {
   "cell_type": "code",
   "execution_count": 7,
   "metadata": {},
   "outputs": [
    {
     "name": "stdout",
     "output_type": "stream",
     "text": [
      "[[ 1.  1.]\n",
      " [ 4.  2.]\n",
      " [ 9.  3.]\n",
      " [16.  4.]\n",
      " [25.  5.]]\n"
     ]
    }
   ],
   "source": [
    "data = np.loadtxt(file, skiprows=2)\n",
    "print(data)"
   ]
  },
  {
   "cell_type": "markdown",
   "metadata": {},
   "source": [
    "Wenn man nicht von vornherein weiss, wie viele Zeilen Metadaten die Datei enthält, ist es oft am einfachsten die Datei in einem Texteditor zu öffnen und die Zeilen zu zählen. Falls die Zeilen mit den Metadaten alle mit dem gleichen Symbol beginnen (z.B. \"#\"), können diese auch automatisch ignoriert werden, indem man das Argument `comments='#'` verwendet."
   ]
  },
  {
   "cell_type": "markdown",
   "metadata": {},
   "source": [
    "Aufgabe:\n",
    "\n",
    "- Nun haben Sie alle Mittel, die Sie brauchen, um die Daten aus der Beispieldatei \"example_data.txt\" einzulesen. Versuchen Sie es!"
   ]
  },
  {
   "cell_type": "code",
   "execution_count": 11,
   "metadata": {},
   "outputs": [
    {
     "name": "stdout",
     "output_type": "stream",
     "text": [
      "[[ 0.00000000e+00  7.27941176e+00  2.20957359e+08 -5.98748177e-21]\n",
      " [ 1.91035016e-01  7.38970588e+00  2.20957333e+08 -5.98748177e-21]\n",
      " [ 0.00000000e+00  7.50000000e+00  2.22048844e+08 -6.05622763e-21]\n",
      " ...\n",
      " [ 6.49519053e+00 -3.52941176e+00  2.20957324e+08 -5.98748177e-21]\n",
      " [ 6.30415551e+00 -3.63970588e+00  2.20957338e+08 -5.98748177e-21]\n",
      " [ 6.49519053e+00 -3.75000000e+00  2.22048844e+08 -6.05622763e-21]]\n"
     ]
    }
   ],
   "source": [
    "data = np.loadtxt('example_data.txt', comments='%')\n",
    "print(data)"
   ]
  },
  {
   "cell_type": "markdown",
   "metadata": {},
   "source": [
    "Weiter unten in diesem Notebook gibt es noch Beispiele mit Erklärungen zu etwas allgemeineren Möglichkeiten Daten einzulesen. Dies kann nützlich sein, wenn man nicht genau weiss, wie die Daten Strukturiert sind, oder einen Code schreibt, der verschiedene Arten von Daten lesen soll. Für diesen Kurs wird die Funktion np.loadtxt jedoch ausreichen."
   ]
  },
  {
   "cell_type": "markdown",
   "metadata": {},
   "source": [
    "### Daten abspeichern"
   ]
  },
  {
   "cell_type": "markdown",
   "metadata": {},
   "source": [
    "Nun wollen wir die Daten wieder abspeichern um sie zu archivieren oder sie gegebenenfalls zu einem späteren Zeitpunkt weiter zu analysieren.\n",
    "\n",
    "Hierzu gibt es verschiedene Möglichkeiten:\n",
    "\n",
    "1) Die einfachste Möglichkeit ist wieder die Numpy-Funktion savetxt, das Äquivalent zu loadtxt:\n"
   ]
  },
  {
   "cell_type": "code",
   "execution_count": 12,
   "metadata": {},
   "outputs": [],
   "source": [
    "x = np.array([1, 2, 3, 4, 5])\n",
    "y = np.array([0.1, 0.2, 0.3, 0.4, 0.5])\n",
    "z = np.array([-5, -6, -7, -8, -9])\n",
    "\n",
    "np.savetxt('DataOut.txt', (x,y,z), delimiter=',')"
   ]
  },
  {
   "cell_type": "markdown",
   "metadata": {},
   "source": [
    "Die wichtigsten Parameter sind hier:\n",
    "- 'DataOut.txt': Der Dateiname der Ausgabedatei. Hier könnte auch wieder ein absoluter Pfad angegeben werden. In dieser einfachen Form mit einem Dateinamen wird die Datei im aktuellen Arbeitsverzeichnis erstellt.\n",
    "- (x,y,z): Die Daten, die wir abspeichern wollen. Hier übergeben wir die drei Arrays, die Zeilenweise abgespeichert werden.\n",
    "- delimiter=',': Der Delimiter, also das Zeichen, mit dem die einzelnen Datenwerte in der Datei voneinander getrennt werden.\n",
    "\n",
    "Aufgabe:\n",
    "- Öffnen Sie sie Datei die sie so erstellt haben. Was ist anders als in der Datei, die wir eingelesen haben?\n",
    "- Überlegen Sie sich, wie wir vorgehen könnten um die Daten in dem gleichen Format abzuspeichern wie in der Datei die wir eingelesen haben."
   ]
  },
  {
   "cell_type": "markdown",
   "metadata": {},
   "source": [
    "Um Metadaten einzufügen, kann man einen String für das Argument `header` übergeben."
   ]
  },
  {
   "cell_type": "code",
   "execution_count": 13,
   "metadata": {},
   "outputs": [],
   "source": [
    "np.savetxt('DataOut.txt', (x,y,z), delimiter=',', header='Beispieldatei Datenanalyse, 14.2.2023. Format: x, y, z')"
   ]
  },
  {
   "cell_type": "markdown",
   "metadata": {},
   "source": [
    "### Format Strings: Zahlenwerte für die Ausgabe formatieren"
   ]
  },
  {
   "cell_type": "markdown",
   "metadata": {},
   "source": [
    "Berechnete Zahlenwerte, die ausgegeben werden, müssen oft formatiert werden, z.B. um eine sinnvolle Anzahl signifikanter Ziffern anzugeben. Ausserdem möchte man häufig einen beschreibenden Text damit kombinieren. Beides wird mit format strings erreicht.\n",
    "\n",
    "Hierzu werden in einem String Platzhalter eingefügt, und die Werte, die die Platzhalter ersetzen sollen, mit der `format` Funktion an den String weitergegeben."
   ]
  },
  {
   "cell_type": "code",
   "execution_count": 14,
   "metadata": {},
   "outputs": [
    {
     "name": "stdout",
     "output_type": "stream",
     "text": [
      "Die Summe der Zahlen 3 und 5 ist gleich 8.\n"
     ]
    }
   ],
   "source": [
    "print('Die Summe der Zahlen {} und {} ist gleich {}.'.format(3, 5, 8))"
   ]
  },
  {
   "cell_type": "markdown",
   "metadata": {},
   "source": [
    "Die geschweiften Klammern sind die Platzhalter für die Werte der Argumente der format-Funktion.\n",
    "\n",
    "In den Platzhaltern kann man Formatierungsanweisungen einfügen, die angeben wie die Zahlen interpretiert und formatiert werden sollen:\n",
    "- `{:d}` : Integer\n",
    "- `{:f}` : Fliesskomma\n",
    "- `{:0.2f}`: Fliesskomma mit 2 Nachkommastellen"
   ]
  },
  {
   "cell_type": "code",
   "execution_count": 20,
   "metadata": {},
   "outputs": [
    {
     "name": "stdout",
     "output_type": "stream",
     "text": [
      "1.35\n"
     ]
    }
   ],
   "source": [
    "print('{:.2f}'.format(1.3502))"
   ]
  },
  {
   "cell_type": "markdown",
   "metadata": {},
   "source": [
    "Aufgabe:\n",
    "\n",
    "- Probieren Sie verschieden Formate aus. Erzeugen Sie zum Beispiel mit einer Funktion wie np.exp Gleitkommazahlen und geben Sie diese mit einer fixen Anzahl Ziffern aus."
   ]
  },
  {
   "cell_type": "code",
   "execution_count": 21,
   "metadata": {},
   "outputs": [
    {
     "name": "stdout",
     "output_type": "stream",
     "text": [
      "3.4212\n"
     ]
    }
   ],
   "source": [
    "print('{:.4f}'.format(np.exp(1.23)))"
   ]
  },
  {
   "cell_type": "markdown",
   "metadata": {},
   "source": [
    "Solche Formatierungsanweisungen können auch in der np.savetxt Funktion verwendet werden, um die Darstellung der Zahlen zu bestimmen."
   ]
  },
  {
   "cell_type": "markdown",
   "metadata": {},
   "source": [
    "## Zusammenfassung"
   ]
  },
  {
   "cell_type": "markdown",
   "metadata": {},
   "source": [
    "Mit diesen einfachen Beispielen können Sie nun Daten aus Textdateien einlesen und weiterverarbeiten. Darüber hinaus können Sie Daten in Textdateien abspeichern und Zahlenwerte in formatierte Strings umwandeln.\n"
   ]
  },
  {
   "cell_type": "markdown",
   "metadata": {},
   "source": [
    "## Zusatz: Manuelles Einlesen von Dateien"
   ]
  },
  {
   "cell_type": "markdown",
   "metadata": {},
   "source": [
    "Sie haben in den Übungen die Funktion np.loadtxt schon ein bisschen kennen gelernt und damit gearbeitet. Wir wollen nun ein bisschen allgemeiner auf Daten in Textdateien blicken.\n",
    "\n",
    "Oft liegen die Daten aber in einem speziellen Format vor (z.B. vorgegeben von dem Messgerät das die Datei erzeugt hat) und wir wollen sie auch entsprechend einlesen.\n",
    "Um zu verstehen wie die Daten in einer Datei vorliegen können wir die Datei mit einem Editor öffnen und betrachten. Wir können aber auch in Python eine Datei etwas allgemeiner verstehen:\n",
    "\n",
    "Um alle Zeilen einer Textdatei einzulesen und in einer Liste aus Strings zu speichern ist folgender Code praktisch:"
   ]
  },
  {
   "cell_type": "code",
   "execution_count": 27,
   "metadata": {},
   "outputs": [],
   "source": [
    "with open('Data.txt', 'r') as f:\n",
    "    lines = f.readlines()"
   ]
  },
  {
   "cell_type": "markdown",
   "metadata": {},
   "source": [
    "Mit dem open-Befehl öffnen wir die Datei (hier die Datei mit dem Pfad 'file'). Um die Datei nur zu lesen, übergeben wir das Argument 'r' (um die Datei zu schreiben würden wir 'w' übergeben). Die Variable 'f' ist ein Datei-Objekt auf dem wir Methoden wie z.B. hier readlines() anwenden können. Die Methode readlines() übergibt eine Liste aus Strings die alle Zeilen der Datei beinhaltet.\n",
    "Die 'with' Umgebung garantiert, dass die Datei am Ende (auch im Misserfolg) wieder ordentlich geschlossen wird.\n",
    "\n",
    "Wir können diese Zeilen ausgeben:"
   ]
  },
  {
   "cell_type": "code",
   "execution_count": 28,
   "metadata": {},
   "outputs": [
    {
     "name": "stdout",
     "output_type": "stream",
     "text": [
      "['x, y\\n', '0.1, 0.31\\n', '0.2, 0.45\\n', '0.3, 0.55\\n']\n"
     ]
    }
   ],
   "source": [
    "print(lines)"
   ]
  },
  {
   "cell_type": "markdown",
   "metadata": {},
   "source": [
    "\n",
    "Die Variable lines ist eine Liste in der jedes Element eine Zeile als String beinhaltet. Um auf eine einzelne Zeile bzw. ein Element in dieser Liste zugreifen zu können, indexieren wir dieses Element:"
   ]
  },
  {
   "cell_type": "code",
   "execution_count": 29,
   "metadata": {},
   "outputs": [
    {
     "name": "stdout",
     "output_type": "stream",
     "text": [
      "0.1, 0.31\n",
      "\n"
     ]
    }
   ],
   "source": [
    "print(lines[1])"
   ]
  },
  {
   "cell_type": "markdown",
   "metadata": {},
   "source": [
    "Dies gibt uns das zweite Element aus der Liste 'lines' aus. Falls Sie mehr als eine Zeile Metadaten in die Datei eingegeben haben, müssen Sie den Index anpassen, um die erste Zeile mit Daten zu erhalten.\n",
    "\n",
    "Um mit den Daten arbeiten zu können, müssen wir sie aus dem String extrahieren und in ein Zahlenformat umwandeln. Das können wir z.B. mit dem Numpy-Befehl np.fromstring() machen:"
   ]
  },
  {
   "cell_type": "code",
   "execution_count": 32,
   "metadata": {},
   "outputs": [],
   "source": [
    "a = np.fromstring(lines[1], dtype=float, sep=',')"
   ]
  },
  {
   "cell_type": "markdown",
   "metadata": {},
   "source": [
    "Hier übergeben wir als Argumente:\n",
    "- lines[1]: Die zweite Zeile aus der Datei\n",
    "- dtype=float: Hiermit spezifizieren wie wir die Zahlen interpretiert werden sollen. In diesem Fall als Fliesskommazahl (Floating point, kurz float). Für Integer könnten wir int übergeben.\n",
    "- sep=' ': Hiermit spezifizieren wir wodurch die einzelnen Zahlen in dem String separiert werden. Der sogenannte Delimiter. Hier ist das ein Leerzeichen. Oft werden in Dateien die einzelnen Werte mit einem Komma separiert, dann würde man sep=',' als Delimiter übergeben.\n",
    "\n",
    "Das Ergebnis ist ein Array 'a' aus float Zahlen.\n",
    "\n",
    "Mit"
   ]
  },
  {
   "cell_type": "code",
   "execution_count": 33,
   "metadata": {},
   "outputs": [
    {
     "name": "stdout",
     "output_type": "stream",
     "text": [
      "[0.1  0.31]\n"
     ]
    }
   ],
   "source": [
    "print(a)"
   ]
  },
  {
   "cell_type": "markdown",
   "metadata": {},
   "source": [
    "können wir wiederum das Array ausgeben."
   ]
  },
  {
   "cell_type": "markdown",
   "metadata": {},
   "source": [
    "Idealerweise beinhalten Daten-Dateien nicht nur die Daten (also Zahlen), sondern auch Metainformation über die Daten bzw. das Experiment durch das sie zustande gekommen sind. Ein einfaches Beispiel wäre eine Datei mit folgendem Inhalt:\n",
    "\n",
    "x, y<br>\n",
    "0.1, 0.31<br>\n",
    "0.2, 0.45<br>\n",
    "0.3, 0.55<br>\n",
    "\n",
    "Hier sind offensichtlich die Werte für x und y genmessen worden. "
   ]
  },
  {
   "cell_type": "markdown",
   "metadata": {},
   "source": [
    "Aufgabe:\n",
    "- Kopieren sie diesen Textblock in Ihre Data.txt Datei, oder erzeugen Sie einen ähnlichen Inhalt, und speichern Sie die Datei ab.\n",
    "- Öffnen Sie die Datei in Python und laden Sie alle Zeilen in eine Liste aus Strings.\n",
    "- Geben Sie diese Liste aus Strings aus.\n",
    "\n",
    "Wenn wir nun die Daten aus der Liste aus Strings extrahieren wollen, müssen wir die erste Zeile ignorieren, weil diese keine Zahlenwerte enthält.\n",
    "Wir müssen also alle, bis auf die erste Zeile in ein Daten-Array umwandeln. Dazu verwenden wir hier eine Schleife:"
   ]
  },
  {
   "cell_type": "code",
   "execution_count": 34,
   "metadata": {},
   "outputs": [
    {
     "name": "stdout",
     "output_type": "stream",
     "text": [
      "x, y\n",
      "\n",
      "0.1, 0.31\n",
      "\n",
      "0.2, 0.45\n",
      "\n",
      "0.3, 0.55\n",
      "\n"
     ]
    }
   ],
   "source": [
    "for l in lines:\n",
    "    print(l)"
   ]
  },
  {
   "cell_type": "markdown",
   "metadata": {},
   "source": [
    "Diese einfache Schleife wird für jedes Element in lines durchgeführt. Um nun das erste Element zu überspringen schreiben wir:"
   ]
  },
  {
   "cell_type": "code",
   "execution_count": 35,
   "metadata": {},
   "outputs": [
    {
     "name": "stdout",
     "output_type": "stream",
     "text": [
      "0.1, 0.31\n",
      "\n",
      "0.2, 0.45\n",
      "\n",
      "0.3, 0.55\n",
      "\n"
     ]
    }
   ],
   "source": [
    "for l in lines[1:]:\n",
    "    print(l)"
   ]
  },
  {
   "cell_type": "markdown",
   "metadata": {},
   "source": [
    "In den eckigen Klammern wird der Index bzw ein Bereich einer Liste oder eines Arrays indiziert.\n",
    "\n",
    "\n",
    "Um nun die Daten in ein Array einzulesen können wir wie folgt vorgehen:"
   ]
  },
  {
   "cell_type": "code",
   "execution_count": 36,
   "metadata": {},
   "outputs": [],
   "source": [
    "i = 0\n",
    "for l in lines[1:]:\n",
    "    if (i==0):\n",
    "        d = np.array([np.fromstring(l, dtype=float, sep=',')])\n",
    "    else:\n",
    "        d = np.append(d, np.array([np.fromstring(l, dtype=float, sep=',')]), axis=0)\n",
    "    i = i+1"
   ]
  },
  {
   "cell_type": "markdown",
   "metadata": {},
   "source": [
    "Dies ist ein Beispiel für den Fall, dass wir nicht viel Über die Daten in der Datei wissen. Insbesondere wissen wir nicht wie viele Zeilen die Datei hat und auch nicht wie viele Einträge pro Zeile. Wir iterieren durch alle Zeilen ausser der ersten (die ja keine Daten enthält) und für die erste Zeile (i==0) merken wir uns den Array, der aus der Zeile erzeugt wurde.\n",
    "Für alle weiteren Zeilen (i>0) hängen wir die neuen Daten an den Datenarray an. Auf diese Weise erhalten wir einen 2-Dimensionalen Array, in dem gleichen Format wie die Daten in der Datei. Das wird garantiert in dem wir die neue Zeile entlang der Achse 0 an den alten Array anhängen. Was passiert wenn wir stattdessen Achse 1 angeben?\n",
    "Das ist sicher nicht das optimale Vorgehen bei Arrays, ist aber recht einfach.\n",
    "\n",
    "Alternative können wir durch Inspektion der Datei mehr über das Datenformat lernen und etwas anders vorgehen:"
   ]
  },
  {
   "cell_type": "code",
   "execution_count": 38,
   "metadata": {},
   "outputs": [],
   "source": [
    "d = np.zeros((len(lines)-1, 2))\n",
    "i = 0\n",
    "for l in lines[1:]:\n",
    "    d[i,:] = np.array([np.fromstring(l, dtype=float, sep=',')])\n",
    "    i = i+1"
   ]
  },
  {
   "cell_type": "markdown",
   "metadata": {},
   "source": [
    "Hier erzeugen wir uns einen 2-Dimensionalen Array mit den Grössen gegeben durch die Anzahl der Zeilen in der Datei und den Daten pro Zeile. Wir erzeugen das Array mit einer Zeile weniger als wir Zeilen in der Datei haben weil ja die erste Zeile der Datei keine Daten enthält.\n",
    "Dann schreiben wir die Daten zeilenweise in das Array, dabei geben wir die Zeile i des Arrays explizit an. Der Doppelpunkt signalisiert, dass alle Elemente in dieser Zeile ersetzt werden sollen.\n",
    "\n",
    "Nun können wir das Array ausgeben und überprüfen, dass es die Daten im richtigen Format enthält:"
   ]
  },
  {
   "cell_type": "code",
   "execution_count": 39,
   "metadata": {},
   "outputs": [
    {
     "name": "stdout",
     "output_type": "stream",
     "text": [
      "[[0.1  0.31]\n",
      " [0.2  0.45]\n",
      " [0.3  0.55]]\n"
     ]
    }
   ],
   "source": [
    "print(d)"
   ]
  },
  {
   "cell_type": "markdown",
   "metadata": {},
   "source": [
    "In diesem Fall stehen die Werte der Unabhängigen Variable (x) in der ersten Spalte wobei die Werte der abhängigen Variable (y) in der zweiten Spalte stehen.\n",
    "Es ist oft komfortabel die Daten aus dem 2-Dimensionalen Array in zwei 1-Dimensionale Arrays zu extrahieren:"
   ]
  },
  {
   "cell_type": "code",
   "execution_count": 40,
   "metadata": {},
   "outputs": [
    {
     "name": "stdout",
     "output_type": "stream",
     "text": [
      "[0.1 0.2 0.3]\n",
      "[0.31 0.45 0.55]\n"
     ]
    }
   ],
   "source": [
    "x = d[:, 0]\n",
    "y = d[:, 1]\n",
    "\n",
    "print(x)\n",
    "print(y)"
   ]
  },
  {
   "cell_type": "markdown",
   "metadata": {},
   "source": [
    "Hier signalisiert der Doppelpunkt in der Klammer, dass alle Werte aus der ersten Dimension (der Spalte) übernommen werden sollen, die 1 bzw. 2 an der zweiten Stelle gibt die Spalte an, aus der wir die Daten extrahieren.\n",
    "\n",
    "Nun können wir mit den Daten arbeiten, z.B. können wir den Wert einer weiteren Variable z=y^2 berechnen:"
   ]
  },
  {
   "cell_type": "code",
   "execution_count": 41,
   "metadata": {},
   "outputs": [
    {
     "name": "stdout",
     "output_type": "stream",
     "text": [
      "[0.0961 0.2025 0.3025]\n"
     ]
    }
   ],
   "source": [
    "z = y**2\n",
    "\n",
    "print(z)"
   ]
  },
  {
   "cell_type": "markdown",
   "metadata": {},
   "source": [
    "Wir können eine Datei auch zeilenweise schreiben:"
   ]
  },
  {
   "cell_type": "code",
   "execution_count": 42,
   "metadata": {},
   "outputs": [],
   "source": [
    "with open('DataOut.txt', 'w') as f:\n",
    "    f.writelines('x, y, z\\n')\n",
    "    for i in range(0, len(x)):\n",
    "        f.writelines('{:0.5f}, {:0.5f}, {:0.5f}\\n'.format(x[i], y[i], z[i]))"
   ]
  },
  {
   "cell_type": "markdown",
   "metadata": {},
   "source": [
    "Dieses Beispiel ist sehr einfach gehalten. Wir verwenden wieder die 'with' Umgebung, um uns nicht weiter um das öffnen und schliessen der Datei kümmern zu müssen. Wir öffnen die Datei 'DataOut.txt' im Schreibmodus. Hier könnte auch wieder ein Pfad angegeben sein.\n",
    "Mit der Zeile:<br>\n",
    "`f.writelines('x, y, z\\n')`<br>\n",
    "schreiben wir den sogenannten Header in die Datei. Diese Zeile gibt an wie die einzelnen Spalten zu interpretieren sind.\n",
    "Dann iterieren wir über die Länge der Arrays. In jeder Iteration erzeugen wir einen String aus den Werten der Arrays mit dem entsprechenden Index i: Die Ausdrücke in den geschweiften Klammern sind hierbei Platzhalter für die Parameter die in format() übergeben werden. In der geschweiften Klammer ist angegeben in welchem Format die Werte ausgegeben werden sollen, hier mit 5 Dezimalstellen (siehe https://pyformat.info für mehr Details). Das Ende der Zeilen wird mit dem '\\n' Zeilenumbruch markiert. Je nach Betriebssystem können hier andere Steuerzeichen (oder deren Kombination) notwendig sein:<br>\n",
    "\\n Zeilenumbruch<br>\n",
    "\\r neue Zeile (Carriage Return)<br>\n",
    "Eigentlich ist in Windows \\r\\n als Zeilenumbruch definiert, allerdings übersetzt Python \\n (oder \\r) automatisch in die entsprechende Kontrollsequenz des Betriebssystems. Es ist also aus Python heraus nicht notwendig auf diese Systemunterschiede zu achten.\n",
    "\n",
    "Öffnen Sie wieder die so erzeugte Datei und inspizieren Sie das Ergebnis."
   ]
  },
  {
   "cell_type": "code",
   "execution_count": null,
   "metadata": {},
   "outputs": [],
   "source": []
  },
  {
   "cell_type": "markdown",
   "metadata": {},
   "source": [
    "# **Skillcheck Aufgabe (Optional)**  \n",
    "Diese Aufgabe ist eine fortgeschrittene Aufgabe, die alle vorgestellten Konzepte der Übung kombiniert. Zu dieser Aufgabe gibt es mehrere mögliche Lösungswege!  \n",
    "Im aktuellen Ordner befindet sich die Datei Skillcheck.txt. Diese enthält eine Liste bestehend aus zwei verschiedenen Zahlen. Schreiben sie ein Programm, welches die Liste in ein Array lädt und dann durch diese in einem for loop iteriert. Am Ende soll die Zahl ausgegeben werden, die am häufigsten in der Datei vorkommt. (Unter der Annahme das die zwei Zahlen nicht gleich oft vorkommen).  \n",
    "Extra Challenge: Schaffen sie es mit nur einer counter und einer candidate Variablen?"
   ]
  },
  {
   "cell_type": "code",
   "execution_count": 47,
   "metadata": {},
   "outputs": [
    {
     "name": "stdout",
     "output_type": "stream",
     "text": [
      "-110\n",
      "two\n"
     ]
    }
   ],
   "source": [
    "data = np.loadtxt('Skillcheck.txt')\n",
    "num = 0\n",
    "for i in data:\n",
    "    if i == 1:\n",
    "        num += 1\n",
    "    elif i == 2:\n",
    "        num -= 1\n",
    "\n",
    "print(num)\n",
    "if num > 0:\n",
    "    print('one')\n",
    "elif num < 0:\n",
    "    print('two')"
   ]
  }
 ],
 "metadata": {
  "kernelspec": {
   "display_name": "Python 3 (ipykernel)",
   "language": "python",
   "name": "python3"
  },
  "language_info": {
   "codemirror_mode": {
    "name": "ipython",
    "version": 3
   },
   "file_extension": ".py",
   "mimetype": "text/x-python",
   "name": "python",
   "nbconvert_exporter": "python",
   "pygments_lexer": "ipython3",
   "version": "3.10.13"
  },
  "latex_envs": {
   "LaTeX_envs_menu_present": true,
   "autoclose": false,
   "autocomplete": true,
   "bibliofile": "biblio.bib",
   "cite_by": "apalike",
   "current_citInitial": 1,
   "eqLabelWithNumbers": true,
   "eqNumInitial": 1,
   "hotkeys": {
    "equation": "Ctrl-E",
    "itemize": "Ctrl-I"
   },
   "labels_anchors": false,
   "latex_user_defs": false,
   "report_style_numbering": false,
   "user_envs_cfg": false
  },
  "toc": {
   "base_numbering": 1,
   "nav_menu": {},
   "number_sections": false,
   "sideBar": true,
   "skip_h1_title": false,
   "title_cell": "Table of Contents",
   "title_sidebar": "Contents",
   "toc_cell": false,
   "toc_position": {},
   "toc_section_display": true,
   "toc_window_display": false
  }
 },
 "nbformat": 4,
 "nbformat_minor": 4
}
