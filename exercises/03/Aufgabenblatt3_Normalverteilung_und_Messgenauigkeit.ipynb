{
 "cells": [
  {
   "cell_type": "markdown",
   "id": "2a3e5f05",
   "metadata": {},
   "source": [
    "# Aufgabenblatt 3"
   ]
  },
  {
   "cell_type": "markdown",
   "id": "3c60d5da-fd77-47df-b5f8-11098f218873",
   "metadata": {},
   "source": [
    "<p style=\"border-left:5px solid red;padding:0.6em;box-sizing:border-box;\">\n",
    "<strong>Lernziele:</strong><br/>\n",
    "    Diese Übung zeigt ihnen die Synatax für das erstellen von Funktionen in Python. Ausserdem führen wir die ersten statistischen Berechnungen durch und lernen diese in sinnvollen Plots darzustellen.\n",
    "</p>\n",
    "\n",
    "<p style=\"border-left:5px solid blue;padding:0.6em;box-sizing:border-box;\">\n",
    "<strong>Wichtigste neuen Funktionen für diese Übung:</strong><br/>\n",
    "    Dies sind die wichtigsten Funktionen die sie während dieser Übung benötigen:<br>\n",
    "    Die jeweilige Syntax beschreibt eine examplarische Verwendung. Im allgemeinen haben die Funktionen weitere Argumente die übergeben werden können. Der Funktionsname ist jeweils ein Link zur offiziellen Dokumentation, welche alle Argumente darlegt und ihre Funktion beschreibt. <br>\n",
    "    <b>Funktionen zur statistischen Analyse: </b><br>\n",
    "    <a href=\"https://numpy.org/doc/stable/reference/generated/numpy.sqrt.html\">numpy.sqrt(data)</a> Berechnet die Wurzel eines Skalars oder elementweise eines Arrays.<br>\n",
    "    <a href=\"https://numpy.org/doc/stable/reference/generated/numpy.mean.html\">numpy.mean(data)</a> Berechnet den Mittelwert aller Werte im Array <em>data</em>. <br>\n",
    "    <a href=\"https://numpy.org/doc/stable/reference/generated/numpy.std.html\">numpy.std(data)</a> Berechnet die Standardabweichung aller Werte im Array <em>data</em>. <br>\n",
    "    <a href=\"https://numpy.org/doc/stable/reference/random/generated/numpy.random.rand.html\">numpy.random.rand(d0, d1, ...)</a> Erstellt ein Array der Grösse [d0 ,d1, ...] mit Zufallszahlen, gezogen aus einer uniformen Verteilung zwischen [0,1). Beispiel: erstellen eines 1000-elemente langen Zufallsvektor: vec = np.random.rand(1000)<br>\n",
    "    <a href=\"https://numpy.org/doc/stable/reference/generated/numpy.histogram.html\">hist = numpy.histogram(data, number_of_bins)</a> Sortiert die Daten <em>data</em> in <em>number_of_bins</em> gleichgrossen Bins auf. Der Rückgabewert ist ein Array, welches die Grenzen sowie die Population der Bins enthält.<br>\n",
    "    <b>Funktionen zum Plotten: </b><br>\n",
    "    <a href=\"https://matplotlib.org/stable/api/_as_gen/matplotlib.pyplot.figure.html\">figure = matplotlib.pyplot.figure()</a> Erstellt eine neue Figur und gibt den Handle zu dieser zurück.<br>\n",
    "    <a href=\"https://matplotlib.org/stable/api/_as_gen/matplotlib.pyplot.subplot.html\">axis = matplotlib.pyplot.subplot(nrows, ncolumn, index)</a> Erstellt einen neuen Plot in der aktuellen Figur. Erlaubt es mehrere Figuren in einem Plot zu haben. Mittels der Argumente kann der <em>index</em>te Plot in einem Grid mit <em>nrows</em> Reihen und <em>ncolumns</em> Spalten erstellt werden.<br>\n",
    "    <a href=\"https://matplotlib.org/stable/api/_as_gen/matplotlib.pyplot.plot.html\">axis.plot(x, y)</a> Plotted die Daten x,y in einem Graphen.<br>\n",
    "    <a href=\"https://matplotlib.org/stable/api/_as_gen/matplotlib.axes.Axes.set_xlabel.html\">axis.set_xlabel(label)</a> Erstelle ein Label für die X-Achse des aktuellen Graphen.<br>\n",
    "    <a href=\"https://matplotlib.org/stable/api/_as_gen/matplotlib.axes.Axes.set_ylabel.html\">axis.set_ylabel(label)</a> Erstelle ein Label für die Y-Achse des aktuellen Graphen.<br>\n",
    "    <a href=\"https://matplotlib.org/stable/api/_as_gen/matplotlib.axes.Axes.set_title.html\">axis.set_title(title)</a> Erstelle einen Titel für den aktuellen Graphen.<br>\n",
    "    <a href=\"https://matplotlib.org/stable/api/_as_gen/matplotlib.axes.Axes.bar.html\">axis.bar(x, heights, width)</a> Erstelle ein Balkendiagramm mit den Balken an den Positionen x und den Höhen <em>heights</em>. Die Breite der Balken kann über den Parameter <em>width</em> angepasst werden.<br>\n",
    "</p>"
   ]
  },
  {
   "cell_type": "markdown",
   "id": "77cf4a8a",
   "metadata": {},
   "source": [
    "# Aufgabe 1 - Mittelwert und Standardabweichung\n",
    "## **Hintergrund: Python Funktionen**"
   ]
  },
  {
   "cell_type": "markdown",
   "id": "c3e50b52",
   "metadata": {},
   "source": [
    "Funktionen sind ein fundamentales Tool beim Schreiben von Code. Im Folgenden wollen wir eine kleine Einführung zu Funktionen in Python geben. Sie ist gezielt einfach und kurz gehalten, beinhaltet aber alles, was Sie für den Start benötigen.  Die Definition einer Python-Funktion beginnt mit 'def', gefolgt vom Funktionsnamen und, falls benötigt, den zu übergebenden Argumenten in der Klammer. Analog zu for Schleifen ist der zur Funktion gehörende Code dadurch definiert, dass er eingerückt ist:\n",
    "\n",
    "```\n",
    "def funcion_name(parameter1, parameter2, keyword_argument=initial_value):\n",
    "\t\"\"\"Docstring\"\"\"\n",
    "    # some code\n",
    "\treturn return_value1, return_value2\n",
    "```\n",
    "    \n",
    " Dabei können `parameter1`, `parameter2` und `keyword_argument` beliebige Datentypen sein, z.B. `int`, `np.ndarray`, `str`, etc. Der Unterschied zwischen `keyword_argument` und `parameter1` oder `parameter2` ist, dass die Parameter die Reihe nach zugewiesen werden (das erste Argument wird dem ersten Parameter zugewiese usw.), während Keyword Arguments auch über das Keyword zugewiesen werden können. Zusätzlich können Keyword Arguments einen Standardwert haben. Das `return` statement ist nur notwendig, wenn man einen Wert zurückgeben will und kann ansonsten weggelassen werden. Es können eine oder mehrere mit Kommas separierte Variablen ausgegeben werden und sie können beliebige Datentypen annehmen.\n",
    "\n",
    "Im Folgenden sind einige einfache Funktionen aufgeführt, die die Funktionsweise illustrieren sollten.\n"
   ]
  },
  {
   "cell_type": "code",
   "execution_count": null,
   "id": "ad1a161b",
   "metadata": {},
   "outputs": [],
   "source": [
    "import numpy as np\n",
    "\n",
    "def simple_print():\n",
    "    print('Always the same.')\n",
    "\n",
    "def print_input(text):\n",
    "    print('Prints: {:s}'.format(text))\n",
    "\n",
    "def linear_function(x, a):\n",
    "    y = x * a\n",
    "    return y \n",
    "\n",
    "# Die erste Funktion braucht kein Argument:\n",
    "simple_print()\n",
    "\n",
    "# Die zweite Funktion verwended das Argument:\n",
    "print_input('This')\n",
    "text = 'Or that'\n",
    "print_input(text)\n",
    "\n",
    "# Die dritte Funktion gibt \n",
    "x = 5\n",
    "y = linear_function(x, 2)\n",
    "print(y)\n",
    "x = np.linspace(0, 3, 3)\n",
    "y = linear_function(x, 2)\n",
    "print(y)"
   ]
  },
  {
   "cell_type": "code",
   "execution_count": null,
   "id": "2ffb624c",
   "metadata": {},
   "outputs": [],
   "source": [
    "def print_param(param1, param2, param3=3, param4=4):\n",
    "    print('Param1: {:d}; Param2: {:d}, Param3: {:d}, Param4: {:d}'.format(param1, param2, param3, param4))\n",
    "\n",
    "# Wir können die Standardwerte für die Keyword Argumente benutzen:\n",
    "print_param(1, 2)\n",
    "# Die Reihenfolge der Parameter ist entscheidend\n",
    "print_param(2, 1)\n",
    "# Wir können Keyword Argumente als Parameter benutzen\n",
    "print_param(1, 2, 3, 4)\n",
    "# Oder als Keyword\n",
    "print_param(1, 2, param4=8)"
   ]
  },
  {
   "cell_type": "markdown",
   "id": "f1fc45cf",
   "metadata": {},
   "source": [
    "Eine Besonderheit von Python-Funktionen ist, dass sie auch auf Variablen ausserhalb der Funktionsdefinition zugreifen können. Dies kann ein verlockend einfacher Weg sein Variablen an eine Funktion zu übergeben, es ist aber ratsam, die benötigten Variablen über die Funktionsdefinition zu übergeben. Besonders bei verschachtelten Codes kann es schnell vorkommen, dass eine Funktion nicht mehr macht was sie soll, weil eine Variable ausserhalb der Funktionsdefinition geändert wurde."
   ]
  },
  {
   "cell_type": "code",
   "execution_count": null,
   "id": "b15339fe",
   "metadata": {},
   "outputs": [],
   "source": [
    "a = 5 \n",
    "def print_a():\n",
    "    print(a)\n",
    "    \n",
    "print_a()\n",
    "a= 4\n",
    "print_a()"
   ]
  },
  {
   "cell_type": "markdown",
   "id": "52e44900",
   "metadata": {},
   "source": [
    "## **Aufgabe 1: Mittelwert und Standardabweichung**"
   ]
  },
  {
   "cell_type": "markdown",
   "id": "3dd49d11",
   "metadata": {},
   "source": [
    "a.) Schreiben Sie selbst eine Funktion, die den Mittelwert und die Standardabweichung von einem Array berechnet. Nutzen Sie dafür keine importierten Packages ausser `np.sqrt()`, sondern ausschliesslich die built-in Funktionen und Methoden wie `for`, `len()`, etc."
   ]
  },
  {
   "cell_type": "code",
   "execution_count": null,
   "id": "6569313f",
   "metadata": {},
   "outputs": [],
   "source": [
    "# Ihr Code"
   ]
  },
  {
   "cell_type": "markdown",
   "id": "4e73fabe",
   "metadata": {},
   "source": [
    "b.) Überprüfen Sie nun die selbstgeschriebenen Funktionen mit den numpy Funktionen `np.mean()` und `np.std()`, indem Sie den Mittelwert und die Standardabweichung  von zufällig generierten Werten berechnen. Benutzen Sie dazu die Funktion `np.random.rand()`. Hilfe zu den Funktion finden Sie in der Dokumentation mit `np.random.rand?`, `np.mean?` und  `np.std?`."
   ]
  },
  {
   "cell_type": "code",
   "execution_count": null,
   "id": "8561803b",
   "metadata": {},
   "outputs": [],
   "source": [
    "# Ihr Code"
   ]
  },
  {
   "cell_type": "markdown",
   "id": "06228a10",
   "metadata": {},
   "source": [
    "## **Hintergrund (Wiederholung): Erstellen von Grafen**"
   ]
  },
  {
   "cell_type": "markdown",
   "id": "b44cd6b2",
   "metadata": {},
   "source": [
    "Eine der wichtigsten Schritte beim Verarbeiten und Verstehen von Daten ist die grafische Darstellung der Werte. Eine weit verbreitetes Package ist `matplotlib`, es beinhaltet zahlreiche Möglichkeiten beliebig komplizierte Plots zu erstellen. Für die meisten Anwendungen genügt es jedoch aus `matplotlib.pyplot` mit `subplots` eine Figur und die dazugehörigen Achsen zu erstellen, und dann mit `plot` die Werte darzustellen. Zu jedem Plot gehört die Achsenbeschriftung, die mit `ax.set_xlabel` und  `ax.set_ylabel` erstellt werden kann (dazu gehören auch immer die Einheiten der dargestellten Grössen). Um klarzumachen, was dargestellt ist, kann mit `ax.set_title` ein Titel erstellt werden, was insbesondere dann hilfreich ist, wenn es keinen erklärenden Text zum Plot gibt (z.B. hier im Notebook oder in einer Präsentation)."
   ]
  },
  {
   "cell_type": "code",
   "execution_count": null,
   "id": "1e6315de",
   "metadata": {},
   "outputs": [],
   "source": [
    "import matplotlib.pyplot as plt\n",
    "t = np.linspace(0, 5, 100)\n",
    "y = 15 * t - 9.81 / 2 * t**2\n",
    "\n",
    "fig = plt.figure()\n",
    "ax = fig.add_subplot(1, 1, 1)\n",
    "ax.plot(t, y)\n",
    "ax.set_xlabel('t (s)')\n",
    "ax.set_ylabel('y (m)')\n",
    "ax.set_title('Wurfparabel')"
   ]
  },
  {
   "cell_type": "markdown",
   "id": "f02d0541",
   "metadata": {},
   "source": [
    "## **Aufgabe 2: Histogramm und Rauschen**"
   ]
  },
  {
   "cell_type": "markdown",
   "id": "9850d2a5",
   "metadata": {},
   "source": [
    "a.) Wie bereits in der Vorlesung gezeigt wurde, wollen wir hier das Rauschen in einer Messung genauer anschauen. Laden Sie dazu als erstes den Datensatz `ExampleData.txt`. Der Datensatz beinhaltet eine zeitabhängige Spannung mit den Spalten: $t$, $V$, plotten sie die Zeitabhängigkeit der Spannung.\n"
   ]
  },
  {
   "cell_type": "code",
   "execution_count": null,
   "id": "8f743882",
   "metadata": {},
   "outputs": [],
   "source": [
    "# Ihr Code"
   ]
  },
  {
   "cell_type": "markdown",
   "id": "437b73e1",
   "metadata": {},
   "source": [
    "b.) Berechnen Sie Mittelwert und Standardabweichung der Spannung."
   ]
  },
  {
   "cell_type": "code",
   "execution_count": null,
   "id": "bb82b06f",
   "metadata": {},
   "outputs": [],
   "source": [
    "# Ihr Code"
   ]
  },
  {
   "cell_type": "markdown",
   "id": "d03d1947",
   "metadata": {},
   "source": [
    "c.) Plotten Sie das Histogramm der Spannung. Um das Histogramm zu berechnen, können Sie `np.histogram()` und um es in der gewohnten Balken-Form zu plotten `ax.bar()` verwenden. Die Grösse der Bins hat einen grossen Einfluss auf das Histogramm. Testen Sie verschiedene Grössen aus! Was sehen Sie?\n",
    "\n",
    "Der Syntax der Funktionen finden Sie wieder mit der Hilfe Funktion: `np.histogram?` und `ax.bar?`.\n",
    "\n",
    "Beachten Sie, dass die Breite der Balken im Plot kleiner als die Bingrösse gewählt wird."
   ]
  },
  {
   "cell_type": "code",
   "execution_count": null,
   "id": "6125957a",
   "metadata": {},
   "outputs": [],
   "source": [
    "# Ihr Code"
   ]
  },
  {
   "cell_type": "markdown",
   "id": "7601026a",
   "metadata": {},
   "source": [
    "d.) Zuletzt plotten Sie nochmals das Histogramm mit einer sinnvollen Bin-Grösse und zeichnen Sie den Mittelwert sowie die Standardabweichung ein. Hierzu können Sie die Funktion `ax.axvline` des Achsenobjekts verwenden.\n"
   ]
  },
  {
   "cell_type": "code",
   "execution_count": null,
   "id": "2ee5b3fa",
   "metadata": {},
   "outputs": [],
   "source": [
    "# Ihr Code"
   ]
  },
  {
   "cell_type": "markdown",
   "id": "574f5599",
   "metadata": {},
   "source": [
    "## **Zusatzaufgabe: Zentraler Grenzwertsatz**"
   ]
  },
  {
   "cell_type": "markdown",
   "id": "03b187af",
   "metadata": {},
   "source": [
    "Wie in der Vorlesung gezeigt wurde, ergibt eine additive Überlagerung unabhängiger Zufallseffekte im Gesamten zumindest Näherungsweise eine Normalverteilung. In der Vorlesung wurde dies anhand von Würfeln gezeigt, hier versuchen wir das Ergebnis mit Münzen zu reproduzieren. Hierzu weisen wir Kopf und Zahl einfach zwei Zahlenwerte zu, 0 und 1. \n",
    "\n",
    "a) Generieren Sie als erstes die Zufallswerte für den Münzwurf. Dazu eignet sich z.B. `np.random.randint()`. Werfen Sie dafür gleichzeitig N Münzen und schauen Sie sich das Histogramm der Ergebnisse an. Wählen Sie dabei N gross genug um zu überprüfen ob beide möglichen Werte gleich oft vorkommen."
   ]
  },
  {
   "cell_type": "code",
   "execution_count": null,
   "id": "7a0dcd45",
   "metadata": {},
   "outputs": [],
   "source": [
    "# Ihr Code"
   ]
  },
  {
   "cell_type": "markdown",
   "id": "b1e218c8",
   "metadata": {},
   "source": [
    "b) Wiederholen Sie als nächstes dieses Experiment M-mal und summieren Sie für jede der N Münzen die M Ergebnisse auf. Plotten Sie dann das Histogramm der Summen und die dazugehörige (skalierte) Normalverteilung\n",
    "\n",
    "$p(x) = \\frac{N}{\\sqrt{2\\pi\\sigma^2}}e{\\frac{-(x-\\mu)^2}{2\\sigma^2}}$.\n",
    "\n",
    "Vergleichen Sie es für verschiedene Anzahl Wiederholungen."
   ]
  },
  {
   "cell_type": "code",
   "execution_count": null,
   "id": "bd2e6e32",
   "metadata": {},
   "outputs": [],
   "source": [
    "# Ihr Code"
   ]
  },
  {
   "cell_type": "code",
   "execution_count": null,
   "id": "0e87e737",
   "metadata": {},
   "outputs": [],
   "source": []
  }
 ],
 "metadata": {
  "kernelspec": {
   "display_name": "Python 3 (ipykernel)",
   "language": "python",
   "name": "python3"
  },
  "language_info": {
   "codemirror_mode": {
    "name": "ipython",
    "version": 3
   },
   "file_extension": ".py",
   "mimetype": "text/x-python",
   "name": "python",
   "nbconvert_exporter": "python",
   "pygments_lexer": "ipython3",
   "version": "3.12.1"
  },
  "toc": {
   "base_numbering": 1,
   "nav_menu": {},
   "number_sections": true,
   "sideBar": true,
   "skip_h1_title": false,
   "title_cell": "Table of Contents",
   "title_sidebar": "Contents",
   "toc_cell": false,
   "toc_position": {},
   "toc_section_display": true,
   "toc_window_display": true
  }
 },
 "nbformat": 4,
 "nbformat_minor": 5
}
