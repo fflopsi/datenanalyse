{
 "cells": [
  {
   "cell_type": "markdown",
   "id": "92d9e014-7f43-4158-a689-d9aa8254ca0e",
   "metadata": {},
   "source": [
    "# Aufgabenblatt 4"
   ]
  },
  {
   "cell_type": "markdown",
   "id": "d388a1f5-c711-4c63-88b4-587fb7652643",
   "metadata": {},
   "source": [
    "<p style=\"border-left:5px solid red;padding:0.6em;box-sizing:border-box;\">\n",
    "<strong>Lernziele:</strong><br/>\n",
    "    In dieser Übung beschäftigen wir uns mit Messfehlern, sowie der Gaussschen Fehlerfortpflanzung.\n",
    "</p>\n",
    "\n",
    "<p style=\"border-left:5px solid blue;padding:0.6em;box-sizing:border-box;\">\n",
    "<strong>Wichtigste neuen Funktionen für diese Übung:</strong><br/>\n",
    "    Dies sind die wichtigsten Funktionen die sie während dieser Übung benötigen:<br>\n",
    "    Die jeweilige Syntax beschreibt eine examplarische Verwendung. Im allgemeinen haben die Funktionen weitere Argumente die übergeben werden können. Der Funktionsname ist jeweils ein Link zur offiziellen Dokumentation, welche alle Argumente darlegt und ihre Funktion beschreibt. <br>\n",
    "    <b>Funktionen zur statistischen Analyse: </b><br>\n",
    "    <a href=\"https://numpy.org/doc/stable/reference/generated/numpy.logspace.html\">numpy.logspace(start, stop, num_samples)</a> Erstellt ein Array mit <em>num_samples</em> Einträgen zwischen <em>start</em> und <em>stop</em>. Die Werte sind dabei gleichmässig auf einer logarithmischen Skala verteilt.<br>\n",
    "    <a href=\"https://numpy.org/doc/stable/reference/generated/numpy.mean.html\">numpy.mean(data)</a> Berechnet den Mittelwert aller Werte im Array <em>data</em>. <br>\n",
    "    <a href=\"https://numpy.org/doc/stable/reference/generated/numpy.std.html\">numpy.std(data)</a> Berechnet die Standardabweichung aller Werte im Array <em>data</em>. <br>\n",
    "    <a href=\"https://numpy.org/doc/stable/reference/generated/numpy.histogram.html\">hist = numpy.histogram(data, number_of_bins)</a> Sortiert die Daten <em>data</em> in <em>number_of_bins</em> gleichgrossen Bins auf. Der Rückgabewert ist ein Array, welches die Grenzen sowie die Population der Bins enthält.<br>\n",
    "    <b>Funktionen zum Plotten: </b><br>\n",
    "    <a href=\"https://matplotlib.org/stable/api/_as_gen/matplotlib.axes.Axes.semilogx.html\">axis.semilogx(x, y)</a> Plotted die Daten x,y in einem Graphen. Die x-Achse ist dabei in logarithmischer Basis dargestellt.<br>\n",
    "    <a href=\"https://matplotlib.org/stable/api/_as_gen/matplotlib.axes.Axes.set_yscale.html\">axis.set_yscale({\"linear\", \"log\"})</a> Ändere die Darstellungsweise der y-Achse zu einer linearen oder logarithmischen Skala.<br>\n",
    "    <a href=\"https://matplotlib.org/stable/api/_as_gen/matplotlib.axes.Axes.axhline.html\">axis.axhline(y=1)</a> Füge eine horizontale Linie dem aktuellen Graphen hinzu. In diesem Fall bei y = 1.<br>\n",
    "    <a href=\"https://matplotlib.org/stable/api/_as_gen/matplotlib.axes.Axes.errorbar.html\">axis.errorbar(x, y, xerr, yerr)</a> Plotte die Datenpunkte in den Arrays x,y. Die jeweiligen Punkte erhalten Fehlerbalken, dessen Grössen in den Arrays xerr und yerr definiert sind.<br>\n",
    "</p>"
   ]
  },
  {
   "cell_type": "code",
   "execution_count": 2,
   "id": "3ce71617",
   "metadata": {},
   "outputs": [],
   "source": [
    "import numpy as np\n",
    "import matplotlib.pyplot as plt"
   ]
  },
  {
   "cell_type": "markdown",
   "id": "c62d57c4",
   "metadata": {},
   "source": [
    "# Aufgabe 1 Fehler des Mittelwertes"
   ]
  },
  {
   "cell_type": "markdown",
   "id": "75dd0912",
   "metadata": {},
   "source": [
    "Wie Sie in der Vorlesung gesehen haben, kann der Fehler des Mittelwertes reduziert werden, indem mehr Datenpunkte gesammelt werden. Er hängt also damit zusammen, wie viel Information man über die Normalverteilung hat, und je mehr Datenpunkte man hat, desto genauer gleicht die Verteilung der Daten der Normalverteilung. Obwohl die Unsicherheit der einzelnen Datenpunkte gegebenenfalls gross sein kann, kann also die Unsicherheit des Mittelwertes beliebig klein werden. \n",
    "\n",
    "In dieser Aufgabe untersuchen Sie den Mittelwert und dessen Fehler als Funktion der Anzahl Datenpunkte und vergleichen Ihr Ergebnis mit den Histogrammen der Datenpunkte."
   ]
  },
  {
   "cell_type": "markdown",
   "id": "12a27fd9",
   "metadata": {},
   "source": [
    "## a)"
   ]
  },
  {
   "cell_type": "markdown",
   "id": "c3938f31",
   "metadata": {},
   "source": [
    "Laden Sie dazu zuerst den Datensatz `ExampleData.txt`."
   ]
  },
  {
   "cell_type": "code",
   "execution_count": null,
   "id": "f9263c8a",
   "metadata": {},
   "outputs": [],
   "source": []
  },
  {
   "cell_type": "markdown",
   "id": "bcf33b25",
   "metadata": {},
   "source": [
    "## b)"
   ]
  },
  {
   "cell_type": "markdown",
   "id": "5f46e1e8",
   "metadata": {},
   "source": [
    "Als nächstes berechnen Sie den Mittelwert, die Standardabweichung  und den Fehler des Mittelwerts als Funktion der Anzahl der berücksichtigten Datenpunkte und stellen diese grafisch dar. Nehmen sie dazu zuerst nur die ersten $n=10$ Punkte des Datensatzes und berechnen Sie davon den Mittelwert $\\bar{x}_n$, die Standardabweichung $\\sigma$ und den theoretisch erwarteten Fehler des Mittelwertes $\\sigma_{\\bar{x}_n}$. Wiederholen Sie dies für zunehmende $n$, bis Sie schliesslich alle Datenpunkte berücksichtigen. \n",
    "Speichern Sie die berechneten Werte für jedes $n$ in einem Array, so dass Sie am Ende alles als Funktion von $n$ plotten können.\n",
    "Vergleichen Sie auch den theoretisch erwarteten Fehler mit der Abweichung von $\\bar{x}_n$ zum echten Mittelwert $\\mu$, der für diesen Datensatz $\\mu=5$ ist. \n",
    "\n",
    "Da es sich hier um mehrere Grössenordnungen handelt, ist es vorteilhaft, mit `np.logspace` die Anzahl Punkte zu definieren und mit `ax.semilogx` die Resultate zu plotten."
   ]
  },
  {
   "cell_type": "code",
   "execution_count": null,
   "id": "63cf45bf",
   "metadata": {},
   "outputs": [],
   "source": []
  },
  {
   "cell_type": "markdown",
   "id": "2aa0e82d",
   "metadata": {},
   "source": [
    "## c)"
   ]
  },
  {
   "cell_type": "markdown",
   "id": "e8a9c30f",
   "metadata": {},
   "source": [
    "Vergleichen Sie die Mittelwerte und deren Unsicherheiten mit den Verteilungen der Datenpunkte. Plotten sie dazu die Histogramme für 10, 100, 1'000 und 10'000 Punkte und zeichnen Sie die dazugehörigen Mittelwerte mit deren Unsicherheiten ein."
   ]
  },
  {
   "cell_type": "code",
   "execution_count": null,
   "id": "c83ff225",
   "metadata": {},
   "outputs": [],
   "source": []
  },
  {
   "cell_type": "markdown",
   "id": "3d2eedd6",
   "metadata": {},
   "source": [
    "# Aufgabe 2 Fehler des Mittelwerts mit Gauss"
   ]
  },
  {
   "cell_type": "markdown",
   "id": "50610b83",
   "metadata": {},
   "source": [
    "Leiten Sie die Unsicherheit des Mittelwerts mithilfe der Gaussschen Fehlerfortpflanzung her. Nehmen Sie dazu an, dass alle Datenpunkte die gleiche Unsicherheit $\\sigma$ haben."
   ]
  },
  {
   "cell_type": "markdown",
   "id": "2fbf5b30",
   "metadata": {},
   "source": [
    "# Aufgabe 3 Gausssche Fehlerfortpflanzung"
   ]
  },
  {
   "cell_type": "markdown",
   "id": "b3fb2eb1",
   "metadata": {},
   "source": [
    "In vielen Experimenten wird nicht die gesuchte Grösse direkt gemessen, sondern muss erst aus den gesammelten Daten berechnet werden. In dieser Aufgabe werden Sie die Fehler einer solchen Grösse durch Fehlerfortpflanzung der Unsicherheit normalverteilter Werte berechnen.\n",
    "\n",
    "Als System betrachten wir dazu eine Masse $m$, die sich mit einer Geschwindigkeit $v$ auf einer Kreisbahn mit Radius $R$ bewegt. Nun soll für verschiedene Geschwindigkeiten die Kraft berechnet werden, mit der die Masse auf der Kreisbahn gehalten wird. Die Geschwindigkeiten und ihre Standardabweichungen können dabei aus der Datei `Geschwindigkeiten.txt` entnommen werden. Die zusätzlichen Werte sind:\n",
    "\n",
    "$m$  | $R$\n",
    "---|---\n",
    "0.1 $\\pm$ 0.001 kg| 0.15 $\\pm$ 0.001 m"
   ]
  },
  {
   "cell_type": "markdown",
   "id": "96ec63fe",
   "metadata": {},
   "source": [
    "## a)"
   ]
  },
  {
   "cell_type": "markdown",
   "id": "96f6e683",
   "metadata": {},
   "source": [
    "Laden Sie zuerst den Datensatz."
   ]
  },
  {
   "cell_type": "code",
   "execution_count": null,
   "id": "f8ac2c1c",
   "metadata": {},
   "outputs": [],
   "source": []
  },
  {
   "cell_type": "markdown",
   "id": "2821787e",
   "metadata": {},
   "source": [
    "## b)"
   ]
  },
  {
   "cell_type": "markdown",
   "id": "db667693",
   "metadata": {},
   "source": [
    "Berechnen sie nun die Unsicherheit der Zentripetalkraft mit der Gaussschen Fehlerfortpflanzung. Vergleichen Sie die einzelnen Terme in der Summe. Gibt es Terme, die Sie vernachlässigen können?\n",
    "\n",
    "Tipp: Sie können mit `ax.set_yscale` auf eine logaritmische Skala auf der y-Achse wechseln."
   ]
  },
  {
   "cell_type": "code",
   "execution_count": null,
   "id": "fd182085",
   "metadata": {},
   "outputs": [],
   "source": []
  },
  {
   "cell_type": "markdown",
   "id": "77721a27",
   "metadata": {},
   "source": [
    "## c)"
   ]
  },
  {
   "cell_type": "markdown",
   "id": "b2415c54",
   "metadata": {},
   "source": [
    "Plotten Sie nun die Kraft zusammen mit den Fehlern in Abhängigkeit von der gemessenen Geschwindigkeit. Sie können dazu `ax.errorbar()` benutzen. "
   ]
  },
  {
   "cell_type": "code",
   "execution_count": null,
   "id": "fd0093fe",
   "metadata": {},
   "outputs": [],
   "source": []
  },
  {
   "cell_type": "markdown",
   "id": "9011abf0",
   "metadata": {},
   "source": [
    "## Aufgabe 4 Gausssche Fehlerfortpflanzung"
   ]
  },
  {
   "cell_type": "markdown",
   "id": "65c48e77",
   "metadata": {},
   "source": [
    "Wir betrachten den exponentiellen Zerfall der Population eines beliebigen Systems (z.B. eines radioaktiven Isotops), gegeben durch $N(t) = N_0e^{-\\frac{t}{\\tau}}$. Um die Zerfallszeit $\\tau$ zu bestimmen, wird wiederholt die Anfangspopulation $N_0$ und die Population $N(t)$ nach einer Zeit $t$ gemessen."
   ]
  },
  {
   "cell_type": "markdown",
   "id": "fbc6676c",
   "metadata": {},
   "source": [
    "## a)"
   ]
  },
  {
   "cell_type": "markdown",
   "id": "88ee18ed",
   "metadata": {},
   "source": [
    "Berechnen Sie die Unsicherheit $\\sigma_\\tau$ der Zerfallszeit abhängig von den Unsicherheiten der Population ($\\sigma_N$) und der gemessenen Zeit ($\\sigma_t$)."
   ]
  },
  {
   "cell_type": "markdown",
   "id": "6437aceb",
   "metadata": {},
   "source": [
    "## b)"
   ]
  },
  {
   "cell_type": "markdown",
   "id": "54cb144e",
   "metadata": {},
   "source": [
    "Laden Sie nun die Datensätze `Population1.txt` und `Population2.txt`. Sie beinhalten die wiederholte Messung von $N_0$ sowie $N(t=20s)$, wobei der zweite Datensatz mit einem Detektor mit einer grösseren Unsicherheit gemessen wurde. Nehmen sie an, dass die Unsicherheit in der Zeit vernachlässigbar ist und plotten sie die Histogramme der Zerfallskonstanten. Was können Sie beobachten?"
   ]
  },
  {
   "cell_type": "markdown",
   "id": "fbbc9114",
   "metadata": {},
   "source": [
    "### Lösung"
   ]
  },
  {
   "cell_type": "code",
   "execution_count": null,
   "id": "11fd4b29",
   "metadata": {},
   "outputs": [],
   "source": []
  },
  {
   "cell_type": "code",
   "execution_count": null,
   "id": "af0b81c6",
   "metadata": {},
   "outputs": [],
   "source": []
  },
  {
   "cell_type": "code",
   "execution_count": null,
   "id": "cc875e3f",
   "metadata": {},
   "outputs": [],
   "source": []
  }
 ],
 "metadata": {
  "kernelspec": {
   "display_name": "Python 3 (ipykernel)",
   "language": "python",
   "name": "python3"
  },
  "language_info": {
   "codemirror_mode": {
    "name": "ipython",
    "version": 3
   },
   "file_extension": ".py",
   "mimetype": "text/x-python",
   "name": "python",
   "nbconvert_exporter": "python",
   "pygments_lexer": "ipython3",
   "version": "3.12.1"
  },
  "latex_envs": {
   "LaTeX_envs_menu_present": true,
   "autoclose": false,
   "autocomplete": true,
   "bibliofile": "biblio.bib",
   "cite_by": "apalike",
   "current_citInitial": 1,
   "eqLabelWithNumbers": true,
   "eqNumInitial": 1,
   "hotkeys": {
    "equation": "Ctrl-E",
    "itemize": "Ctrl-I"
   },
   "labels_anchors": false,
   "latex_user_defs": false,
   "report_style_numbering": false,
   "user_envs_cfg": false
  },
  "toc": {
   "base_numbering": 1,
   "nav_menu": {},
   "number_sections": false,
   "sideBar": true,
   "skip_h1_title": false,
   "title_cell": "Table of Contents",
   "title_sidebar": "Contents",
   "toc_cell": false,
   "toc_position": {
    "height": "calc(100% - 180px)",
    "left": "10px",
    "top": "150px",
    "width": "460.8px"
   },
   "toc_section_display": true,
   "toc_window_display": true
  }
 },
 "nbformat": 4,
 "nbformat_minor": 5
}
