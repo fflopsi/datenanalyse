{
 "cells": [
  {
   "cell_type": "markdown",
   "id": "782af3a9-4e47-4bc2-b8ff-33ea8efac427",
   "metadata": {},
   "source": [
    "# Aufgabenblatt 5"
   ]
  },
  {
   "cell_type": "markdown",
   "id": "63d78a7c-fd63-45af-8bfe-8f75522950d9",
   "metadata": {},
   "source": [
    "<p style=\"border-left:5px solid red;padding:0.6em;box-sizing:border-box;\">\n",
    "<strong>Lernziele:</strong><br/>\n",
    "    In dieser Übung beschäftigen wir uns mit der Korrelation zwischen mehrerer Signale, beziehungsweise eines Signales mit sich selber. Dies erlaubt uns Informationen über den Daten geneirerenden Prozess zu bestimmen.\n",
    "</p>\n",
    "\n",
    "<p style=\"border-left:5px solid blue;padding:0.6em;box-sizing:border-box;\">\n",
    "<strong>Ab dieser Übung werden der Umfang der Funktionstipps schrittweise gekürzt. Zuerst werden ab dieser Übung die Argumente nicht mehr angegeben (Verwenden sie die Dokumentation um diese zu bestimmen.:</strong><br/>\n",
    "<strong>Wichtigste neuen Funktionen für diese Übung:</strong><br/>\n",
    "    Dies sind die wichtigsten Funktionen die sie während dieser Übung benötigen:<br>\n",
    "    Die jeweilige Syntax beschreibt eine examplarische Verwendung. Im allgemeinen haben die Funktionen weitere Argumente die übergeben werden können. Der Funktionsname ist jeweils ein Link zur offiziellen Dokumentation, welche alle Argumente darlegt und ihre Funktion beschreibt. <br>\n",
    "    <b>Funktionen zur statistischen Analyse: </b><br>\n",
    "    <a href=\"https://numpy.org/doc/stable/reference/generated/numpy.cov.html\">numpy.cov(...)</a> Berechnet die Kovarianzmatrix der übergebenen Daten. <br>\n",
    "    <a href=\"https://numpy.org/doc/stable/reference/generated/numpy.corrcoef.html\">numpy.corrcoef(...)</a> Berechnet die Korrelation zwischen den Spalten des übergebenen Arrays.<br>\n",
    "    <b>Funktionen zum Plotten: </b><br>\n",
    "    <a href=\"https://matplotlib.org/stable/api/_as_gen/matplotlib.axes.Axes.scatter.html\">axis.scatter(...)</a> Plotte die Datenpunkte in den Arrays x,y. Die Daten werden als Streudiagramm dargestellt.<br>\n",
    "</p>"
   ]
  },
  {
   "cell_type": "code",
   "execution_count": null,
   "id": "a0f7d7fd-af8b-44c1-9e2d-3b76dda5328d",
   "metadata": {},
   "outputs": [],
   "source": [
    "import numpy as np\n",
    "import matplotlib.pyplot as plt"
   ]
  },
  {
   "cell_type": "markdown",
   "id": "1310f5fa",
   "metadata": {},
   "source": [
    "# Kovarianz und Korrelationskoeffizient"
   ]
  },
  {
   "cell_type": "markdown",
   "id": "d84162ed",
   "metadata": {},
   "source": [
    "In dieser Übung berechnen Sie die Kovarianz und den Korrelationskoeffizienten zwischen verschiedenen Messgrössen eines Datensatzes."
   ]
  },
  {
   "cell_type": "markdown",
   "id": "4bbf8ee7",
   "metadata": {},
   "source": [
    "## a)"
   ]
  },
  {
   "cell_type": "markdown",
   "id": "7ff7d6fe",
   "metadata": {},
   "source": [
    "Laden Sie den Datensatz \"data_xyz.txt\". Er enthält drei Auslenkungen x, y und z, abhängig von der Zeit t gemessen. Erstellen Sie Plots der Messgrössen als Funktion der Zeit."
   ]
  },
  {
   "cell_type": "code",
   "execution_count": null,
   "id": "b3d2685f",
   "metadata": {},
   "outputs": [],
   "source": []
  },
  {
   "cell_type": "markdown",
   "id": "8df14acf",
   "metadata": {},
   "source": [
    "## b)"
   ]
  },
  {
   "cell_type": "markdown",
   "id": "5139ce06",
   "metadata": {},
   "source": [
    "Plotten Sie nun die Messgrössen paarweise in Abhängigkeit voneinander, also z.B. y(x), z(x) und y(z). Was sehen Sie für Abhängigkeiten?\n",
    "\n",
    "Tipp: Verwenden Sie entweder die Funktion `ax.scatter` oder schalten Sie in `ax.plot` die Linien zwischen den Datenpunkten aus um einen Scatterplot zu erstellen."
   ]
  },
  {
   "cell_type": "code",
   "execution_count": null,
   "id": "f5f2a3dc",
   "metadata": {},
   "outputs": [],
   "source": []
  },
  {
   "cell_type": "markdown",
   "id": "265dd092",
   "metadata": {},
   "source": [
    "## c)"
   ]
  },
  {
   "cell_type": "markdown",
   "id": "7bce4b68",
   "metadata": {},
   "source": [
    "Schreiben Sie eine Funktion, die aus zwei gleich langen Arrays von Datenpunkten die Kovarianz berechnet.\n",
    "Überprüfen Sie Ihr Resultat mithilfe von `np.cov`. Beachten Sie, dass diese Funktion die gesamte Kovarianzmatrix zurückgibt, also\n",
    "\n",
    "$$ \\mathrm{np.cov(x, y)} = \\left( \\begin{matrix} \\sigma_{xx}^2 & \\sigma_{xy}^2 \\\\\n",
    "                                                 \\sigma_{yx}^2 & \\sigma_{yy}^2 \\end{matrix} \\right). $$"
   ]
  },
  {
   "cell_type": "code",
   "execution_count": null,
   "id": "2670eb00",
   "metadata": {},
   "outputs": [],
   "source": []
  },
  {
   "cell_type": "markdown",
   "id": "2f2bed92",
   "metadata": {},
   "source": [
    "## d)"
   ]
  },
  {
   "cell_type": "markdown",
   "id": "3cfec27c",
   "metadata": {},
   "source": [
    "Berechnen Sie aus den Kovarianzen die Korrelationskoeffizienten für die Kombinationen von x, y und z. Entspricht das Resultat Ihren Erwartungen aufgrund der Plots?\n",
    "\n",
    "Sie können Ihr Resultat mithilfe von `np.corrcoef` überprüfen. Kleine Abweichungen können aufgrund von Rundungsfehlern und der genauen Implementation auftreten. Auch diese Funktion gibt gleich die ganze Korrelationsmatrix zurück."
   ]
  },
  {
   "cell_type": "code",
   "execution_count": null,
   "id": "5d7b6d11",
   "metadata": {},
   "outputs": [],
   "source": []
  },
  {
   "cell_type": "markdown",
   "id": "9ea06eaf",
   "metadata": {},
   "source": [
    "# Autokovarianz als Funktion der Zeit"
   ]
  },
  {
   "cell_type": "markdown",
   "id": "48912c7f",
   "metadata": {},
   "source": [
    "In dieser Übung schauen Sie sich die Autokovarianz verschiedener Arten von Signalen an."
   ]
  },
  {
   "cell_type": "markdown",
   "id": "65dcb7a5",
   "metadata": {},
   "source": [
    "## a)"
   ]
  },
  {
   "cell_type": "markdown",
   "id": "7ed09942",
   "metadata": {},
   "source": [
    "Laden Sie den Datensatz 'signal_1.txt' und plotten Sie die Daten."
   ]
  },
  {
   "cell_type": "code",
   "execution_count": null,
   "id": "9c7e8206",
   "metadata": {},
   "outputs": [],
   "source": []
  },
  {
   "cell_type": "markdown",
   "id": "af3aac89",
   "metadata": {},
   "source": [
    "## b)"
   ]
  },
  {
   "cell_type": "markdown",
   "id": "14fcd641",
   "metadata": {},
   "source": [
    "Schreiben Sie eine Funktion, die die Autokovarianz \n",
    "\n",
    "$$R_{xx}(\\Delta i) = \\frac{1}{N - \\Delta i} \\sum_{i=0}^{N - \\Delta i - 1} \\left(x[i] - \\bar{x}\\right) \\left(x[i + \\Delta i] - \\bar{x}\\right)$$\n",
    "\n",
    "eines Datenarrays $x$ mit $N$ Punkten berechnet, die in gleichmässigen Zeitabständen gemessen wurden. Die Funktion soll zwei Arguemente haben, das Datenarray $x$, und die Verschiebung $\\Delta i$. Folgendes ist zu beachten:\n",
    "\n",
    "- Die Verschiebung $\\Delta i$ gibt hier an, um wie viele Stellen der Arrayindex verschoben wird. Die entsprechende zeitliche Verschiebung ist $\\tau = t[\\Delta i] - t[0]$, wenn $t$ das Array für die Zeitachse ist.\n",
    "- Die Summe geht von 0 bis $N - \\Delta i - 1$, damit der Arrayindex $i + \\Delta i$ immer kleiner als $N$ ist.\n",
    "- Im Nenner steht dementsprechend $N - \\Delta i$, da dies die Anzahl Terme in der Summe ist."
   ]
  },
  {
   "cell_type": "code",
   "execution_count": null,
   "id": "917c1276",
   "metadata": {},
   "outputs": [],
   "source": []
  },
  {
   "cell_type": "markdown",
   "id": "2e179c86",
   "metadata": {},
   "source": [
    "## c)"
   ]
  },
  {
   "cell_type": "markdown",
   "id": "e2f9c5f5",
   "metadata": {},
   "source": [
    "Benutzen Sie Ihre Funktion um die Autokovarianz des Amplitudensignals aus den geladenen Daten für jedes $\\Delta = 0, \\dots, N-1$ zu berechnen. Berechnen Sie auch die entsprechenden Zeitverschiebungen $\\tau$ und plotten sie $R_{xx}(\\tau)$. Interpretieren Sie das Resultat.\n"
   ]
  },
  {
   "cell_type": "code",
   "execution_count": null,
   "id": "4847c764",
   "metadata": {},
   "outputs": [],
   "source": []
  },
  {
   "cell_type": "markdown",
   "id": "3a7665fb",
   "metadata": {},
   "source": [
    "## d)"
   ]
  },
  {
   "cell_type": "markdown",
   "id": "e73ecc87",
   "metadata": {},
   "source": [
    "Laden Sie nun den Datensatz 'signal_2.txt' und plotten Sie sowohl die Amplitude als Funktion der Zeit, als auch die Autokovarianz als Funktion von $\\tau$. Interpretieren Sie wieder das Resultat."
   ]
  },
  {
   "cell_type": "code",
   "execution_count": null,
   "id": "90fb0b13",
   "metadata": {},
   "outputs": [],
   "source": []
  },
  {
   "cell_type": "markdown",
   "id": "4daf51da",
   "metadata": {},
   "source": [
    "## e)"
   ]
  },
  {
   "cell_type": "markdown",
   "id": "755bb035",
   "metadata": {},
   "source": [
    "Laden Sie nun den letzten Datensatz, 'signal_3.txt'. Dieser enthält zwei zeitabhängige Messungen, die mit der gleichen Zeitachse gemessen wurden. Plotten Sie beide Signale als Funktion der Zeit und zoomen Sie in der Zeitachse um die Struktur der Daten anzuschauen und sich den Unterschied zwischen den zwei Messungen bewusst zu machen."
   ]
  },
  {
   "cell_type": "code",
   "execution_count": null,
   "id": "5564bda6",
   "metadata": {},
   "outputs": [],
   "source": []
  },
  {
   "cell_type": "markdown",
   "id": "e39d783f",
   "metadata": {},
   "source": [
    "## f)"
   ]
  },
  {
   "cell_type": "markdown",
   "id": "24ebd4d0",
   "metadata": {},
   "source": [
    "Aus Ihren Plots sollten Sie für jede Messung eine typische Zeitskala $T_{\\mathrm{sys}}$ ablesen können, die für das jeweilige System relevant ist. Da diese Messungen sehr viele Datenpunkte haben, kann die Ausführung des Codes sehr lange dauern, wenn Sie die Autokovarianz wie oben für alle möglichen $\\tau$ bis $T_{\\mathrm{max}}$ berechnen. Berechnen Sie deswegen die Autokovarianz beider Signale nur für $\\tau \\in [0, 2 T_{\\mathrm{sys}}]$; der genaue Wert der oberen Grenze ist nicht so wichtig, nur dass er etwas grösser als die längere typische Zeitskala $T_{\\mathrm{sys}}$ ist; dass Sie die obere Grenze hinreichend gross gewählt haben, erkennen Sie daran, dass die Autokovarianz für grosse $\\tau$ gegen Null geht.\n",
    "\n",
    "Vergleichen Sie die beiden Autokovarianzen und erklären Sie die Beziehung zu der Struktur, die Sie im zeitabhängigen Signal gesehen haben.\n",
    "\n",
    "Tipp: Wenn die Fehlersuche mühsam ist, weil die Ausführung des Codes zu lange dauert, nehmen Sie erst mal nur die ersten 1000 Datenpunkte."
   ]
  },
  {
   "cell_type": "code",
   "execution_count": null,
   "id": "4a07beb0",
   "metadata": {},
   "outputs": [],
   "source": []
  }
 ],
 "metadata": {
  "kernelspec": {
   "display_name": "Python 3 (ipykernel)",
   "language": "python",
   "name": "python3"
  },
  "language_info": {
   "codemirror_mode": {
    "name": "ipython",
    "version": 3
   },
   "file_extension": ".py",
   "mimetype": "text/x-python",
   "name": "python",
   "nbconvert_exporter": "python",
   "pygments_lexer": "ipython3",
   "version": "3.12.1"
  },
  "latex_envs": {
   "LaTeX_envs_menu_present": true,
   "autoclose": false,
   "autocomplete": true,
   "bibliofile": "biblio.bib",
   "cite_by": "apalike",
   "current_citInitial": 1,
   "eqLabelWithNumbers": true,
   "eqNumInitial": 1,
   "hotkeys": {
    "equation": "Ctrl-E",
    "itemize": "Ctrl-I"
   },
   "labels_anchors": false,
   "latex_user_defs": false,
   "report_style_numbering": false,
   "user_envs_cfg": false
  },
  "toc": {
   "base_numbering": 1,
   "nav_menu": {},
   "number_sections": false,
   "sideBar": true,
   "skip_h1_title": false,
   "title_cell": "Table of Contents",
   "title_sidebar": "Contents",
   "toc_cell": false,
   "toc_position": {
    "height": "calc(100% - 180px)",
    "left": "10px",
    "top": "150px",
    "width": "384px"
   },
   "toc_section_display": true,
   "toc_window_display": true
  },
  "varInspector": {
   "cols": {
    "lenName": 16,
    "lenType": 16,
    "lenVar": 40
   },
   "kernels_config": {
    "python": {
     "delete_cmd_postfix": "",
     "delete_cmd_prefix": "del ",
     "library": "var_list.py",
     "varRefreshCmd": "print(var_dic_list())"
    },
    "r": {
     "delete_cmd_postfix": ") ",
     "delete_cmd_prefix": "rm(",
     "library": "var_list.r",
     "varRefreshCmd": "cat(var_dic_list()) "
    }
   },
   "types_to_exclude": [
    "module",
    "function",
    "builtin_function_or_method",
    "instance",
    "_Feature"
   ],
   "window_display": false
  }
 },
 "nbformat": 4,
 "nbformat_minor": 5
}
