{
 "cells": [
  {
   "cell_type": "markdown",
   "id": "98cd3ea5-1178-4de7-ad5f-895c7ac3a4a7",
   "metadata": {},
   "source": [
    "# Aufgabenblatt 6"
   ]
  },
  {
   "cell_type": "markdown",
   "id": "03bc15dc-97c4-4447-8250-36f2db65a461",
   "metadata": {},
   "source": [
    "<p style=\"border-left:5px solid red;padding:0.6em;box-sizing:border-box;\">\n",
    "<strong>Lernziele:</strong><br/>\n",
    "    In dieser Übung beschäftigen wir uns mit harmonischen Signalen und der Fouriertransformation. Diese ist eine der wichsten Werkzeuge der Signalanalyse und erlaubt uns die spektralen Komponenten eines Signals zu studieren.\n",
    "</p>\n",
    "\n",
    "<p style=\"border-left:5px solid blue;padding:0.6em;box-sizing:border-box;\">\n",
    "<strong>Wichtigste neuen Funktionen für diese Übung:</strong><br/>\n",
    "    Dies sind die wichtigsten Funktionen die sie während dieser Übung benötigen:<br>\n",
    "    Die jeweilige Syntax beschreibt eine examplarische Verwendung. Im allgemeinen haben die Funktionen weitere Argumente die übergeben werden können. Der Funktionsname ist jeweils ein Link zur offiziellen Dokumentation, welche alle Argumente darlegt und ihre Funktion beschreibt. <br>\n",
    "    <b>Funktionen zur statistischen Analyse: </b><br>\n",
    "    <a href=\"https://numpy.org/doc/stable/reference/generated/numpy.sin.html\">numpy.sin(...)</a> Berechnet den Wert der Funktion sin(x). <br>\n",
    "    <a href=\"https://numpy.org/doc/stable/reference/generated/numpy.fft.fft.html\">numpy.fft(...)</a> Berechnet die Fouriertransformation des übergebenen Signals. Dafür wird der FFT-Algorithmus verwendet.<br>\n",
    "    <a href=\"https://numpy.org/doc/stable/reference/generated/numpy.fft.fftfreq.html\">numpy.fftfreq(...)</a> Diese Funktion gibt die evaluierten Frequenzen der Fouriertransformation der Länge n mit der zeitlichen Schrittweite d zurück.<br>\n",
    "</p>"
   ]
  },
  {
   "cell_type": "code",
   "execution_count": 1,
   "id": "f0612291",
   "metadata": {},
   "outputs": [],
   "source": [
    "import numpy as np\n",
    "import matplotlib.pyplot as plt"
   ]
  },
  {
   "cell_type": "markdown",
   "id": "5bffcef0",
   "metadata": {},
   "source": [
    "# Aufgabe 1 Signal aus harmonischen Funktionen"
   ]
  },
  {
   "cell_type": "markdown",
   "id": "6f9f5562",
   "metadata": {},
   "source": [
    "Wie Sie in der Vorlesung gesehen haben, können periodische Signale aus Sinus- und Kosinusfunktionen aufgebaut werden. Oder allgemeiner formuliert: Die Sinus- und Kosinusfunktionen bilden eine Orthonormalbasis periodischer Funktionen.\n",
    "\n",
    "Dieses Prinzip wollen wir in der ersten Aufgabe veranschaulichen, indem wir eine periodische Funktion nehmen und sie mit Sinusfunktionen annähern. Dabei werden Sie sehen, dass bereits wenige Summanden der unendlichen Reihe genügen, um die Strukturen der Ausgangsfunktion zu rekonstruieren.\n"
   ]
  },
  {
   "cell_type": "markdown",
   "id": "28a3a773",
   "metadata": {},
   "source": [
    "##  a)\n"
   ]
  },
  {
   "cell_type": "markdown",
   "id": "5c604b04",
   "metadata": {},
   "source": [
    "Laden Sie den Datensatz `square.txt` und plotten Sie ihn. Er beinhaltet die erste Periode eines Rechtecksignals zusammen mit der dazugehörigen Zeitachse."
   ]
  },
  {
   "cell_type": "code",
   "execution_count": null,
   "id": "77d6b5b6",
   "metadata": {},
   "outputs": [],
   "source": []
  },
  {
   "cell_type": "markdown",
   "id": "31df87d2",
   "metadata": {},
   "source": [
    "##  b)\n"
   ]
  },
  {
   "cell_type": "markdown",
   "id": "bf5d3b2c",
   "metadata": {},
   "source": [
    "Wir wollen nun das Signal aus einzelnen harmonischen Funktionen aufbauen. Aufgrund der Symmetrie des Signals kann man erkennen, dass es aus Sinusfunktionen aufgebaut ist (Nullstellen bei $t=0, t=T/2$ und $t=T$). Die niedrigste relevante Frequenz $f_1$ ist diejenige, die der inversen Messzeit entspricht,  und alle höheren Frequenzen müssen ein ganzzahliges Vielfaches davon sein, damit sie die Randbedingung $U(t + T) = U(t)$ erfüllen.\n",
    "\n",
    "Wir wollen das Signal also als\n",
    "    \n",
    "$$ U(t) = \\sum_{n=0}^{N} a_n \\sin(2\\pi f_n t) $$\n",
    "    \n",
    "ausdrücken, wobei $f_n = n \\cdot f_1$ ist und $N$ die Anzahl Frequenzkomponenten, die berücksichtigt werden. Die richtigen Amplituden $a_n$, um auf diese Weise ein beliebiges Signal zu konstruieren, können mithilfe der Fouriertransformation berechnet werden, wie Sie in Aufgabe 2 sehen werden. In diesem Fall sind sie gegeben als\n",
    "\n",
    "$$ a_n = \\frac{4}{\\pi n} \\textrm{ für ungerade } n,\\\\ a_n = 0 \\textrm{ für gerade }n.$$"
   ]
  },
  {
   "cell_type": "markdown",
   "id": "97fdf321",
   "metadata": {},
   "source": [
    "Schreiben Sie eine Funktion, die die Summe in Gleichung (1) berechnet, wobei als Argumente die Zeitachse $t$ und die Anzahl $N$ der berücksichtigten Frequenzen übergeben werden. Plotten Sie dann das so konstruierte Signal zusammen mit der Rechteckfunktion für verschiedene $N$ um sich zu veranschaulichen, wie das Rechtecksignal immer besser angenähert wird, wenn Sie mehr Frequenzkomponenten dazuaddieren."
   ]
  },
  {
   "cell_type": "code",
   "execution_count": null,
   "id": "dc109d52",
   "metadata": {},
   "outputs": [],
   "source": []
  },
  {
   "cell_type": "markdown",
   "id": "95338867",
   "metadata": {},
   "source": [
    "#  Aufgabe 2 Fouriertransformation"
   ]
  },
  {
   "cell_type": "markdown",
   "id": "bed3f178",
   "metadata": {},
   "source": [
    "Im obigen Beispiel haben wir als Basis Sinusfunktionen genommen, da sie genau die richtige Phase für unser Signal hatten. Im Allgemeinen ist dies jedoch nicht der Fall, und man muss entweder für jede Frequenz eine Phase $\\phi_n$ einführen,\n",
    "\n",
    "$$x(t) = \\sum_{n=0}^{\\infty} a_n \\sin(2\\pi f_n t + \\phi_n),$$\n",
    "\n",
    "einen Kosinusterm hinzufügen,\n",
    "\n",
    "$$x(t) = \\sum_{n=0}^{\\infty} a_n \\sin(2\\pi f_n t) + b_n \\cos(2\\pi f_n t),$$\n",
    "\n",
    "oder, was in den meisten Fällen gemacht wird, man benutzt die Exponentialfunktion als Basis,\n",
    "\n",
    "$$x(t) = \\sum_{n=-\\infty}^{\\infty} a_n e^{i2\\pi f_n t},$$\n",
    "    \n",
    "womit wir bei der Definition aus der Vorlesung angelangt sind.\n",
    "\n",
    "In dieser Aufgabe geht es darum, die Amplituden $a_n$ für ein beliebiges Signal zu ermitteln, also die Fouriertransformation auf ein Signal anzuwenden. In Numpy existiert dazu ein ganzes Modul mit entsprechenden Funktionen, von denen wir hier aber lediglich `np.fft.fft` und `np.fft.fftfreq` anschauen werden. Auf der Website https://numpy.org/doc/stable/reference/routines.fft.html finden Sie die Definition der diskreten Fouriertransformation, die in von Numpy verwendet wird. \n",
    "\n",
    "In der Vorlesung wurde die diskrete Fouriertrasformation definiert als\n",
    "\n",
    "$$a_n = \\frac{1}{N}\\sum_{k=0}^{N-1} x(t_k)e^{-i2\\pi f_n t_k},$$\n",
    "\n",
    "wobei wir die diskretisierte Zeitachse $t_k = k\\cdot\\Delta t$ betrachten. Durch Einsetzen von\n",
    "\n",
    "$$\n",
    "f_n = n \\cdot f_1 = \\frac{n}{N \\cdot \\Delta t},\\\\\n",
    "t_k = k \\cdot \\Delta t\n",
    "$$\n",
    "\n",
    "erhält man die Form\n",
    "\n",
    "$$a_n = \\frac{1}{N}\\sum_{k=0}^{N-1} x(t_k)e^{-i2\\pi n k / N},$$\n",
    "\n",
    "die Sie auch in der Dokumentation von Numpy finden. Beachten Sie, dass der Normierungsfaktor $\\frac{1}{N}$ bei Numpy in der Rücktransformation vorhanden ist, was aber lediglich eine Frage der Konvention ist."
   ]
  },
  {
   "cell_type": "markdown",
   "id": "78d1c08a",
   "metadata": {},
   "source": [
    "## a)"
   ]
  },
  {
   "cell_type": "markdown",
   "id": "d00bea8c",
   "metadata": {},
   "source": [
    "Laden Sie die Daten aus `'Signal.txt'` und plotten Sie sie. Welche Frequenzen können Sie von Auge erkennen (zoomen Sie die x-Achse entsprechend)?"
   ]
  },
  {
   "cell_type": "code",
   "execution_count": null,
   "id": "59f9fb30",
   "metadata": {},
   "outputs": [],
   "source": []
  },
  {
   "cell_type": "markdown",
   "id": "336ca3e5",
   "metadata": {},
   "source": [
    "##  b)"
   ]
  },
  {
   "cell_type": "markdown",
   "id": "3da9010a",
   "metadata": {},
   "source": [
    "Bestimmen Sie aufgrund der Zeitachse die Nyquist-Frequenz, sowie die Frequenzuflösung, die Sie für die Fouriertransformation erwarten."
   ]
  },
  {
   "cell_type": "code",
   "execution_count": null,
   "id": "2ff5c20e",
   "metadata": {},
   "outputs": [],
   "source": []
  },
  {
   "cell_type": "markdown",
   "id": "be5ab677",
   "metadata": {},
   "source": [
    "## c)"
   ]
  },
  {
   "cell_type": "markdown",
   "id": "404b7073",
   "metadata": {},
   "source": [
    "Berechnen Sie nun die Fouriertransformation der Daten. Unter `Implementation details` des obigen Links finden Sie, in welcher Reihenfolge die Amplituden von `np.fft.fft` zurückgegeben werden. Die Funktion `np.fft.fftfreq` gibt ihnen die entsprechend geordnete Frequenzachse. Plotten Sie zuerst die Frequenzen $f_n$ selbst als Funktion des Index $n$ um zu veranschaulichen, wie die Daten geordnet sind, und dann die spektrale Leistungsdichte als Funktion der Frequenzen. Finden Sie die Frequenzen wieder, die Sie in a) gefunden haben?"
   ]
  },
  {
   "cell_type": "code",
   "execution_count": null,
   "id": "cbe9bfa4",
   "metadata": {},
   "outputs": [],
   "source": []
  },
  {
   "cell_type": "markdown",
   "id": "428f15f8",
   "metadata": {},
   "source": [
    "###  d)"
   ]
  },
  {
   "cell_type": "markdown",
   "id": "1ca8d160",
   "metadata": {},
   "source": [
    "Betrachten Sie nochmals das Recktecksignal aus Aufgabe 1. Berechnen Sie die Fouriertransformation und plotten Sie die spektrale Leistungsdichte. Sie sollten das Verhalten der Amplituden aus Aufgabe 1 rekonstruieren können, sprich die Abnahme mit $1/n$ sowie dass die Frequenzen mit geraden $n$ verschwindend klein sind. Da aber die Normierungskonvention der `numpy` Fouriertransformation sowie die Basis anders sind, wird die Grösse der Amplituden anders sein."
   ]
  },
  {
   "cell_type": "code",
   "execution_count": null,
   "id": "74cff61b",
   "metadata": {},
   "outputs": [],
   "source": []
  }
 ],
 "metadata": {
  "kernelspec": {
   "display_name": "Python 3 (ipykernel)",
   "language": "python",
   "name": "python3"
  },
  "language_info": {
   "codemirror_mode": {
    "name": "ipython",
    "version": 3
   },
   "file_extension": ".py",
   "mimetype": "text/x-python",
   "name": "python",
   "nbconvert_exporter": "python",
   "pygments_lexer": "ipython3",
   "version": "3.12.1"
  },
  "latex_envs": {
   "LaTeX_envs_menu_present": true,
   "autoclose": false,
   "autocomplete": true,
   "bibliofile": "biblio.bib",
   "cite_by": "apalike",
   "current_citInitial": 1,
   "eqLabelWithNumbers": true,
   "eqNumInitial": 1,
   "hotkeys": {
    "equation": "Ctrl-E",
    "itemize": "Ctrl-I"
   },
   "labels_anchors": false,
   "latex_user_defs": false,
   "report_style_numbering": false,
   "user_envs_cfg": false
  },
  "toc": {
   "base_numbering": 1,
   "nav_menu": {},
   "number_sections": false,
   "sideBar": true,
   "skip_h1_title": false,
   "title_cell": "Table of Contents",
   "title_sidebar": "Contents",
   "toc_cell": false,
   "toc_position": {
    "height": "calc(100% - 180px)",
    "left": "10px",
    "top": "150px",
    "width": "460.8px"
   },
   "toc_section_display": true,
   "toc_window_display": true
  }
 },
 "nbformat": 4,
 "nbformat_minor": 5
}
