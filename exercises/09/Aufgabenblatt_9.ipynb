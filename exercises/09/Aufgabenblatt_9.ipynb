{
 "cells": [
  {
   "cell_type": "markdown",
   "id": "329aed27-9c2c-4690-baf8-cb04744c7a2c",
   "metadata": {},
   "source": [
    "# Aufgabenblatt 9"
   ]
  },
  {
   "cell_type": "markdown",
   "id": "136d2df8-be04-4bdd-b832-7b73a377b7f6",
   "metadata": {},
   "source": [
    "<p style=\"border-left:5px solid red;padding:0.6em;box-sizing:border-box;\">\n",
    "<strong>Lernziele:</strong><br/>\n",
    "    In dieser beschäftigen wir uns mit der gausschen Normalverteilung, sowie dem Zentralen Grenzwertsatz.\n",
    "</p>\n",
    "\n",
    "<p style=\"border-left:5px solid blue;padding:0.6em;box-sizing:border-box;\">\n",
    "<strong>Wichtigste neuen Funktionen für diese Übung:</strong><br/>\n",
    "    Dies sind die wichtigsten Funktionen die sie während dieser Übung benötigen:<br>\n",
    "    Die jeweilige Syntax beschreibt eine examplarische Verwendung. Der Funktionsname ist jeweils ein Link zur offiziellen Dokumentation, welche alle Argumente der Funktion darlegt und ihre Funktionalität beschreibt. <br>\n",
    "    <b>Funktionen zur statistischen Analyse: </b><br>\n",
    "    <a href=\"https://numpy.org/doc/stable/reference/random/generated/numpy.random.normal.html\">numpy.random.normal(...)</a> Zieht einen Zufallswert aus einer Gusschen Normalverteilung.<br>\n",
    "    <a href=\"https://numpy.org/doc/stable/reference/random/generated/numpy.random.choice.html\">numpy.random.choice(...)</a> Wählt zufällige Elemente aus einem Array aus.<br>\n",
    "    <a href=\"https://numpy.org/doc/stable/reference/generated/numpy.squeeze.html\">numpy.squeeze(...)</a> Entfernt alle singulären Dimensionen eines numpy Arrays.<br>\n",
    "</p>"
   ]
  },
  {
   "cell_type": "code",
   "execution_count": 1,
   "id": "f6b59d52-3392-4088-a19a-649785753ed8",
   "metadata": {
    "ExecuteTime": {
     "end_time": "2024-04-23T11:51:04.693234428Z",
     "start_time": "2024-04-23T11:51:04.288737166Z"
    }
   },
   "outputs": [],
   "source": [
    "import numpy as np\n",
    "import matplotlib.pyplot as plt"
   ]
  },
  {
   "cell_type": "code",
   "execution_count": null,
   "id": "49f0d857-3678-4076-9c4e-597f3856ab85",
   "metadata": {},
   "outputs": [],
   "source": [
    "def PMF(data, resolution):\n",
    "    # Definieren der Bins und Berechnen des Histogramms\n",
    "    # Wir addieren resolution / 1000 zur Obergrenze, um sicherzustellen, dass der letzte Wert auch im Array ist.\n",
    "    bin_centers = np.arange(np.min(data), np.max(data) + resolution / 1000, resolution)\n",
    "    bin_edges = np.linspace(bin_centers[0] - resolution / 2,\n",
    "                            bin_centers[-1] + resolution / 2,\n",
    "                            len(bin_centers) + 1)\n",
    "    \n",
    "    hist, _ = np.histogram(data, bin_edges)\n",
    "    \n",
    "    # Normieren\n",
    "    px = hist / np.sum(hist)\n",
    "    \n",
    "    return bin_centers, px"
   ]
  },
  {
   "cell_type": "markdown",
   "id": "03fd39f2-99e3-4b78-a868-688fee85982e",
   "metadata": {},
   "source": [
    "## Aufgabe 0"
   ]
  },
  {
   "cell_type": "markdown",
   "id": "d96af5c8-d855-409a-9ad3-ec66981f0ab7",
   "metadata": {},
   "source": [
    "In dieser Aufgabe werden wir uns mit der Gausschen Normalverteilung vertraut machen. Dazu werden wir Daten analysieren, die aus einer Normalverteilung stammen, und diese plotten.\\\n",
    "Zur Erinnerung: Die Wahrscheinlichkeitsdichtefunktion der Gaussche Normalverteilung ist definiert als $$ f(x) = {1 \\over \\sqrt{2\\pi\\sigma^2}} e^{-{1 \\over 2}{(x-\\mu)^2 \\over \\sigma^2}}$$"
   ]
  },
  {
   "cell_type": "markdown",
   "id": "fd7ff880-7dba-418b-a700-4b9ec3c4375c",
   "metadata": {},
   "source": [
    "## a)\n",
    "Ihre Aufgabe besteht darin, eine Funktion zu vervollständigen, die die Wahrscheinlichkeitsmassefunktion (PMF) einer Normalverteilung an den Stellen der Werte im Vektor x zurückgibt. Die Normalverteilung soll dabei einen Mittelwert mu und eine Standardabweichung sigma haben.\n",
    "\\\n",
    "**Hinweis:** Die Wahrscheinlichkeitsdichtefunktion und die Wahrscheinlichkeitsmassefunktion unterscheiden sich in einem kleinen Detail der Implementierung"
   ]
  },
  {
   "cell_type": "code",
   "execution_count": null,
   "id": "7113ae0b-0fc5-40d6-aa98-39fa0876014d",
   "metadata": {},
   "outputs": [],
   "source": [
    "def normal_pmf(x, mu, sigma, binsize):\n",
    "    #YOUR CODE HERE\n",
    "    return ...\n",
    "    \n"
   ]
  },
  {
   "cell_type": "markdown",
   "id": "38cbe5ce-56ec-48a5-9498-fe8542f9f42e",
   "metadata": {},
   "source": [
    "## b)\n",
    "Ziehen Sie 1000 Werte aus einer Normalverteilung (Sie können dazu die Funktion numpy.random.normal verwenden). Plotten Sie das Histogramm dieser Zufallswerte und überlagern Sie einen Plot der entsprechenden PMF mit den selben Parametern. Zur Darstellung der PMF der Zufallswerte können Sie die oben definierte PMF-Funktion verwenden.\\\n",
    "\\\n",
    "Ändern sie die Anzahl der Zufallswerte die sie für ihr Histogram verwenden um ein Gefühl zu erhalten, wie die Verteilung mit zunehmender Anzahl an Datenpunkten immer besser die Normalverteilung abbildet."
   ]
  },
  {
   "cell_type": "code",
   "execution_count": null,
   "id": "8891d511-cf78-4beb-b6c7-387ff2a78181",
   "metadata": {},
   "outputs": [],
   "source": [
    "# YOUR CODE HERE"
   ]
  },
  {
   "cell_type": "markdown",
   "id": "1538762e-eb05-4cef-bc62-ced61ac302a3",
   "metadata": {},
   "source": [
    "## Aufgabe 1: Zentraler Grenzwertsatz"
   ]
  },
  {
   "cell_type": "markdown",
   "id": "dc3434fe-0d8f-479a-82c8-24216e2f0417",
   "metadata": {},
   "source": [
    "Der zentrale Grenzwertsatz ist ein wichtiges Resultat der Wahrscheinlichkeitstheorie. Dieses besagt, wie in der Vorlesung vermittelt, das unter der Annahme von unabhängigen und identisch verteilten Zufallsvariablen, die Verteilung der Mittelwerte dieser Stichproben sich einer Gausschen Normalverteilung annähen werden. Dies ist unabhängig von der Verteilung der unterliegenden Daten.\n",
    "In der Datei 'NASA_small_body_data_period.txt' sind die Umlaufzeiten der meisten bekannten kleineren Objekte in unserem Sonnensystem enthalten. Im folgenden werden wir uns mit derer Verteilung beschäftigen. "
   ]
  },
  {
   "cell_type": "markdown",
   "id": "dc59798a-62d7-4ec5-8652-26171f256c46",
   "metadata": {},
   "source": [
    "## a)"
   ]
  },
  {
   "cell_type": "markdown",
   "id": "657dd5bb-c169-4ed0-b8d0-4dd1e4f14675",
   "metadata": {},
   "source": [
    "Laden sie den Datensatz 'NASA_small_body_data_period.txt' und stellen sie die Verteilung der Umlaufzeiten in einem Plot da. Wie würden sie diese Verteilung beschreiben? Ist diese Verteilung eine Gaussche Normalverteilung? Wenn ja, was ist deren Mittelwert und Standardabweichung? Wenn nein, haben sie eine Idee warum dies nicht der Fall ist?\n"
   ]
  },
  {
   "cell_type": "code",
   "execution_count": null,
   "id": "7f6f5218-9933-4d77-a16a-bf5182749d35",
   "metadata": {},
   "outputs": [],
   "source": [
    "# YOUR CODE HERE"
   ]
  },
  {
   "cell_type": "markdown",
   "id": "cb52a89f-ab96-4264-805f-c93b2f04d659",
   "metadata": {},
   "source": [
    "## b)"
   ]
  },
  {
   "cell_type": "markdown",
   "id": "a89c9495-f889-43b1-b473-b357e66f955e",
   "metadata": {},
   "source": [
    "Im nächsten Schritt möchten wir den zentralen Grenzwertsatz auf diese Daten anwenden. Dazu gehen wir folgendermaßen vor:\n",
    "\n",
    "1. Ziehen Sie eine Stichprobe mit 500 Objekten aus den gegebenen Daten.\n",
    "2. Berechnen Sie den Mittelwert dieser Stichprobe und speichern Sie diesen in einem NumPy-Array.\n",
    "3. Wiederholen Sie dieses Verfahren 250-mal.\n",
    "\n",
    "Gemäß dem zentralen Grenzwertsatz sollte die Verteilung dieser Mittelwerte der Stichproben sich einer Gaußverteilung annähern.\n",
    "\n",
    "Um dies zu überprüfen, befolgen Sie das oben genannte Vorgehen. Plotten Sie als nächstes die Verteilung der Mittelwerte der Stichproben mittels eines Histogramms.\\\n",
    "\n",
    "In der Vorlesung haben Sie gelernt, dass der erwartete Mittelwert und die Standardabweichung der Normalverteilung aus den Ursprungsdaten berechnet werden können.\\\n",
    "Tun Sie dies und überlagern Sie diese erwartete Normalverteilung mit dem bereits geplotteten Histogramm.\n"
   ]
  },
  {
   "cell_type": "code",
   "execution_count": null,
   "id": "c0ceb093-2c59-4e5c-b8fe-66780c769d57",
   "metadata": {},
   "outputs": [],
   "source": [
    "# YOUR CODE HERE"
   ]
  },
  {
   "cell_type": "markdown",
   "id": "cff8b9c3-aef7-435b-8dc2-05fe26d3a2a2",
   "metadata": {},
   "source": [
    "# c)"
   ]
  },
  {
   "cell_type": "markdown",
   "id": "76114f9f-9188-43bc-b197-1ca5ca180f6b",
   "metadata": {},
   "source": [
    "Wiederholen Sie dies für den Fall, dass Sie 2, 10, 100, 1000 Werte pro Stichprobe nehmen. Stellen Sie das Ergebnis in einer Abbildung mit 4 Untergrafiken dar. Was fällt dabei auf? Wie verhält sich das Histogramm der Stichproben im Vergleich zur erwarteten Normalverteilung?\\\n",
    "Ändern Sie zusätzlich die Anzahl der Stichproben. Welchen Effekt hat dies?"
   ]
  },
  {
   "cell_type": "code",
   "execution_count": null,
   "id": "2d28171e-71c0-4bdb-9f87-e37fe4717adb",
   "metadata": {},
   "outputs": [],
   "source": [
    "n_samples_list = np.array([2, 10, 100, 1000])\n",
    "number_of_samples = 500\n",
    "# YOUR CODE HERE"
   ]
  },
  {
   "cell_type": "markdown",
   "id": "e531e4e4-cb20-4f1d-bd2d-6261edcd31fa",
   "metadata": {},
   "source": [
    "## d)"
   ]
  },
  {
   "cell_type": "markdown",
   "id": "2040c6a5-a860-4a1a-a53a-8c353fffca41",
   "metadata": {},
   "source": [
    "Um das Ziehen der Stichproben effizienter zu gestalten, wurde der folgende Code geschrieben:"
   ]
  },
  {
   "cell_type": "code",
   "execution_count": null,
   "id": "0a0352ff-d086-4ffa-b520-4fec92febed0",
   "metadata": {},
   "outputs": [],
   "source": [
    "def draw_samples(data, sample_size, number_of_samples):\n",
    "    start_points = np.random.randint(0, data.size-sample_size, size=(1,number_of_samples))\n",
    "    drawn_indicess = np.squeeze(np.linspace(start_points, start_points + sample_size-1 ,sample_size))\n",
    "    sample_data = data[drawn_indicess.astype(int)]\n",
    "    \n",
    "    return sample_data"
   ]
  },
  {
   "cell_type": "markdown",
   "id": "55975b41-235f-4c25-812a-d86ce56fd624",
   "metadata": {},
   "source": [
    "Ziehen Sie 1000 Stichproben, wobei jede Stichprobe aus 5000 Objekten besteht, und plotten Sie die Verteilung der Mittelwerte dieser Stichproben. Was fällt Ihnen dabei auf? Können Sie dieses Verhalten erklären?"
   ]
  },
  {
   "cell_type": "code",
   "execution_count": null,
   "id": "b25f2859-75b1-4c1a-acd3-db65960d0694",
   "metadata": {},
   "outputs": [],
   "source": [
    "sample_size = 5000\n",
    "number_of_samples = 1000\n",
    "\n",
    "# YOUR CODE HERE\n"
   ]
  },
  {
   "cell_type": "code",
   "execution_count": null,
   "id": "7f96156e-f12e-4829-b96f-33edd26d8de4",
   "metadata": {},
   "outputs": [],
   "source": []
  }
 ],
 "metadata": {
  "kernelspec": {
   "display_name": "Python 3 (ipykernel)",
   "language": "python",
   "name": "python3"
  },
  "language_info": {
   "codemirror_mode": {
    "name": "ipython",
    "version": 3
   },
   "file_extension": ".py",
   "mimetype": "text/x-python",
   "name": "python",
   "nbconvert_exporter": "python",
   "pygments_lexer": "ipython3",
   "version": "3.12.1"
  }
 },
 "nbformat": 4,
 "nbformat_minor": 5
}
