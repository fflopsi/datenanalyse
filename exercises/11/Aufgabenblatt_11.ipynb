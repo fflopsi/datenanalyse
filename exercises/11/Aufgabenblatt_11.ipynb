{
 "cells": [
  {
   "cell_type": "code",
   "execution_count": 11,
   "id": "ad16913b",
   "metadata": {},
   "outputs": [],
   "source": [
    "import numpy as np\n",
    "import matplotlib.pyplot as plt"
   ]
  },
  {
   "cell_type": "markdown",
   "id": "3c2fd954",
   "metadata": {},
   "source": [
    "# Aufgabe 1 Gradientenverfahren"
   ]
  },
  {
   "cell_type": "markdown",
   "id": "d8efd2b3-32ce-4673-8cd2-63f4b5b26a8d",
   "metadata": {},
   "source": [
    "<p style=\"border-left:5px solid red;padding:0.6em;box-sizing:border-box;\">\n",
    "<strong>Lernziele:</strong><br/>\n",
    "    In der letzten Übung haben Sie lineare Regression kennen gelernt, mit der man Daten fitten kann, deren Parameter linear in die Funktion eingehen. Dieses Kriterium ist allerdings oft nicht erfüllt (z.B. bei Exponentialzerfällen, Gaussverteilungen, Lorentz-Funktionen etc.), was dazu führt, dass man numerische Methoden anwenden muss. Wir werden in dieser Übung das Gradientenverfahren anschauen. Die zugrundeliegende Idee ist, dass man die Summe der Residuenquadrate minimiert, indem man deren steilsten Gradienten bezüglich der Fitparameter folgt. </p>\n",
    "\n",
    "<p style=\"border-left:5px solid blue;padding:0.6em;box-sizing:border-box;\">\n",
    "<strong>Wichtigste neuen Funktionen für diese Übung:</strong><br/>\n",
    "    Dies sind die wichtigsten Funktionen die sie während dieser Übung benötigen:<br>\n",
    "    Die jeweilige Syntax beschreibt eine examplarische Verwendung. Der Funktionsname ist jeweils ein Link zur offiziellen Dokumentation, welche alle Argumente der Funktion darlegt und ihre Funktionalität beschreibt. <br>\n",
    "    <b>Funktionen zur statistischen Analyse: </b><br>\n",
    "    <a href=\"https://numpy.org/doc/stable/reference/generated/numpy.linalg.inv.html\">numpy.linalg.inv(...)</a><br>\n",
    "    <a href=\"https://numpy.org/doc/stable/reference/generated/numpy.linalg.norm.html\">numpy.linalg.norm(...)</a><br>\n",
    "    <a href=\"https://numpy.org/doc/stable/reference/generated/numpy.diag.html\">numpy.diag(...)</a><br>\n",
    "    <a href=\"https://docs.scipy.org/doc/scipy/reference/generated/scipy.optimize.curve_fit.html\">scipy.optimize.curve_fit(...)</a><br>\n",
    "    <b>Funktionen zum Plotten: </b><br>\n",
    "    <a href=\"https://matplotlib.org/stable/api/_as_gen/matplotlib.axes.Axes.errorbar.html\"> axis.errorbar(...)</a> <br>\n",
    "    <a href=\"https://matplotlib.org/stable/api/_as_gen/matplotlib.axes.Axes.pcolormesh..html\"> axis.pcolormesh(...)</a> <br>\n",
    "</p>"
   ]
  },
  {
   "cell_type": "markdown",
   "id": "e720e225",
   "metadata": {},
   "source": [
    "## a)"
   ]
  },
  {
   "cell_type": "markdown",
   "id": "447c782f",
   "metadata": {},
   "source": [
    "Laden Sie zuerst die Daten aus dem File 'decay.txt'. Sie enthalten eine Spannung, die exponentiell mit der Zeit zerfällt,\n",
    "\n",
    "$$ V(t) = Ae^{-\\frac{t}{\\tau}},$$\n",
    "\n",
    "sowie deren Unsicherheiten. Stellen Sie die Werte mit Fehlerbalken dar, und schätzen Sie die Amplitude $A$ und die Zerfallszeit $\\tau$  ab, indem Sie sie aus der Grafik lesen."
   ]
  },
  {
   "cell_type": "code",
   "execution_count": null,
   "id": "8e388a7b",
   "metadata": {},
   "outputs": [],
   "source": []
  },
  {
   "cell_type": "markdown",
   "id": "7cc18b1f",
   "metadata": {},
   "source": [
    "## b)"
   ]
  },
  {
   "cell_type": "markdown",
   "id": "5760bd3e",
   "metadata": {},
   "source": [
    "Schreiben Sie zuerst eine Funktion $f(x,\\vec{a})$, die das Modell beschreibt.\n",
    "\n",
    "Anschliessend definieren Sie die Funktion die\n",
    "\n",
    "$$S = \\sum_{n=0}^{m} \\frac{(y_i - f(x_i, \\vec{a}))^2}{\\sigma_i^2}$$\n",
    "\n",
    "berechnet. Sie sollte $x$, $y$, $\\sigma$, $f$ und $\\vec{a}$ als Argumente nehmen und $S$ zurückgeben. Benutzen Sie die Funktion um $S$ für verschiedene Parameter $\\vec{a}$ um die Werte herum zu berechnen, die Sie in a) abgeschätzt haben (je ca. 50 Punkte sollten genügen). Plotten Sie $\\log(S)$ in einer 2D Grafik (Analog zur Übung 10). \n"
   ]
  },
  {
   "cell_type": "code",
   "execution_count": null,
   "id": "216d54ff",
   "metadata": {},
   "outputs": [],
   "source": []
  },
  {
   "cell_type": "markdown",
   "id": "6273de29",
   "metadata": {},
   "source": [
    "## c)"
   ]
  },
  {
   "cell_type": "markdown",
   "id": "54979621",
   "metadata": {},
   "source": [
    "Für das Gradientenverfahren benötigen wir die erste und die zweite Ableitung von $S$ bezüglich der Parameter $a_i$. Man kann die erste Ableitung berrechnen indem man die Werte von $\\vec{a}$ um einen kleinen Wert $\\Delta$ variiert und die Differenz betrachtet. Um die Ableitung nach jedem Parameter separat zu berechnen, definieren wir den Vektor $\\vec{\\Delta}_i = \\Delta \\vec{e}_i$ der den Parameter $a_i$ variiert. Damit ergibt sich für die erste Ableitung:\n",
    "\n",
    "$$\n",
    "(\\vec{\\nabla}S)_i = \\frac{\\partial S}{\\partial {a_i}} = \\frac{S(x, y, \\sigma, f, \\vec{a} + \\vec{\\Delta}_i) - S(x, y, \\sigma, f, \\vec{a} - \\vec{\\Delta}_i)}{2\\Delta}.\n",
    "$$\n",
    "\n",
    "Und die zweite:\n",
    "\n",
    "$$\n",
    "(\\nabla^\\top\\nabla S)_{i,j} = \\frac{\\partial^2 S}{\\partial a_i \\partial a_j}= \\frac{S(x, y, \\sigma, f, \\vec{a} + \\vec{\\Delta}_i + \\vec{\\Delta}_j) - S(x, y, \\sigma, f, \\vec{a}  - \\vec{\\Delta}_i + \\vec{\\Delta}_j) - S(x, y, \\sigma, f, \\vec{a}  + \\vec{\\Delta}_i - \\vec{\\Delta}_j) + S(x, y, \\sigma, f, \\vec{a}  - \\vec{\\Delta}_i - \\vec{\\Delta}_j)}{4\\Delta^2}.\n",
    "$$\n",
    "\n",
    "Wir stellen eine Funktion für die zweite Ableitung zur Verfügung. Versuchen Sie die Schritte nachzuvollziehen und schreiben Sie analog dazu eine Funktion, die die erste Ableitung berechnet."
   ]
  },
  {
   "cell_type": "code",
   "execution_count": 17,
   "id": "58c27cb0",
   "metadata": {},
   "outputs": [],
   "source": [
    "def dS2 (x, y, sigma, f, a, delta):\n",
    "    # Leere Matrix um die Komponenten zu speichern\n",
    "    delta_S2 = np.zeros((len(a), len(a)))\n",
    "    \n",
    "    # Da wir über alle Kombinationen der a_i's ableiten müssen, iterieren wir in zwei verschachtelten Schlaufen über die\n",
    "    # Einträge von a. \n",
    "    for i in range(len(a)):\n",
    "        for j in range(len(a)):\n",
    "            # Wir definieren neue Delta-Vektoren, die nur einen Eintrag in der Entsprechenden Dimension haben z.B. (Delta, 0)\n",
    "            delta_i = np.zeros(len(a))\n",
    "            delta_j = np.zeros(len(a))\n",
    "            delta_i[i] = delta\n",
    "            delta_j[j] = delta\n",
    "            \n",
    "            # Und wir berechnen die Matrixelemente so wie in der Aufgabenstellung gegeben.\n",
    "            delta_S2[i,j] = (  Sres(x, y, sigma, f, a + delta_i + delta_j)\n",
    "                             - Sres(x, y, sigma, f, a - delta_i + delta_j)\n",
    "                             - Sres(x, y, sigma, f, a + delta_i - delta_j)\n",
    "                             + Sres(x, y, sigma, f, a - delta_i - delta_j)) / (4 * delta * delta)\n",
    "    return delta_S2"
   ]
  },
  {
   "cell_type": "code",
   "execution_count": null,
   "id": "a07037a4",
   "metadata": {},
   "outputs": [],
   "source": []
  },
  {
   "cell_type": "markdown",
   "id": "c7f4aa6a",
   "metadata": {},
   "source": [
    "## d)"
   ]
  },
  {
   "cell_type": "markdown",
   "id": "e07fafd5",
   "metadata": {},
   "source": [
    "Schreiben Sie nun eine Funktion, die das Gradientenverfahren anwendet, um die optimalen Parameter zu finden. Berechnen Sie dazu zuerst $\\vec{\\nabla} S$ und dessen Betrag $|dS| = |\\vec{\\nabla} S|$ für einen Startwert $\\vec{a}_0$. Berechnen Sie anschliessend den nächsten Wert $\\vec{a} = \\vec{a}_0-\\alpha\\vec{\\nabla} S $ mithilfe des Proportionalitätswertes $\\alpha$ und dann vom neuen $\\vec{a}$ wieder $\\vec{\\nabla} S$ und $|dS|$. Iterieren Sie nun über diesen Prozess mit einem `while` loop, bis $|dS|$ klein genug ist. Als Alternative sollten Sie auch eine maximale Anzahl Iterationen $i_{\\mathrm{max}}$ als Abbruchbedingung definieren, falls die Annäherung zum Minimum zu langsam oder gar nicht konvergiert. Es ist sinnvoll, in einer Fitfunktion auch direkt die Kovarianzmatrix zu berechnen, dazu können Sie die Funktion `np.linalg.inv` benutzen.\n",
    "\n",
    "Die Funktion sollte also folgende Argument nehmen: $x$, $y$, $\\sigma$, $f$, $\\vec{a}_0$, $\\Delta$, $\\alpha$, $|dS|_{min}$ und $i_{max}$. Die Funktion sollte die optimalen Parameter sowie die Kovarianzmatrix als Resultate zurückgeben. Zudem sollte sie auch noch $|dS|$ für jede Iteration speichern und zusammen mit der Anzahl ausgeführten Iterationen zurückgeben."
   ]
  },
  {
   "cell_type": "code",
   "execution_count": null,
   "id": "0776b553",
   "metadata": {},
   "outputs": [],
   "source": []
  },
  {
   "cell_type": "markdown",
   "id": "421d9b26",
   "metadata": {},
   "source": [
    "## e)"
   ]
  },
  {
   "cell_type": "markdown",
   "id": "17ad3ba9",
   "metadata": {},
   "source": [
    "Fitten Sie nun die Parameter mit dem Gradientenverfahren. Was sind die optimalen Parameter und ihre Fehler, wie viele Iterationen hat der Algorithmus gebraucht?\n",
    "\n",
    "Benutzen Sie als Anfangswerte Ihre Abschätzungen von Aufgabe a). Für die restlichen Parameter können Sie die folgenden Werte verwenden, schauen Sie sich aber auch mal an, was passiert, wenn Sie diese variieren.\n",
    "\n",
    "$$\n",
    "\\Delta = 10^{-4}\\qquad\\alpha = 10^{-5}\\qquad{}|dS|_{min} = 10^{-3}\\qquad{}i_{max} = 10^{5}\n",
    "$$"
   ]
  },
  {
   "cell_type": "code",
   "execution_count": null,
   "id": "e13a74c2",
   "metadata": {},
   "outputs": [],
   "source": []
  },
  {
   "cell_type": "markdown",
   "id": "66e1c652",
   "metadata": {},
   "source": [
    "## f)"
   ]
  },
  {
   "cell_type": "markdown",
   "id": "a149096e",
   "metadata": {},
   "source": [
    "Um die Plausibilität der Fitresultate zu überprüfen, plotten Sie nochmals die Daten mit Fehlerbalken und dazu die Exponentialfunktion mit den berechneten optimalen Parametern. Sie sollten sehen, dass die berechnete Funktion in den meisten Fällen innerhalb der Fehlerbalken liegt. Schauen Sie sich auch an, wie schnell der Fit besser wird, indem Sie $|dS|$ als Funktion des Iterations-Indexes darstellen.\n",
    "\n",
    "Bonus: Modifizieren Sie Ihre Funktion des Gradientenverfahrens so, dass sie bei jeder Iteration den aktuellen Wert von $\\vec{a}$ speichert und zurückgibt. Plotten Sie nun nochmals die 2D Map von Aufgabe b), Sie können nun mit `plt.plot` direkt die Werte von $\\vec{a}$ darüber plotten. Damit können Sie direkt verfolgen, welchen Weg das Gradientenverfahren einschlägt."
   ]
  },
  {
   "cell_type": "code",
   "execution_count": null,
   "id": "54b167c7",
   "metadata": {},
   "outputs": [],
   "source": []
  },
  {
   "cell_type": "markdown",
   "id": "056c39ee",
   "metadata": {},
   "source": [
    "## g)"
   ]
  },
  {
   "cell_type": "markdown",
   "id": "4a0da420",
   "metadata": {},
   "source": [
    "Das Verfahren lässt sich beschleunigen, indem man die Schrittgrösse $\\alpha$ proportional zur Steigung von $dS$, also der zweiten Ableitung, skaliert. Die entsprechende Formel für die Parameter ist wie folgt:\n",
    "$$\n",
    "a_i = a_{i,0} - \\alpha\\left(\\frac{\\partial^2 S}{\\partial a_i \\partial a_i}\\right)^{-1} \\frac{\\partial S}{\\partial a_i}\n",
    "$$\n",
    "\n",
    "Schreiben Sie eine neue Funktion, die proportionale Schrittgrössen verwendet und fitten Sie erneut die Daten. Sie können die gleichen Parameter verwenden, mit Ausnahme von $\\alpha=1$. Überprüfen Sie erneut die Qualität des Fits, indem Sie die Funktion mit den optimalen Parametern zusammen mit den Daten plotten. Vergleichen Sie auch wie schnell $|dS|$ abnimmt im Vergleich zur obigen Funktion.\n",
    "\n",
    "Bonus: Sie können sich auch hier wieder die Werte von $\\vec{a}$ ausgeben lassen und in den 2D Plot einfügen."
   ]
  },
  {
   "cell_type": "code",
   "execution_count": null,
   "id": "5b41b18b",
   "metadata": {},
   "outputs": [],
   "source": []
  },
  {
   "cell_type": "markdown",
   "id": "0d47cf87",
   "metadata": {},
   "source": [
    "## h)"
   ]
  },
  {
   "cell_type": "markdown",
   "id": "019f01cb",
   "metadata": {},
   "source": [
    "In der Vorlesung haben sie `lmfit` gesehen, eine Alternative ist `curve_fit` von `scipy.optimize` zu benutzen. Der Unterschied ist lediglich das Interface, im Hintergrund machen beide Methoden dasselbe. Verwenden Sie `curve_fit` um die Daten zu fitten und vergleichen Sie die Werte.\n",
    "\n",
    "Falls Sie die Parameter zuvor als Vektoren an die Exponentialfunktion übergeben haben, ist es hier einfacher wenn Sie die Parameter einzeln übergeben. Sprich:\n",
    "\n",
    "$$\n",
    "f(x, \\vec{a}) \\qquad \\Rightarrow \\qquad f(x, a_1, a_2,...)\n",
    "$$"
   ]
  },
  {
   "cell_type": "code",
   "execution_count": null,
   "id": "7f872929",
   "metadata": {},
   "outputs": [],
   "source": [
    "from scipy.optimize import curve_fit\n",
    "curve_fit?"
   ]
  },
  {
   "cell_type": "code",
   "execution_count": null,
   "id": "c438b8ae",
   "metadata": {},
   "outputs": [],
   "source": []
  }
 ],
 "metadata": {
  "kernelspec": {
   "display_name": "Python 3 (ipykernel)",
   "language": "python",
   "name": "python3"
  },
  "language_info": {
   "codemirror_mode": {
    "name": "ipython",
    "version": 3
   },
   "file_extension": ".py",
   "mimetype": "text/x-python",
   "name": "python",
   "nbconvert_exporter": "python",
   "pygments_lexer": "ipython3",
   "version": "3.12.1"
  },
  "latex_envs": {
   "LaTeX_envs_menu_present": true,
   "autoclose": false,
   "autocomplete": true,
   "bibliofile": "biblio.bib",
   "cite_by": "apalike",
   "current_citInitial": 1,
   "eqLabelWithNumbers": true,
   "eqNumInitial": 1,
   "hotkeys": {
    "equation": "Ctrl-E",
    "itemize": "Ctrl-I"
   },
   "labels_anchors": false,
   "latex_user_defs": false,
   "report_style_numbering": false,
   "user_envs_cfg": false
  },
  "toc": {
   "base_numbering": 1,
   "nav_menu": {},
   "number_sections": false,
   "sideBar": true,
   "skip_h1_title": false,
   "title_cell": "Table of Contents",
   "title_sidebar": "Contents",
   "toc_cell": false,
   "toc_position": {
    "height": "calc(100% - 180px)",
    "left": "10px",
    "top": "150px",
    "width": "460.8px"
   },
   "toc_section_display": true,
   "toc_window_display": true
  }
 },
 "nbformat": 4,
 "nbformat_minor": 5
}
