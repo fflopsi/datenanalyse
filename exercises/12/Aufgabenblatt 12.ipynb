{
 "cells": [
  {
   "cell_type": "code",
   "execution_count": 2,
   "id": "de6a078f-c508-48af-8b53-fb060ef6ec27",
   "metadata": {
    "ExecuteTime": {
     "end_time": "2024-05-14T12:02:16.837836324Z",
     "start_time": "2024-05-14T12:02:16.826404967Z"
    }
   },
   "outputs": [],
   "source": [
    "import numpy as np\n",
    "import matplotlib.pyplot as plt\n",
    "\n",
    "# Neue imports für pandas und scikit-learn\n",
    "import pandas as pd\n",
    "from sklearn import linear_model\n",
    "from sklearn.neural_network import MLPRegressor, MLPClassifier\n",
    "from sklearn.preprocessing import StandardScaler\n",
    "from sklearn.metrics import r2_score"
   ]
  },
  {
   "cell_type": "markdown",
   "id": "853354a8-3973-47b9-b3cc-8fdaee175fed",
   "metadata": {},
   "source": [
    "# Einführung: Manipulieren von Daten mit Pandas"
   ]
  },
  {
   "cell_type": "markdown",
   "id": "0cc36dc1-b683-4162-93a6-3745abb52c4f",
   "metadata": {},
   "source": [
    "In den bisherigen Beispielen haben wir vor allem mit Numpy-Arrays gearbeitet. Für das Manipulieren von grösseren Datensätzen mit vielen Variablen, wie wir dies in typischen Machine Learning Anwendungen häufig sehen, ist numpy aber nicht geeignet. Wir können dafür stattdessen die Bibliothek [Pandas](https://pandas.pydata.org/) verwenden. Pandas bietet viele nützliche Funktionen für die Darstellung der Daten, das Auswählen von Teilmengen der Daten, sowie Sortieren und Gruppieren der Daten. So kann man zum Beispiel Variablen nach Namen auswählen und muss nicht immer mit numerischen Indizes arbeiten. Ausserdem kann ein Pandas-Dataframe, im Gegensatz zu einem Numpy-Array, Zeilen oder Spalten mit verschiedenen Datentypen enthalten.\n",
    "\n",
    "Hier sehen Sie einige Beispiele, die für die Bearbeitung des Übungsblatts nützlich sind."
   ]
  },
  {
   "cell_type": "markdown",
   "id": "d8e1888a-9b77-4527-ade5-4828bbfa9947",
   "metadata": {},
   "source": [
    "Als erstes erstellen wir uns ein Dataframe (d.h. eine Tabelle), indem wir Daten mit der `read_csv` Methode von pandas einlesen. "
   ]
  },
  {
   "cell_type": "code",
   "execution_count": 3,
   "id": "9eb2deeb-b8cf-4483-962e-0bb8a9b76d39",
   "metadata": {
    "ExecuteTime": {
     "end_time": "2024-05-14T12:02:55.844862405Z",
     "start_time": "2024-05-14T12:02:55.803583273Z"
    }
   },
   "outputs": [],
   "source": [
    "df = pd.read_csv('daten/periodic_table.csv')"
   ]
  },
  {
   "cell_type": "markdown",
   "id": "53fa3573-3173-45fa-ad07-9ff591650954",
   "metadata": {},
   "source": [
    "Wir können uns die ersten paar Zeilen mit der Methode `head` anzeigen lassen:"
   ]
  },
  {
   "cell_type": "code",
   "execution_count": 4,
   "id": "a7ee6423-bfa7-4151-a632-350637e9cfff",
   "metadata": {
    "ExecuteTime": {
     "end_time": "2024-05-14T12:02:57.929438829Z",
     "start_time": "2024-05-14T12:02:57.855783993Z"
    }
   },
   "outputs": [
    {
     "data": {
      "text/plain": "        Name Symbol  Atomic_Number Atomic_Weight               Density  \\\n0   Hydrogen      H              1       1.00794   0.0708 (@ -253degC)   \n1     Helium     He              2      4.002602    0.147 (@ -270degC)   \n2    Lithium     Li              3         6.941                 0.534   \n3  Beryllium     Be              4       9.01218                 1.848   \n4      Boron      B              5        10.811                  2.34   \n5     Carbon      C              6        12.011       2.25 (graphite)   \n6   Nitrogen      N              7      14.00674  0.808 (@ -195.8degC)   \n7     Oxygen      O              8       15.9994    1.149 (@ -183degC)   \n8   Fluorine      F              9     18.998403    1.108 (@ -189degC)   \n9       Neon     Ne             10       20.1797    1.204 (@ -246degC)   \n\n  Melting_Point Boiling_Point Atomic_Radius Covalent_Radius  Ionic_Radius  \\\n0         14.01         20.28            79              32           NaN   \n1          0.95         4.216             0               -           NaN   \n2        553.69       1118.15           155             163           NaN   \n3          1551          3243           112              90           NaN   \n4          2573          3931            98              82           NaN   \n5          3820          5100            91              77           NaN   \n6         63.29          77.4            92              75           NaN   \n7          54.8         90.19             -              73           NaN   \n8         53.53         85.01             -              72           NaN   \n9            48          27.1             -              71           NaN   \n\n   ... Specific_Heat  Heat_Fusion Heat_Evaporation Thermal_Conductivity  \\\n0  ...  14.267 (H-H)  0.117 (H-H)      0.904 (H-H)               0.1815   \n1  ...         5.188            -             0.08                0.152   \n2  ...         3.489         2.89              148                 84.8   \n3  ...         1.824        12.21              309                  201   \n4  ...         1.025         23.6            504.5                 27.4   \n5  ...         0.711            -                -                 1.59   \n6  ...   1.042 (N-N)            -                -                0.026   \n7  ...   0.916 (O-O)            -                -                0.027   \n8  ...   0.824 (F-F)   0.51 (F-F)       6.54 (F-F)                0.028   \n9  ...         1.029            -             1.74             <0.0493>   \n\n  Pauling_Electronegativity First_Ionisation_Energy Oxidation_States  \\\n0                       2.2                  1311.3             1 -1   \n1                         -                  2361.3                -   \n2                      0.98                   519.9                1   \n3                      1.57                   898.8                2   \n4                      2.04                   800.2                3   \n5                      2.55                  1085.7           4 2 -4   \n6                      3.04                  1401.5       5 4 3 2 -3   \n7                      3.44                  1313.1            -2 -1   \n8                      3.98                    1680               -1   \n9                         0                  2079.4                -   \n\n  Electronic_Configuration Lattice Lattice_Constant  \n0                      1s¹     HEX             3.75  \n1                      1s²     HEX             3.57  \n2                  [He]2s¹     BCC             3.49  \n3                  [He]2s²     HEX             2.29  \n4               [He]2s²2p¹     TET             8.73  \n5               [He]2s²2p²     DIA             3.57  \n6               [He]2s²2p³     HEX            4.039  \n7                [He]2s²2p     CUB             6.83  \n8                [He]2s²2p     MCL                -  \n9                [He]2s²2p     FCC             4.43  \n\n[10 rows x 21 columns]",
      "text/html": "<div>\n<style scoped>\n    .dataframe tbody tr th:only-of-type {\n        vertical-align: middle;\n    }\n\n    .dataframe tbody tr th {\n        vertical-align: top;\n    }\n\n    .dataframe thead th {\n        text-align: right;\n    }\n</style>\n<table border=\"1\" class=\"dataframe\">\n  <thead>\n    <tr style=\"text-align: right;\">\n      <th></th>\n      <th>Name</th>\n      <th>Symbol</th>\n      <th>Atomic_Number</th>\n      <th>Atomic_Weight</th>\n      <th>Density</th>\n      <th>Melting_Point</th>\n      <th>Boiling_Point</th>\n      <th>Atomic_Radius</th>\n      <th>Covalent_Radius</th>\n      <th>Ionic_Radius</th>\n      <th>...</th>\n      <th>Specific_Heat</th>\n      <th>Heat_Fusion</th>\n      <th>Heat_Evaporation</th>\n      <th>Thermal_Conductivity</th>\n      <th>Pauling_Electronegativity</th>\n      <th>First_Ionisation_Energy</th>\n      <th>Oxidation_States</th>\n      <th>Electronic_Configuration</th>\n      <th>Lattice</th>\n      <th>Lattice_Constant</th>\n    </tr>\n  </thead>\n  <tbody>\n    <tr>\n      <th>0</th>\n      <td>Hydrogen</td>\n      <td>H</td>\n      <td>1</td>\n      <td>1.00794</td>\n      <td>0.0708 (@ -253degC)</td>\n      <td>14.01</td>\n      <td>20.28</td>\n      <td>79</td>\n      <td>32</td>\n      <td>NaN</td>\n      <td>...</td>\n      <td>14.267 (H-H)</td>\n      <td>0.117 (H-H)</td>\n      <td>0.904 (H-H)</td>\n      <td>0.1815</td>\n      <td>2.2</td>\n      <td>1311.3</td>\n      <td>1 -1</td>\n      <td>1s¹</td>\n      <td>HEX</td>\n      <td>3.75</td>\n    </tr>\n    <tr>\n      <th>1</th>\n      <td>Helium</td>\n      <td>He</td>\n      <td>2</td>\n      <td>4.002602</td>\n      <td>0.147 (@ -270degC)</td>\n      <td>0.95</td>\n      <td>4.216</td>\n      <td>0</td>\n      <td>-</td>\n      <td>NaN</td>\n      <td>...</td>\n      <td>5.188</td>\n      <td>-</td>\n      <td>0.08</td>\n      <td>0.152</td>\n      <td>-</td>\n      <td>2361.3</td>\n      <td>-</td>\n      <td>1s²</td>\n      <td>HEX</td>\n      <td>3.57</td>\n    </tr>\n    <tr>\n      <th>2</th>\n      <td>Lithium</td>\n      <td>Li</td>\n      <td>3</td>\n      <td>6.941</td>\n      <td>0.534</td>\n      <td>553.69</td>\n      <td>1118.15</td>\n      <td>155</td>\n      <td>163</td>\n      <td>NaN</td>\n      <td>...</td>\n      <td>3.489</td>\n      <td>2.89</td>\n      <td>148</td>\n      <td>84.8</td>\n      <td>0.98</td>\n      <td>519.9</td>\n      <td>1</td>\n      <td>[He]2s¹</td>\n      <td>BCC</td>\n      <td>3.49</td>\n    </tr>\n    <tr>\n      <th>3</th>\n      <td>Beryllium</td>\n      <td>Be</td>\n      <td>4</td>\n      <td>9.01218</td>\n      <td>1.848</td>\n      <td>1551</td>\n      <td>3243</td>\n      <td>112</td>\n      <td>90</td>\n      <td>NaN</td>\n      <td>...</td>\n      <td>1.824</td>\n      <td>12.21</td>\n      <td>309</td>\n      <td>201</td>\n      <td>1.57</td>\n      <td>898.8</td>\n      <td>2</td>\n      <td>[He]2s²</td>\n      <td>HEX</td>\n      <td>2.29</td>\n    </tr>\n    <tr>\n      <th>4</th>\n      <td>Boron</td>\n      <td>B</td>\n      <td>5</td>\n      <td>10.811</td>\n      <td>2.34</td>\n      <td>2573</td>\n      <td>3931</td>\n      <td>98</td>\n      <td>82</td>\n      <td>NaN</td>\n      <td>...</td>\n      <td>1.025</td>\n      <td>23.6</td>\n      <td>504.5</td>\n      <td>27.4</td>\n      <td>2.04</td>\n      <td>800.2</td>\n      <td>3</td>\n      <td>[He]2s²2p¹</td>\n      <td>TET</td>\n      <td>8.73</td>\n    </tr>\n    <tr>\n      <th>5</th>\n      <td>Carbon</td>\n      <td>C</td>\n      <td>6</td>\n      <td>12.011</td>\n      <td>2.25 (graphite)</td>\n      <td>3820</td>\n      <td>5100</td>\n      <td>91</td>\n      <td>77</td>\n      <td>NaN</td>\n      <td>...</td>\n      <td>0.711</td>\n      <td>-</td>\n      <td>-</td>\n      <td>1.59</td>\n      <td>2.55</td>\n      <td>1085.7</td>\n      <td>4 2 -4</td>\n      <td>[He]2s²2p²</td>\n      <td>DIA</td>\n      <td>3.57</td>\n    </tr>\n    <tr>\n      <th>6</th>\n      <td>Nitrogen</td>\n      <td>N</td>\n      <td>7</td>\n      <td>14.00674</td>\n      <td>0.808 (@ -195.8degC)</td>\n      <td>63.29</td>\n      <td>77.4</td>\n      <td>92</td>\n      <td>75</td>\n      <td>NaN</td>\n      <td>...</td>\n      <td>1.042 (N-N)</td>\n      <td>-</td>\n      <td>-</td>\n      <td>0.026</td>\n      <td>3.04</td>\n      <td>1401.5</td>\n      <td>5 4 3 2 -3</td>\n      <td>[He]2s²2p³</td>\n      <td>HEX</td>\n      <td>4.039</td>\n    </tr>\n    <tr>\n      <th>7</th>\n      <td>Oxygen</td>\n      <td>O</td>\n      <td>8</td>\n      <td>15.9994</td>\n      <td>1.149 (@ -183degC)</td>\n      <td>54.8</td>\n      <td>90.19</td>\n      <td>-</td>\n      <td>73</td>\n      <td>NaN</td>\n      <td>...</td>\n      <td>0.916 (O-O)</td>\n      <td>-</td>\n      <td>-</td>\n      <td>0.027</td>\n      <td>3.44</td>\n      <td>1313.1</td>\n      <td>-2 -1</td>\n      <td>[He]2s²2p</td>\n      <td>CUB</td>\n      <td>6.83</td>\n    </tr>\n    <tr>\n      <th>8</th>\n      <td>Fluorine</td>\n      <td>F</td>\n      <td>9</td>\n      <td>18.998403</td>\n      <td>1.108 (@ -189degC)</td>\n      <td>53.53</td>\n      <td>85.01</td>\n      <td>-</td>\n      <td>72</td>\n      <td>NaN</td>\n      <td>...</td>\n      <td>0.824 (F-F)</td>\n      <td>0.51 (F-F)</td>\n      <td>6.54 (F-F)</td>\n      <td>0.028</td>\n      <td>3.98</td>\n      <td>1680</td>\n      <td>-1</td>\n      <td>[He]2s²2p</td>\n      <td>MCL</td>\n      <td>-</td>\n    </tr>\n    <tr>\n      <th>9</th>\n      <td>Neon</td>\n      <td>Ne</td>\n      <td>10</td>\n      <td>20.1797</td>\n      <td>1.204 (@ -246degC)</td>\n      <td>48</td>\n      <td>27.1</td>\n      <td>-</td>\n      <td>71</td>\n      <td>NaN</td>\n      <td>...</td>\n      <td>1.029</td>\n      <td>-</td>\n      <td>1.74</td>\n      <td>&lt;0.0493&gt;</td>\n      <td>0</td>\n      <td>2079.4</td>\n      <td>-</td>\n      <td>[He]2s²2p</td>\n      <td>FCC</td>\n      <td>4.43</td>\n    </tr>\n  </tbody>\n</table>\n<p>10 rows × 21 columns</p>\n</div>"
     },
     "execution_count": 4,
     "metadata": {},
     "output_type": "execute_result"
    }
   ],
   "source": [
    "# Zeige die ersten 10 Zeilen des Dataframes\n",
    "df.head(10)"
   ]
  },
  {
   "cell_type": "markdown",
   "id": "4df25349-00e0-4941-9be1-727d65d76127",
   "metadata": {},
   "source": [
    "Um eine Spalte auszuwählen, nutzen wir den Namen der Spalte als \"Index\":"
   ]
  },
  {
   "cell_type": "code",
   "execution_count": 5,
   "id": "0cbee574-8849-415f-9494-3c3212cb002a",
   "metadata": {
    "ExecuteTime": {
     "end_time": "2024-05-14T12:03:38.120688862Z",
     "start_time": "2024-05-14T12:03:38.077832359Z"
    }
   },
   "outputs": [
    {
     "data": {
      "text/plain": "0       1.00794\n1      4.002602\n2         6.941\n3       9.01218\n4        10.811\n         ...   \n113       [289]\n114           -\n115           -\n116           -\n117           -\nName: Atomic_Weight, Length: 118, dtype: object"
     },
     "execution_count": 5,
     "metadata": {},
     "output_type": "execute_result"
    }
   ],
   "source": [
    "df['Atomic_Weight']"
   ]
  },
  {
   "cell_type": "markdown",
   "id": "5ce36431-b528-4101-9218-0a84afe17c39",
   "metadata": {},
   "source": [
    "Wir können auch mehrere Spaltennamen als Liste angeben. In diesem Fall ist das Resultat eine neue Tabelle, die nur aus den entsprechenden Spalten besteht:"
   ]
  },
  {
   "cell_type": "code",
   "execution_count": 6,
   "id": "11bb0c5f-6062-4ab3-ae1f-98cdad59bc2a",
   "metadata": {
    "ExecuteTime": {
     "end_time": "2024-05-14T12:04:18.467011055Z",
     "start_time": "2024-05-14T12:04:18.461785175Z"
    }
   },
   "outputs": [
    {
     "data": {
      "text/plain": "    Symbol Melting_Point Boiling_Point\n0        H         14.01         20.28\n1       He          0.95         4.216\n2       Li        553.69       1118.15\n3       Be          1551          3243\n4        B          2573          3931\n..     ...           ...           ...\n113    Uuq             -             -\n114    Uup             -             -\n115    Uuh             -             -\n116    Uus             -             -\n117    Uuo             -             -\n\n[118 rows x 3 columns]",
      "text/html": "<div>\n<style scoped>\n    .dataframe tbody tr th:only-of-type {\n        vertical-align: middle;\n    }\n\n    .dataframe tbody tr th {\n        vertical-align: top;\n    }\n\n    .dataframe thead th {\n        text-align: right;\n    }\n</style>\n<table border=\"1\" class=\"dataframe\">\n  <thead>\n    <tr style=\"text-align: right;\">\n      <th></th>\n      <th>Symbol</th>\n      <th>Melting_Point</th>\n      <th>Boiling_Point</th>\n    </tr>\n  </thead>\n  <tbody>\n    <tr>\n      <th>0</th>\n      <td>H</td>\n      <td>14.01</td>\n      <td>20.28</td>\n    </tr>\n    <tr>\n      <th>1</th>\n      <td>He</td>\n      <td>0.95</td>\n      <td>4.216</td>\n    </tr>\n    <tr>\n      <th>2</th>\n      <td>Li</td>\n      <td>553.69</td>\n      <td>1118.15</td>\n    </tr>\n    <tr>\n      <th>3</th>\n      <td>Be</td>\n      <td>1551</td>\n      <td>3243</td>\n    </tr>\n    <tr>\n      <th>4</th>\n      <td>B</td>\n      <td>2573</td>\n      <td>3931</td>\n    </tr>\n    <tr>\n      <th>...</th>\n      <td>...</td>\n      <td>...</td>\n      <td>...</td>\n    </tr>\n    <tr>\n      <th>113</th>\n      <td>Uuq</td>\n      <td>-</td>\n      <td>-</td>\n    </tr>\n    <tr>\n      <th>114</th>\n      <td>Uup</td>\n      <td>-</td>\n      <td>-</td>\n    </tr>\n    <tr>\n      <th>115</th>\n      <td>Uuh</td>\n      <td>-</td>\n      <td>-</td>\n    </tr>\n    <tr>\n      <th>116</th>\n      <td>Uus</td>\n      <td>-</td>\n      <td>-</td>\n    </tr>\n    <tr>\n      <th>117</th>\n      <td>Uuo</td>\n      <td>-</td>\n      <td>-</td>\n    </tr>\n  </tbody>\n</table>\n<p>118 rows × 3 columns</p>\n</div>"
     },
     "execution_count": 6,
     "metadata": {},
     "output_type": "execute_result"
    }
   ],
   "source": [
    "df[['Symbol', 'Melting_Point', 'Boiling_Point']]"
   ]
  },
  {
   "cell_type": "markdown",
   "id": "907d4c61-e87a-4cb7-965a-252bb8573c53",
   "metadata": {},
   "source": [
    "Um einzelne Spalten zu entfernen, können Sie die Methode `drop` wie nachfolgend angegeben nutzen. \n",
    "\n",
    "*Beachten Sie, dass diese nicht das Dataframe `df` verändert, sondern ein neues Dataframe zurückgibt, aus welchem die entsprechenden Spalten entfernt sind.*  "
   ]
  },
  {
   "cell_type": "code",
   "execution_count": 8,
   "id": "b0cb2ff3-9f6a-4d38-b1b4-de7cd5ba69fb",
   "metadata": {
    "ExecuteTime": {
     "end_time": "2024-05-14T12:04:48.084862916Z",
     "start_time": "2024-05-14T12:04:48.074462711Z"
    }
   },
   "outputs": [
    {
     "data": {
      "text/plain": "        Name  Atomic_Number Atomic_Weight               Density Boiling_Point  \\\n0   Hydrogen              1       1.00794   0.0708 (@ -253degC)         20.28   \n1     Helium              2      4.002602    0.147 (@ -270degC)         4.216   \n2    Lithium              3         6.941                 0.534       1118.15   \n3  Beryllium              4       9.01218                 1.848          3243   \n4      Boron              5        10.811                  2.34          3931   \n5     Carbon              6        12.011       2.25 (graphite)          5100   \n6   Nitrogen              7      14.00674  0.808 (@ -195.8degC)          77.4   \n7     Oxygen              8       15.9994    1.149 (@ -183degC)         90.19   \n8   Fluorine              9     18.998403    1.108 (@ -189degC)         85.01   \n9       Neon             10       20.1797    1.204 (@ -246degC)          27.1   \n\n  Atomic_Radius Covalent_Radius  Ionic_Radius Specific_Volume Specific_Heat  \\\n0            79              32           NaN            14.1  14.267 (H-H)   \n1             0               -           NaN            31.8         5.188   \n2           155             163           NaN            13.1         3.489   \n3           112              90           NaN               5         1.824   \n4            98              82           NaN             4.6         1.025   \n5            91              77           NaN             5.3         0.711   \n6            92              75           NaN            17.3   1.042 (N-N)   \n7             -              73           NaN              14   0.916 (O-O)   \n8             -              72           NaN            17.1   0.824 (F-F)   \n9             -              71           NaN            16.8         1.029   \n\n   Heat_Fusion Heat_Evaporation Thermal_Conductivity  \\\n0  0.117 (H-H)      0.904 (H-H)               0.1815   \n1            -             0.08                0.152   \n2         2.89              148                 84.8   \n3        12.21              309                  201   \n4         23.6            504.5                 27.4   \n5            -                -                 1.59   \n6            -                -                0.026   \n7            -                -                0.027   \n8   0.51 (F-F)       6.54 (F-F)                0.028   \n9            -             1.74             <0.0493>   \n\n  Pauling_Electronegativity First_Ionisation_Energy Oxidation_States  \\\n0                       2.2                  1311.3             1 -1   \n1                         -                  2361.3                -   \n2                      0.98                   519.9                1   \n3                      1.57                   898.8                2   \n4                      2.04                   800.2                3   \n5                      2.55                  1085.7           4 2 -4   \n6                      3.04                  1401.5       5 4 3 2 -3   \n7                      3.44                  1313.1            -2 -1   \n8                      3.98                    1680               -1   \n9                         0                  2079.4                -   \n\n  Electronic_Configuration Lattice Lattice_Constant  \n0                      1s¹     HEX             3.75  \n1                      1s²     HEX             3.57  \n2                  [He]2s¹     BCC             3.49  \n3                  [He]2s²     HEX             2.29  \n4               [He]2s²2p¹     TET             8.73  \n5               [He]2s²2p²     DIA             3.57  \n6               [He]2s²2p³     HEX            4.039  \n7                [He]2s²2p     CUB             6.83  \n8                [He]2s²2p     MCL                -  \n9                [He]2s²2p     FCC             4.43  ",
      "text/html": "<div>\n<style scoped>\n    .dataframe tbody tr th:only-of-type {\n        vertical-align: middle;\n    }\n\n    .dataframe tbody tr th {\n        vertical-align: top;\n    }\n\n    .dataframe thead th {\n        text-align: right;\n    }\n</style>\n<table border=\"1\" class=\"dataframe\">\n  <thead>\n    <tr style=\"text-align: right;\">\n      <th></th>\n      <th>Name</th>\n      <th>Atomic_Number</th>\n      <th>Atomic_Weight</th>\n      <th>Density</th>\n      <th>Boiling_Point</th>\n      <th>Atomic_Radius</th>\n      <th>Covalent_Radius</th>\n      <th>Ionic_Radius</th>\n      <th>Specific_Volume</th>\n      <th>Specific_Heat</th>\n      <th>Heat_Fusion</th>\n      <th>Heat_Evaporation</th>\n      <th>Thermal_Conductivity</th>\n      <th>Pauling_Electronegativity</th>\n      <th>First_Ionisation_Energy</th>\n      <th>Oxidation_States</th>\n      <th>Electronic_Configuration</th>\n      <th>Lattice</th>\n      <th>Lattice_Constant</th>\n    </tr>\n  </thead>\n  <tbody>\n    <tr>\n      <th>0</th>\n      <td>Hydrogen</td>\n      <td>1</td>\n      <td>1.00794</td>\n      <td>0.0708 (@ -253degC)</td>\n      <td>20.28</td>\n      <td>79</td>\n      <td>32</td>\n      <td>NaN</td>\n      <td>14.1</td>\n      <td>14.267 (H-H)</td>\n      <td>0.117 (H-H)</td>\n      <td>0.904 (H-H)</td>\n      <td>0.1815</td>\n      <td>2.2</td>\n      <td>1311.3</td>\n      <td>1 -1</td>\n      <td>1s¹</td>\n      <td>HEX</td>\n      <td>3.75</td>\n    </tr>\n    <tr>\n      <th>1</th>\n      <td>Helium</td>\n      <td>2</td>\n      <td>4.002602</td>\n      <td>0.147 (@ -270degC)</td>\n      <td>4.216</td>\n      <td>0</td>\n      <td>-</td>\n      <td>NaN</td>\n      <td>31.8</td>\n      <td>5.188</td>\n      <td>-</td>\n      <td>0.08</td>\n      <td>0.152</td>\n      <td>-</td>\n      <td>2361.3</td>\n      <td>-</td>\n      <td>1s²</td>\n      <td>HEX</td>\n      <td>3.57</td>\n    </tr>\n    <tr>\n      <th>2</th>\n      <td>Lithium</td>\n      <td>3</td>\n      <td>6.941</td>\n      <td>0.534</td>\n      <td>1118.15</td>\n      <td>155</td>\n      <td>163</td>\n      <td>NaN</td>\n      <td>13.1</td>\n      <td>3.489</td>\n      <td>2.89</td>\n      <td>148</td>\n      <td>84.8</td>\n      <td>0.98</td>\n      <td>519.9</td>\n      <td>1</td>\n      <td>[He]2s¹</td>\n      <td>BCC</td>\n      <td>3.49</td>\n    </tr>\n    <tr>\n      <th>3</th>\n      <td>Beryllium</td>\n      <td>4</td>\n      <td>9.01218</td>\n      <td>1.848</td>\n      <td>3243</td>\n      <td>112</td>\n      <td>90</td>\n      <td>NaN</td>\n      <td>5</td>\n      <td>1.824</td>\n      <td>12.21</td>\n      <td>309</td>\n      <td>201</td>\n      <td>1.57</td>\n      <td>898.8</td>\n      <td>2</td>\n      <td>[He]2s²</td>\n      <td>HEX</td>\n      <td>2.29</td>\n    </tr>\n    <tr>\n      <th>4</th>\n      <td>Boron</td>\n      <td>5</td>\n      <td>10.811</td>\n      <td>2.34</td>\n      <td>3931</td>\n      <td>98</td>\n      <td>82</td>\n      <td>NaN</td>\n      <td>4.6</td>\n      <td>1.025</td>\n      <td>23.6</td>\n      <td>504.5</td>\n      <td>27.4</td>\n      <td>2.04</td>\n      <td>800.2</td>\n      <td>3</td>\n      <td>[He]2s²2p¹</td>\n      <td>TET</td>\n      <td>8.73</td>\n    </tr>\n    <tr>\n      <th>5</th>\n      <td>Carbon</td>\n      <td>6</td>\n      <td>12.011</td>\n      <td>2.25 (graphite)</td>\n      <td>5100</td>\n      <td>91</td>\n      <td>77</td>\n      <td>NaN</td>\n      <td>5.3</td>\n      <td>0.711</td>\n      <td>-</td>\n      <td>-</td>\n      <td>1.59</td>\n      <td>2.55</td>\n      <td>1085.7</td>\n      <td>4 2 -4</td>\n      <td>[He]2s²2p²</td>\n      <td>DIA</td>\n      <td>3.57</td>\n    </tr>\n    <tr>\n      <th>6</th>\n      <td>Nitrogen</td>\n      <td>7</td>\n      <td>14.00674</td>\n      <td>0.808 (@ -195.8degC)</td>\n      <td>77.4</td>\n      <td>92</td>\n      <td>75</td>\n      <td>NaN</td>\n      <td>17.3</td>\n      <td>1.042 (N-N)</td>\n      <td>-</td>\n      <td>-</td>\n      <td>0.026</td>\n      <td>3.04</td>\n      <td>1401.5</td>\n      <td>5 4 3 2 -3</td>\n      <td>[He]2s²2p³</td>\n      <td>HEX</td>\n      <td>4.039</td>\n    </tr>\n    <tr>\n      <th>7</th>\n      <td>Oxygen</td>\n      <td>8</td>\n      <td>15.9994</td>\n      <td>1.149 (@ -183degC)</td>\n      <td>90.19</td>\n      <td>-</td>\n      <td>73</td>\n      <td>NaN</td>\n      <td>14</td>\n      <td>0.916 (O-O)</td>\n      <td>-</td>\n      <td>-</td>\n      <td>0.027</td>\n      <td>3.44</td>\n      <td>1313.1</td>\n      <td>-2 -1</td>\n      <td>[He]2s²2p</td>\n      <td>CUB</td>\n      <td>6.83</td>\n    </tr>\n    <tr>\n      <th>8</th>\n      <td>Fluorine</td>\n      <td>9</td>\n      <td>18.998403</td>\n      <td>1.108 (@ -189degC)</td>\n      <td>85.01</td>\n      <td>-</td>\n      <td>72</td>\n      <td>NaN</td>\n      <td>17.1</td>\n      <td>0.824 (F-F)</td>\n      <td>0.51 (F-F)</td>\n      <td>6.54 (F-F)</td>\n      <td>0.028</td>\n      <td>3.98</td>\n      <td>1680</td>\n      <td>-1</td>\n      <td>[He]2s²2p</td>\n      <td>MCL</td>\n      <td>-</td>\n    </tr>\n    <tr>\n      <th>9</th>\n      <td>Neon</td>\n      <td>10</td>\n      <td>20.1797</td>\n      <td>1.204 (@ -246degC)</td>\n      <td>27.1</td>\n      <td>-</td>\n      <td>71</td>\n      <td>NaN</td>\n      <td>16.8</td>\n      <td>1.029</td>\n      <td>-</td>\n      <td>1.74</td>\n      <td>&lt;0.0493&gt;</td>\n      <td>0</td>\n      <td>2079.4</td>\n      <td>-</td>\n      <td>[He]2s²2p</td>\n      <td>FCC</td>\n      <td>4.43</td>\n    </tr>\n  </tbody>\n</table>\n</div>"
     },
     "execution_count": 8,
     "metadata": {},
     "output_type": "execute_result"
    }
   ],
   "source": [
    "df_with_dropped_column = df.drop([\"Symbol\", \"Melting_Point\"], axis=1)\n",
    "df_with_dropped_column.head(10)"
   ]
  },
  {
   "cell_type": "markdown",
   "id": "4f726f1f-ceb9-48df-8d3a-e9f7ecd7d53b",
   "metadata": {},
   "source": [
    "Um einzelne Zeilen auszuwählen, nutzen wir die Methode `iloc`. Wir können einzelne Indizes oder, wie bei Numpy, einen Bereich angeben. "
   ]
  },
  {
   "cell_type": "code",
   "execution_count": 9,
   "id": "14faf79e-0ba2-4396-b1c1-6f050faa2b59",
   "metadata": {
    "ExecuteTime": {
     "end_time": "2024-05-14T12:06:38.090572454Z",
     "start_time": "2024-05-14T12:06:38.046834875Z"
    }
   },
   "outputs": [
    {
     "data": {
      "text/plain": "       Name Symbol  Atomic_Number Atomic_Weight               Density  \\\n5    Carbon      C              6        12.011       2.25 (graphite)   \n6  Nitrogen      N              7      14.00674  0.808 (@ -195.8degC)   \n7    Oxygen      O              8       15.9994    1.149 (@ -183degC)   \n8  Fluorine      F              9     18.998403    1.108 (@ -189degC)   \n9      Neon     Ne             10       20.1797    1.204 (@ -246degC)   \n\n  Melting_Point Boiling_Point Atomic_Radius Covalent_Radius  Ionic_Radius  \\\n5          3820          5100            91              77           NaN   \n6         63.29          77.4            92              75           NaN   \n7          54.8         90.19             -              73           NaN   \n8         53.53         85.01             -              72           NaN   \n9            48          27.1             -              71           NaN   \n\n   ... Specific_Heat Heat_Fusion Heat_Evaporation Thermal_Conductivity  \\\n5  ...         0.711           -                -                 1.59   \n6  ...   1.042 (N-N)           -                -                0.026   \n7  ...   0.916 (O-O)           -                -                0.027   \n8  ...   0.824 (F-F)  0.51 (F-F)       6.54 (F-F)                0.028   \n9  ...         1.029           -             1.74             <0.0493>   \n\n  Pauling_Electronegativity First_Ionisation_Energy Oxidation_States  \\\n5                      2.55                  1085.7           4 2 -4   \n6                      3.04                  1401.5       5 4 3 2 -3   \n7                      3.44                  1313.1            -2 -1   \n8                      3.98                    1680               -1   \n9                         0                  2079.4                -   \n\n  Electronic_Configuration Lattice Lattice_Constant  \n5               [He]2s²2p²     DIA             3.57  \n6               [He]2s²2p³     HEX            4.039  \n7                [He]2s²2p     CUB             6.83  \n8                [He]2s²2p     MCL                -  \n9                [He]2s²2p     FCC             4.43  \n\n[5 rows x 21 columns]",
      "text/html": "<div>\n<style scoped>\n    .dataframe tbody tr th:only-of-type {\n        vertical-align: middle;\n    }\n\n    .dataframe tbody tr th {\n        vertical-align: top;\n    }\n\n    .dataframe thead th {\n        text-align: right;\n    }\n</style>\n<table border=\"1\" class=\"dataframe\">\n  <thead>\n    <tr style=\"text-align: right;\">\n      <th></th>\n      <th>Name</th>\n      <th>Symbol</th>\n      <th>Atomic_Number</th>\n      <th>Atomic_Weight</th>\n      <th>Density</th>\n      <th>Melting_Point</th>\n      <th>Boiling_Point</th>\n      <th>Atomic_Radius</th>\n      <th>Covalent_Radius</th>\n      <th>Ionic_Radius</th>\n      <th>...</th>\n      <th>Specific_Heat</th>\n      <th>Heat_Fusion</th>\n      <th>Heat_Evaporation</th>\n      <th>Thermal_Conductivity</th>\n      <th>Pauling_Electronegativity</th>\n      <th>First_Ionisation_Energy</th>\n      <th>Oxidation_States</th>\n      <th>Electronic_Configuration</th>\n      <th>Lattice</th>\n      <th>Lattice_Constant</th>\n    </tr>\n  </thead>\n  <tbody>\n    <tr>\n      <th>5</th>\n      <td>Carbon</td>\n      <td>C</td>\n      <td>6</td>\n      <td>12.011</td>\n      <td>2.25 (graphite)</td>\n      <td>3820</td>\n      <td>5100</td>\n      <td>91</td>\n      <td>77</td>\n      <td>NaN</td>\n      <td>...</td>\n      <td>0.711</td>\n      <td>-</td>\n      <td>-</td>\n      <td>1.59</td>\n      <td>2.55</td>\n      <td>1085.7</td>\n      <td>4 2 -4</td>\n      <td>[He]2s²2p²</td>\n      <td>DIA</td>\n      <td>3.57</td>\n    </tr>\n    <tr>\n      <th>6</th>\n      <td>Nitrogen</td>\n      <td>N</td>\n      <td>7</td>\n      <td>14.00674</td>\n      <td>0.808 (@ -195.8degC)</td>\n      <td>63.29</td>\n      <td>77.4</td>\n      <td>92</td>\n      <td>75</td>\n      <td>NaN</td>\n      <td>...</td>\n      <td>1.042 (N-N)</td>\n      <td>-</td>\n      <td>-</td>\n      <td>0.026</td>\n      <td>3.04</td>\n      <td>1401.5</td>\n      <td>5 4 3 2 -3</td>\n      <td>[He]2s²2p³</td>\n      <td>HEX</td>\n      <td>4.039</td>\n    </tr>\n    <tr>\n      <th>7</th>\n      <td>Oxygen</td>\n      <td>O</td>\n      <td>8</td>\n      <td>15.9994</td>\n      <td>1.149 (@ -183degC)</td>\n      <td>54.8</td>\n      <td>90.19</td>\n      <td>-</td>\n      <td>73</td>\n      <td>NaN</td>\n      <td>...</td>\n      <td>0.916 (O-O)</td>\n      <td>-</td>\n      <td>-</td>\n      <td>0.027</td>\n      <td>3.44</td>\n      <td>1313.1</td>\n      <td>-2 -1</td>\n      <td>[He]2s²2p</td>\n      <td>CUB</td>\n      <td>6.83</td>\n    </tr>\n    <tr>\n      <th>8</th>\n      <td>Fluorine</td>\n      <td>F</td>\n      <td>9</td>\n      <td>18.998403</td>\n      <td>1.108 (@ -189degC)</td>\n      <td>53.53</td>\n      <td>85.01</td>\n      <td>-</td>\n      <td>72</td>\n      <td>NaN</td>\n      <td>...</td>\n      <td>0.824 (F-F)</td>\n      <td>0.51 (F-F)</td>\n      <td>6.54 (F-F)</td>\n      <td>0.028</td>\n      <td>3.98</td>\n      <td>1680</td>\n      <td>-1</td>\n      <td>[He]2s²2p</td>\n      <td>MCL</td>\n      <td>-</td>\n    </tr>\n    <tr>\n      <th>9</th>\n      <td>Neon</td>\n      <td>Ne</td>\n      <td>10</td>\n      <td>20.1797</td>\n      <td>1.204 (@ -246degC)</td>\n      <td>48</td>\n      <td>27.1</td>\n      <td>-</td>\n      <td>71</td>\n      <td>NaN</td>\n      <td>...</td>\n      <td>1.029</td>\n      <td>-</td>\n      <td>1.74</td>\n      <td>&lt;0.0493&gt;</td>\n      <td>0</td>\n      <td>2079.4</td>\n      <td>-</td>\n      <td>[He]2s²2p</td>\n      <td>FCC</td>\n      <td>4.43</td>\n    </tr>\n  </tbody>\n</table>\n<p>5 rows × 21 columns</p>\n</div>"
     },
     "execution_count": 9,
     "metadata": {},
     "output_type": "execute_result"
    }
   ],
   "source": [
    "df.iloc[5:10]"
   ]
  },
  {
   "cell_type": "markdown",
   "id": "7302b259-db91-45ef-8486-22d992f79928",
   "metadata": {},
   "source": [
    "Mit diesen Funktionen sollten Sie durch das Übungsblatt kommen. Pandas bietet aber viele weitere Funktionen. Wenn Sie mehr erfahren möchten, können wir das Buch [Python for Data Science, Kapitel 3](https://jakevdp.github.io/PythonDataScienceHandbook/03.00-introduction-to-pandas.html) empfehlen oder natürlich die offizielle [Pandas Dokumentation](https://pandas.pydata.org/docs/)."
   ]
  },
  {
   "attachments": {
    "fabb4bf2-250f-4299-86e5-acef81a12f51.png": {
     "image/png": "[encoded data removed]"
    }
   },
   "cell_type": "markdown",
   "id": "ebd92a25-5e0b-4297-be23-7279b54cf4ad",
   "metadata": {},
   "source": [
    "# Aufgabe 1: Diabetesprognose mit linearer Regression\n",
    "\n",
    "In dieser ersten Übung implementieren Sie ein Programm, welches anhand verschiedenen Messwerten lernt, Diabetes zu diagnostizieren. Die Prognose ist hier ein Zahlenwert, der das Fortschreiten der Krankheit beschreibt. Es handelt sich also um ein Regressionsproblem.\n",
    "\n",
    "## a)\n",
    "\n",
    "Verwenden Sie pandas, um den Datensatz `diabetes.csv` in ein DataFrame `df` zu laden. Wenn Sie `df.head()` ausführen, erhalten Sie:\n",
    "\n",
    "![image.png](attachment:fabb4bf2-250f-4299-86e5-acef81a12f51.png)\n",
    "\n",
    "Jede Zeile repräsentiert die Messwerte für einen Patienten. Alle Messwerte wurden standardisiert indem der Durchschnittswert abgezogen wurde, und die letzte Spalte `target` quantifiziert das Fortschreiten von Diabetes nach einem Jahr. Die anderen Spalten entsprechen folgenden Messwerten:\n",
    "\n",
    "* age: Alter in Jahren.\n",
    "* sex: Biologisches Geschlecht, kodiert und standardisiert als numerischer Wert.\n",
    "* bmi: Body-Mass-Index (BMI).\n",
    "* bp: Durchschnittlicher Blutdruck (in mm Hg).\n",
    "* s1: Gesamtserumcholesterinspiegel (in mg/dL).\n",
    "* s2: Cholesterin mit niedriger Dichte (LDL) (in mg/dL).\n",
    "* s3: Cholesterin mit hoher Dichte (HDL) (in mg/dL).\n",
    "* s4: Gesamtserumtriglyceridspiegel (in mg/dL).\n",
    "* s5: Leberenzym Alanin-Aminotransferase (ALT).\n",
    "* s6: Nüchternblutzuckerspiegel (in mg/dL)."
   ]
  },
  {
   "cell_type": "markdown",
   "id": "9534db0e-c2be-4da0-ba33-8cacbd87197c",
   "metadata": {},
   "source": [
    "1. Erstellen Sie zwei Dataframes `X` und `y`. Hierbei soll `y` nur die `target`-Werte und `X` alle anderen Spalten enthalten.\n",
    "2. Erstellen Sie ein lineares Regressionsmodell mittels [scikit-learn](https://scikit-learn.org/stable/index.html) und passen Sie dieses auf den Diabetes Datensatz an.\n",
    "(Erklärungen und Beispiele wie Sie ein Regressionsmodell in scikit-learn verwenden finden Sie [hier](https://scikit-learn.org/stable/modules/linear_model.html#ordinary-least-squares)). Nutzen Sie das Modell um für alle in `X` vorhandenen Patienten den Krankheitsverlauf vorherzusagen.  \n",
    "3. Als nächstes sollen Sie ihr Modell evaluieren. Scikit-learn stellt Ihnen hierfür bereits verschiedene Metriken zur Verfügung. Wir verwenden hier den `r2_score` (<a href='https://scikit-learn.org/stable/modules/generated/sklearn.metrics.r2_score.html#sklearn.metrics.r2_score'>Dokumentation</a>). Der `r2_score` (auch Coefficient of determination oder Bestimmtheitsmass genannt) ist eine dimensionslose Grösse, die typischwerweise zwischen 0 und 1 liegt. Ein Wert von 1 bedeutet, dass die Daten perfekt erklärt wurden. Bei einem Wert von 0 ist die Vorhersage nicht besser, als wenn man einfach den Durchschnitt der Zielwerte für die Vorhersage verwendet hätte. Negative Werte bedeuten, dass die Vorhersage sogar schlechter ist, als wenn man die Messwerte gar nicht verwendet hätte und immer nur den Mittelwert schätzen würde. Welchen Wert erreichen Sie?\n"
   ]
  },
  {
   "cell_type": "code",
   "execution_count": 10,
   "id": "fc6e62fb-31d4-4ea4-bd4a-80941b183f89",
   "metadata": {
    "ExecuteTime": {
     "end_time": "2024-05-14T12:08:38.230205301Z",
     "start_time": "2024-05-14T12:08:38.188299221Z"
    }
   },
   "outputs": [
    {
     "data": {
      "text/plain": "   age  sex   bmi     bp   s1     s2    s3    s4      s5  s6  target\n0   59    2  32.1  101.0  157   93.2  38.0  4.00  4.8598  87     151\n1   48    1  21.6   87.0  183  103.2  70.0  3.00  3.8918  69      75\n2   72    2  30.5   93.0  156   93.6  41.0  4.00  4.6728  85     141\n3   24    1  25.3   84.0  198  131.4  40.0  5.00  4.8903  89     206\n4   50    1  23.0  101.0  192  125.4  52.0  4.00  4.2905  80     135\n5   23    1  22.6   89.0  139   64.8  61.0  2.00  4.1897  68      97\n6   36    2  22.0   90.0  160   99.6  50.0  3.00  3.9512  82     138\n7   66    2  26.2  114.0  255  185.0  56.0  4.55  4.2485  92      63\n8   60    2  32.1   83.0  179  119.4  42.0  4.00  4.4773  94     110\n9   29    1  30.0   85.0  180   93.4  43.0  4.00  5.3845  88     310",
      "text/html": "<div>\n<style scoped>\n    .dataframe tbody tr th:only-of-type {\n        vertical-align: middle;\n    }\n\n    .dataframe tbody tr th {\n        vertical-align: top;\n    }\n\n    .dataframe thead th {\n        text-align: right;\n    }\n</style>\n<table border=\"1\" class=\"dataframe\">\n  <thead>\n    <tr style=\"text-align: right;\">\n      <th></th>\n      <th>age</th>\n      <th>sex</th>\n      <th>bmi</th>\n      <th>bp</th>\n      <th>s1</th>\n      <th>s2</th>\n      <th>s3</th>\n      <th>s4</th>\n      <th>s5</th>\n      <th>s6</th>\n      <th>target</th>\n    </tr>\n  </thead>\n  <tbody>\n    <tr>\n      <th>0</th>\n      <td>59</td>\n      <td>2</td>\n      <td>32.1</td>\n      <td>101.0</td>\n      <td>157</td>\n      <td>93.2</td>\n      <td>38.0</td>\n      <td>4.00</td>\n      <td>4.8598</td>\n      <td>87</td>\n      <td>151</td>\n    </tr>\n    <tr>\n      <th>1</th>\n      <td>48</td>\n      <td>1</td>\n      <td>21.6</td>\n      <td>87.0</td>\n      <td>183</td>\n      <td>103.2</td>\n      <td>70.0</td>\n      <td>3.00</td>\n      <td>3.8918</td>\n      <td>69</td>\n      <td>75</td>\n    </tr>\n    <tr>\n      <th>2</th>\n      <td>72</td>\n      <td>2</td>\n      <td>30.5</td>\n      <td>93.0</td>\n      <td>156</td>\n      <td>93.6</td>\n      <td>41.0</td>\n      <td>4.00</td>\n      <td>4.6728</td>\n      <td>85</td>\n      <td>141</td>\n    </tr>\n    <tr>\n      <th>3</th>\n      <td>24</td>\n      <td>1</td>\n      <td>25.3</td>\n      <td>84.0</td>\n      <td>198</td>\n      <td>131.4</td>\n      <td>40.0</td>\n      <td>5.00</td>\n      <td>4.8903</td>\n      <td>89</td>\n      <td>206</td>\n    </tr>\n    <tr>\n      <th>4</th>\n      <td>50</td>\n      <td>1</td>\n      <td>23.0</td>\n      <td>101.0</td>\n      <td>192</td>\n      <td>125.4</td>\n      <td>52.0</td>\n      <td>4.00</td>\n      <td>4.2905</td>\n      <td>80</td>\n      <td>135</td>\n    </tr>\n    <tr>\n      <th>5</th>\n      <td>23</td>\n      <td>1</td>\n      <td>22.6</td>\n      <td>89.0</td>\n      <td>139</td>\n      <td>64.8</td>\n      <td>61.0</td>\n      <td>2.00</td>\n      <td>4.1897</td>\n      <td>68</td>\n      <td>97</td>\n    </tr>\n    <tr>\n      <th>6</th>\n      <td>36</td>\n      <td>2</td>\n      <td>22.0</td>\n      <td>90.0</td>\n      <td>160</td>\n      <td>99.6</td>\n      <td>50.0</td>\n      <td>3.00</td>\n      <td>3.9512</td>\n      <td>82</td>\n      <td>138</td>\n    </tr>\n    <tr>\n      <th>7</th>\n      <td>66</td>\n      <td>2</td>\n      <td>26.2</td>\n      <td>114.0</td>\n      <td>255</td>\n      <td>185.0</td>\n      <td>56.0</td>\n      <td>4.55</td>\n      <td>4.2485</td>\n      <td>92</td>\n      <td>63</td>\n    </tr>\n    <tr>\n      <th>8</th>\n      <td>60</td>\n      <td>2</td>\n      <td>32.1</td>\n      <td>83.0</td>\n      <td>179</td>\n      <td>119.4</td>\n      <td>42.0</td>\n      <td>4.00</td>\n      <td>4.4773</td>\n      <td>94</td>\n      <td>110</td>\n    </tr>\n    <tr>\n      <th>9</th>\n      <td>29</td>\n      <td>1</td>\n      <td>30.0</td>\n      <td>85.0</td>\n      <td>180</td>\n      <td>93.4</td>\n      <td>43.0</td>\n      <td>4.00</td>\n      <td>5.3845</td>\n      <td>88</td>\n      <td>310</td>\n    </tr>\n  </tbody>\n</table>\n</div>"
     },
     "execution_count": 10,
     "metadata": {},
     "output_type": "execute_result"
    }
   ],
   "source": [
    "# Laden der Daten\n",
    "data1 = pd.read_csv('daten/diabetes.csv')\n",
    "data1.head(10)"
   ]
  },
  {
   "cell_type": "code",
   "execution_count": 14,
   "id": "269e9336-a067-414f-9899-ef6889b2d18b",
   "metadata": {
    "ExecuteTime": {
     "end_time": "2024-05-14T12:11:33.310952248Z",
     "start_time": "2024-05-14T12:11:33.258442166Z"
    }
   },
   "outputs": [],
   "source": [
    "# Aufteilen der Daten in Zielwert (y) und alle anderen Spalten (X)\n",
    "\n",
    "X = data1.drop(['target'], axis=1)\n",
    "y = data1['target']"
   ]
  },
  {
   "cell_type": "code",
   "execution_count": 22,
   "id": "63cc2800-0bf7-4140-af80-c5259ed5e354",
   "metadata": {
    "ExecuteTime": {
     "end_time": "2024-05-14T12:21:27.079869246Z",
     "start_time": "2024-05-14T12:21:27.051442520Z"
    }
   },
   "outputs": [],
   "source": [
    "# Erstellen und Anpassen des Regressionsmodells\n",
    "reg1 = linear_model.LinearRegression()\n",
    "reg1.fit(X, y)\n",
    "coef1 = reg1.coef_"
   ]
  },
  {
   "cell_type": "code",
   "execution_count": 24,
   "id": "38fcee21-57d7-4501-9c2d-5ea2ce20bc78",
   "metadata": {
    "ExecuteTime": {
     "end_time": "2024-05-14T12:22:54.331703626Z",
     "start_time": "2024-05-14T12:22:54.323998946Z"
    }
   },
   "outputs": [
    {
     "name": "stdout",
     "output_type": "stream",
     "text": [
      "r2 score: 0.5032777882050409\n"
     ]
    }
   ],
   "source": [
    "# Vorhersagen und berechnen des r2 Werts\n",
    "y_pred = reg1.predict(X)\n",
    "r2 = r2_score(y, y_pred)\n",
    "print(f'r2 score: {r2}')"
   ]
  },
  {
   "cell_type": "markdown",
   "id": "436dbbcd-b551-41a9-b50f-e9f93a04cd0f",
   "metadata": {},
   "source": [
    "## Aufgabe 2: Diabetesprognose mit Neuronalen Netzen\n",
    "\n",
    "In dieser Aufgabe nutzen Sie wieder den Diabetes Datensatz der vorherigen Aufgabe, trainieren aber diesmal ein neuronales Netz um die Krankheit zu diagnostizieren. Dafür sollen sie wieder scikit-learn verwenden. \n",
    "\n",
    "In scikit-learn wird nur eine Art von neuronalem Netz unterstützt, nämlich sogenannte Multilayer Perceptrons. Dies sind neuronale Netze, bei denen jeweils alle Neuronen in einem Layer mit allen Neuronen des nächsten Layers verknüpft sind.  Entsprechend einfach ist die Definition des Netzwerk. Sie können  durch eine Liste die Anzahl Neuronen in den hidden layers angeben. Multilayer Perceptrons können sowohl für Regression als auch für die Klassifikation ([MLPClassifier](https://scikit-learn.org/stable/modules/generated/sklearn.neural_network.MLPClassifier.html)) verwendet werden. Schauen Sie sich [die Dokumentation für MLPRegressor](https://scikit-learn.org/stable/modules/generated/sklearn.neural_network.MLPRegressor.html) an um einen Überblick dafür zu bekommen, wie Sie das Modell verwenden. \n",
    "\n",
    "Da wir bei neuronalen Netzen die Parameter durch Optimierung finden müssen, ist es oft hilfreich die Daten zu skalieren, so dass die Beobachtungen für jede Messung Mittelwert 0 und dieselbe Standardabweichung haben. Dies erreichen Sie durch folgendes Codesnippet, welcher den [StandardScaler](https://scikit-learn.org/stable/modules/generated/sklearn.preprocessing.StandardScaler.html) von scikit-learn nutzt. "
   ]
  },
  {
   "cell_type": "code",
   "execution_count": 25,
   "id": "826247c3-e036-42cd-9ae9-3baa25a68042",
   "metadata": {
    "ExecuteTime": {
     "end_time": "2024-05-14T12:24:00.559663707Z",
     "start_time": "2024-05-14T12:24:00.552694035Z"
    }
   },
   "outputs": [
    {
     "name": "stdout",
     "output_type": "stream",
     "text": [
      "[-8.14375628e-17  9.41621820e-17 -8.14375628e-16  8.24555324e-16\n",
      "  1.32336040e-16  6.71859893e-16  4.07187814e-17 -1.01796954e-16\n",
      "  2.21917359e-15  4.27547205e-16]\n",
      "[1. 1. 1. 1. 1. 1. 1. 1. 1. 1.]\n"
     ]
    }
   ],
   "source": [
    "scaler = StandardScaler()\n",
    "scaler.fit(X)\n",
    "X_scaled = scaler.transform(X)\n",
    "print(X_scaled.mean(axis=0))\n",
    "print(X_scaled.std(axis=0))"
   ]
  },
  {
   "cell_type": "markdown",
   "id": "68f763bd-be70-48bb-b044-666651f7fdac",
   "metadata": {},
   "source": [
    "\n",
    "Definieren Sie nun ein Neuronales Netz mit einem hidden layer mit 10 Neuronen. Rechnen Sie wieder den r2_score aus. Setzen Sie die Anzahl der iterationen für die Optimieren (`max_iter`) auf 30000 (Siehe [Dokumentation](https://scikit-learn.org/stable/modules/generated/sklearn.neural_network.MLPRegressor.html))."
   ]
  },
  {
   "cell_type": "code",
   "execution_count": 33,
   "id": "93e53302-9457-4d10-ab43-86cc69ffabdf",
   "metadata": {
    "ExecuteTime": {
     "end_time": "2024-05-14T12:32:48.952119778Z",
     "start_time": "2024-05-14T12:32:43.025834583Z"
    }
   },
   "outputs": [
    {
     "name": "stdout",
     "output_type": "stream",
     "text": [
      "r2 score: 0.6107019091038635\n"
     ]
    }
   ],
   "source": [
    "regr = MLPRegressor(hidden_layer_sizes=(10,), max_iter=30000).fit(X_scaled, y)\n",
    "\n",
    "y_pred = regr.predict(X_scaled)\n",
    "r2 = r2_score(y, y_pred)\n",
    "\n",
    "print(f'r2 score: {r2}')"
   ]
  },
  {
   "cell_type": "markdown",
   "id": "cebf0f10-264a-4410-bc5d-bd2f8e8dddc5",
   "metadata": {},
   "source": [
    "# Aufgabe 3: Overfitting\n",
    "\n",
    "Wenn wir machine-learning Modelle vielen Parametern definieren, besteht die Gefahr, dass diese nicht die Muster in den Daten lernen , sondern die Daten einfach Memorisieren. Als Vorbereitung für die nächste Vorlesung, wollen wir in dieser Aufgabe diesem Phänomen auf die Spur kommen. \n",
    "\n",
    "a) Kopieren Sie Ihre Lösung von oben und fitten Sie nochmals das Modell. Nutzen Sie diesmal aber mehrere Hidden Layer und eine grössere Zahl von Neuronen. Schaffen Sie es, einen `r2_score` von über 0.99 zu erhalten?\n",
    "\n",
    "b) Wir haben für Sie einen zweiten Datensatz `diabetes_test.csv` erstellt. Dieser enthält Daten von weiteren Patienten. Nehmen sie das angepasste Modell und machen Sie vorhersagen für diese Patienten. Was beobachten Sie? Was ist der `r2_score`? Tip: vergessen Sie nicht die Messwerte wieder zu skalieren.  "
   ]
  },
  {
   "cell_type": "code",
   "execution_count": 37,
   "id": "07a67504-7526-49aa-b289-4329e5232bf5",
   "metadata": {
    "ExecuteTime": {
     "end_time": "2024-05-14T12:34:33.377337539Z",
     "start_time": "2024-05-14T12:34:22.783521401Z"
    }
   },
   "outputs": [
    {
     "name": "stdout",
     "output_type": "stream",
     "text": [
      "r2 score: 0.9978111710527365\n"
     ]
    }
   ],
   "source": [
    "# Anpassen eines Modells mit vielen Parametern \n",
    "regr = MLPRegressor(hidden_layer_sizes=(40,40), max_iter=30000).fit(X_scaled, y)\n",
    "\n",
    "y_pred = regr.predict(X_scaled)\n",
    "r2 = r2_score(y, y_pred)\n",
    "\n",
    "print(f'r2 score: {r2}')"
   ]
  },
  {
   "cell_type": "code",
   "execution_count": 40,
   "id": "efb74476-7f9c-48b7-a1fb-a256eadaf5a5",
   "metadata": {
    "ExecuteTime": {
     "end_time": "2024-05-14T12:38:41.349822788Z",
     "start_time": "2024-05-14T12:38:41.309117205Z"
    }
   },
   "outputs": [
    {
     "name": "stdout",
     "output_type": "stream",
     "text": [
      "r2 score: 0.9978111710527365\n",
      "r2 test score: 0.033203860029603294\n"
     ]
    }
   ],
   "source": [
    "# Laden von Testdaten und aufteilen in Zielwert und restliche Werte\n",
    "df_test = pd.read_csv('daten/diabetes_test.csv')\n",
    "X_test = df_test.drop(['target'], axis=1)\n",
    "y_test = df_test['target']\n",
    "\n",
    "# Skalieren\n",
    "scaler = StandardScaler()\n",
    "scaler.fit(X_test)\n",
    "X_test_scaled = scaler.transform(X_test) \n",
    "\n",
    "# Vorhersage mit vorher trainiertem Modell\n",
    "y_test_pred = regr.predict(X_test_scaled)\n",
    "r2_test = r2_score(y_test, y_test_pred)\n",
    "\n",
    "print(f'r2 score: {r2}')\n",
    "print(f'r2 test score: {r2_test}')"
   ]
  },
  {
   "cell_type": "markdown",
   "id": "d7efb4a7-42cc-4189-bd04-fc15cfb43755",
   "metadata": {},
   "source": [
    "# Aufgabe 4: Klassifikation mit neuronalen Netzen"
   ]
  },
  {
   "cell_type": "markdown",
   "id": "64e64831-703d-431c-b545-b4f8b3bc39a7",
   "metadata": {},
   "source": [
    "a) In dieser letzten Aufgaben wenden wir ein neuronales Netz für die Klassifikation von Daten. Dafür laden Sie den Datensatz `cancer.csv`. Wenn Sie `df.head()` ausführen, erhalten Sie:\n",
    "\n",
    "```text\n",
    "   radius_mean  texture_mean  ...  fractal_dimension_worst  diagnosis\n",
    "0        13.74         17.91  ...                  0.07014          0\n",
    "1        13.37         16.39  ...                  0.07628          0\n",
    "2        14.69         13.98  ...                  0.09208          0\n",
    "3        12.91         16.33  ...                  0.06949          0\n",
    "4        13.62         23.23  ...                  0.06953          0\n",
    "```\n",
    "\n",
    "Jede Zeile stellt eine Zelle dar. Die letzte Spalte (`diagnosis`) ist 1, wenn die Zelle krebsartig ist, und 0 falls diese gutartig ist. Alle anderen Spalten beschreiben geometrische Merkmale der Zelle.\n",
    "\n",
    "b) Erstellen Sie wieder zwei Dataframes `X` und `y`, wobei `y` nur die Diagnosen enthalten und `X` alle anderen Spalten. Nutzen Sie [MLPClassifier](https://scikit-learn.org/stable/modules/generated/sklearn.neural_network.MLPClassifier.html#sklearn.neural_network.MLPClassifier) und machen Sie eine Vorhersage auf den Daten. Berechnen Sie die *Accuracy*, also die Anzahl korreker Vorhersagen dividiert durch die Anzahl Vorhersagen. \n",
    "\n",
    "c) Testen Sie Ihre Vorhersagen anhand den Testdaten in `cancer_test.csv`. "
   ]
  },
  {
   "cell_type": "code",
   "execution_count": 52,
   "id": "8b940e9b-8823-4b9e-9b22-0ddfb9418e2a",
   "metadata": {
    "ExecuteTime": {
     "end_time": "2024-05-14T12:56:32.282645826Z",
     "start_time": "2024-05-14T12:56:32.018455716Z"
    }
   },
   "outputs": [
    {
     "name": "stdout",
     "output_type": "stream",
     "text": [
      "Accuracy: 0.9932885906040269\n"
     ]
    }
   ],
   "source": [
    "# Laden der Daten\n",
    "df_cancer = pd.read_csv('daten/cancer.csv')\n",
    "X_cancer = df_cancer.drop(['diagnosis'], axis=1)\n",
    "y_cancer = df_cancer['diagnosis']\n",
    "\n",
    "# Daten skalieren\n",
    "scaler = StandardScaler()\n",
    "scaler.fit(X_cancer)\n",
    "X_cancer_scaled = scaler.transform(X_cancer)\n",
    "\n",
    "# Erstellen und anpassen des Modells\n",
    "clf = MLPClassifier(hidden_layer_sizes=(10,), max_iter=30000).fit(X_cancer_scaled, y_cancer)\n",
    "\n",
    "# Vorhersagegenauigkeit berechnen. \n",
    "score = clf.score(X_cancer_scaled, y_cancer)\n",
    "print(f'Accuracy: {score}')"
   ]
  },
  {
   "cell_type": "code",
   "execution_count": 53,
   "id": "423923b7-068e-4921-8d44-fde51ed51a80",
   "metadata": {
    "ExecuteTime": {
     "end_time": "2024-05-14T12:56:32.980430710Z",
     "start_time": "2024-05-14T12:56:32.969466845Z"
    }
   },
   "outputs": [
    {
     "name": "stdout",
     "output_type": "stream",
     "text": [
      "Accuracy: 0.9932885906040269\n",
      "Test accuracy: 0.96\n"
     ]
    }
   ],
   "source": [
    "# Laden der Testdaten\n",
    "df_test_cancer = pd.read_csv('daten/cancer_test.csv')\n",
    "\n",
    "# Aufteilen in Zielwert und andere Spalten \n",
    "X_test_cancer = df_test_cancer.drop(['diagnosis'], axis=1)\n",
    "y_test_cancer = df_test_cancer['diagnosis']\n",
    "\n",
    "# Daten Skalieren\n",
    "scaler = StandardScaler()\n",
    "scaler.fit(X_test_cancer)\n",
    "X_test_cancer_scaled = scaler.transform(X_test_cancer)\n",
    "\n",
    "# Vorhersage\n",
    "score_test = clf.score(X_test_cancer_scaled, y_test_cancer)\n",
    "print(f'Accuracy: {score}')\n",
    "print(f'Test accuracy: {score_test}')"
   ]
  }
 ],
 "metadata": {
  "kernelspec": {
   "display_name": "Python 3 (ipykernel)",
   "language": "python",
   "name": "python3"
  },
  "language_info": {
   "codemirror_mode": {
    "name": "ipython",
    "version": 3
   },
   "file_extension": ".py",
   "mimetype": "text/x-python",
   "name": "python",
   "nbconvert_exporter": "python",
   "pygments_lexer": "ipython3",
   "version": "3.12.1"
  }
 },
 "nbformat": 4,
 "nbformat_minor": 5
}
