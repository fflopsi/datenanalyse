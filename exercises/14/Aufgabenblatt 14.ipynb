{
 "cells": [
  {
   "cell_type": "code",
   "id": "47c08d39",
   "metadata": {
    "jupyter": {
     "is_executing": true
    }
   },
   "source": [
    "import numpy as np\n",
    "import matplotlib.pyplot as plt\n",
    "import skimage.io\n",
    "import pickle"
   ],
   "outputs": [],
   "execution_count": null
  },
  {
   "cell_type": "markdown",
   "id": "58eac9da",
   "metadata": {},
   "source": [
    "# Aufgabe 1: Filtern mit Faltungsmatrizen"
   ]
  },
  {
   "cell_type": "markdown",
   "id": "e111c4f9",
   "metadata": {},
   "source": [
    "In der Vorlesung haben sie Convolutional Neural Networks kennengelernt, in denen durch Filtern und Pooling Information aus einem Bild extrahiert wird, die dann von einem herkömmlichen neuronalen Netzwerk weiterverarbeitet wird. In dieser Übung implementieren Sie die Schritte des ersten Teils (Filtern und Pooling) selbst und wenden Sie auf einfache Beispiele an, um sich deren Funktionsweise zu veranschaulichen."
   ]
  },
  {
   "cell_type": "markdown",
   "id": "978cd124",
   "metadata": {},
   "source": [
    "## a)"
   ]
  },
  {
   "cell_type": "markdown",
   "id": "155de771",
   "metadata": {},
   "source": [
    "Laden Sie das Bild 'Data1/shapes.png', das einige einfache Formen in schwarz-weiss darstellt. Sie können dazu die Funktion `skimage.io.imread` mit dem Argument `as_gray=True` verwenden, welche Ihnen das Bild as 2D-Numpy-Array zurückgibt. Plotten Sie das Bild mit `plt.imshow`."
   ]
  },
  {
   "cell_type": "code",
   "execution_count": null,
   "id": "973fc2be",
   "metadata": {},
   "outputs": [],
   "source": []
  },
  {
   "cell_type": "markdown",
   "id": "ec78a2e1",
   "metadata": {},
   "source": [
    "## b)"
   ]
  },
  {
   "cell_type": "markdown",
   "id": "d3bfc3ce",
   "metadata": {},
   "source": [
    "Schreiben Sie nun eine Funktion, die das Filtern mit einer Faltungsmatrix implementiert. Als Argumente nimmt die Funktion zwei 2D-Arrays: Das Bild, das gefiltert wird, und die Faltungsmatrix.\n",
    "\n",
    "Testen Sie die Funktion mit den folgenden kleinen Matrizen:"
   ]
  },
  {
   "cell_type": "code",
   "execution_count": null,
   "id": "33a4e05c",
   "metadata": {},
   "outputs": [],
   "source": [
    "testimage = np.array([\n",
    "    [1, 2, 3],\n",
    "    [4, 5, 6],\n",
    "    [9, 10, 11]\n",
    "])\n",
    "testfilter = np.array([\n",
    "    [1, 1],\n",
    "    [-1, 1]\n",
    "])\n",
    "\n",
    "testoutput = np.array([\n",
    "    [4, 6],\n",
    "    [10, 12]\n",
    "])"
   ]
  },
  {
   "cell_type": "code",
   "execution_count": null,
   "id": "4cd95796",
   "metadata": {},
   "outputs": [],
   "source": []
  },
  {
   "cell_type": "markdown",
   "id": "d14c4f8a",
   "metadata": {},
   "source": [
    "## c)"
   ]
  },
  {
   "cell_type": "markdown",
   "id": "582b70ab",
   "metadata": {},
   "source": [
    "Verwenden Sie nun Ihre Funktion, um das Bild 'shapes.png' mit jeder der folgenden vier Filtermatrizen zu filtern. Überlegen Sie sich, welcher Operation diese Filter entsprechen. Plotten Sie die gefilterten Bilder und schauen Sie, welche Features von welchem Filter hervorgehoben werden."
   ]
  },
  {
   "cell_type": "code",
   "execution_count": null,
   "id": "7af5613a",
   "metadata": {},
   "outputs": [],
   "source": [
    "filter_vertical = np.array([[-1, 1], [-1, 1]])\n",
    "filter_horizontal = np.array([[-1, -1], [1, 1]])\n",
    "filter_diagonal = np.array([[-1, 0], [0, 1]])\n",
    "filter_antidiagonal = np.array([[0, 1], [-1, 0]])"
   ]
  },
  {
   "cell_type": "code",
   "execution_count": null,
   "id": "5493ff9c",
   "metadata": {},
   "outputs": [],
   "source": []
  },
  {
   "cell_type": "markdown",
   "id": "923631d4",
   "metadata": {},
   "source": [
    "## d)"
   ]
  },
  {
   "cell_type": "markdown",
   "id": "42db8827",
   "metadata": {},
   "source": [
    "Wiederholen Sie Aufgabe c) mit den folgenden Filtern, die den Filtern aus dem Beispiel für Convolutional Neural Networks in der Vorlesung entsprechen. Sie sollten erneut sehen, dass gewisse Features hervorgehoben werden."
   ]
  },
  {
   "cell_type": "code",
   "execution_count": null,
   "id": "1e71f2b8",
   "metadata": {},
   "outputs": [],
   "source": [
    "filtersize = 5\n",
    "filter_vertical = np.zeros(shape=(filtersize, filtersize))\n",
    "filter_vertical[:, (filtersize+1)//2:] = 1\n",
    "filter_horizontal = filter_vertical.T\n",
    "filter_diagonal = np.identity(filtersize)\n",
    "filter_antidiagonal = np.rot90(filter_diagonal)"
   ]
  },
  {
   "cell_type": "code",
   "execution_count": null,
   "id": "73cd90af",
   "metadata": {},
   "outputs": [],
   "source": []
  },
  {
   "cell_type": "markdown",
   "id": "3b88b9aa",
   "metadata": {},
   "source": [
    "## e)"
   ]
  },
  {
   "cell_type": "markdown",
   "id": "ef608228",
   "metadata": {},
   "source": [
    "Schreiben Sie nun eine Funktion, die ein $(2\\times2)$ Pooling implementiert. Die Funktion soll als Argument nur das Bild nehmen, auf das das Pooling angewendet wird. Testen Sie die Funktion mit der folgenden Matrix."
   ]
  },
  {
   "cell_type": "code",
   "execution_count": null,
   "id": "9ea9fc56",
   "metadata": {},
   "outputs": [],
   "source": [
    "testmatrix = np.array([\n",
    "    [0., 1., 2., 3., 4.],\n",
    "    [1., 2., 3., 4., 5.],\n",
    "    [2., 3., 4., 5., 6.],\n",
    "    [3., 4., 5., 6., 7.],\n",
    "    [4., 5., 6., 7., 8.]\n",
    "])\n",
    "\n",
    "testoutput = np.array([\n",
    "    [2., 4.],\n",
    "    [4., 6.]\n",
    "])"
   ]
  },
  {
   "cell_type": "code",
   "execution_count": null,
   "id": "9930c488",
   "metadata": {},
   "outputs": [],
   "source": []
  },
  {
   "cell_type": "markdown",
   "id": "d000c688",
   "metadata": {},
   "source": [
    "## f)"
   ]
  },
  {
   "cell_type": "markdown",
   "id": "232aa693",
   "metadata": {},
   "source": [
    "Schreiben Sie eine Funktion, die das Vorgehen eines Convolutional Neural Networks imitiert: Filter und Pooling werden iterativ angewendet, bis das Bild kleiner als die Filtermatrix ist. Dann wird das Maximum aller übrig geblibebenen Einträge zurückgegeben. Die Funktion nimmt wieder zwei Argumente, das Input-Bild und die Filtermatrix.\n",
    "\n",
    "Testen Sie die Funktion mit den folgenden Matrizen."
   ]
  },
  {
   "cell_type": "code",
   "execution_count": null,
   "id": "3ec11ff2",
   "metadata": {},
   "outputs": [],
   "source": [
    "testmatrix = np.array([\n",
    "    [0., 1., 2., 3., 4.],\n",
    "    [1., 2., 3., 4., 5.],\n",
    "    [2., 3., 4., 5., 6.],\n",
    "    [3., 4., 5., 6., 7.],\n",
    "    [4., 5., 6., 7., 8.]\n",
    "])\n",
    "\n",
    "testfilter = np.array([\n",
    "    [1, 1],\n",
    "    [0, 0]\n",
    "])\n",
    "\n",
    "testoutput = 13"
   ]
  },
  {
   "cell_type": "code",
   "execution_count": null,
   "id": "1423a727",
   "metadata": {},
   "outputs": [],
   "source": []
  },
  {
   "cell_type": "markdown",
   "id": "1934ba01",
   "metadata": {},
   "source": [
    "## g)"
   ]
  },
  {
   "cell_type": "markdown",
   "id": "7611b80d",
   "metadata": {},
   "source": [
    "Laden Sie die Dateien 'Data1/input_1.p', 'Data1/input_2.p', 'Data1/input_3.p' und 'Data1/input_4.p' mit `pickle`. Die Dateien enthalten 2D-Arrays mit schwarz-weiss Bildern im gleichen Format wie oben. **Plotten Sie die Bilder noch nicht!**\n",
    "\n",
    "Wenden Sie nacheinander auf jedes Bild das iterative Filtern und Pooling mit jedem der unten gegebenen Filtern an.\n",
    "Sie sollten aufgrund der ausgegebenen Zahlen in der Lage sein, Vermutungen über den Inhalte der Bilder anzustellen.\n",
    "Plotten Sie danach die Bilder und überprüfen Sie Ihre Vermutungen."
   ]
  },
  {
   "cell_type": "code",
   "execution_count": null,
   "id": "83fa55ca",
   "metadata": {},
   "outputs": [],
   "source": [
    "filtersize = 5\n",
    "filter_vertical = np.zeros(shape=(filtersize, filtersize))\n",
    "filter_vertical[:, (filtersize+1)//2:] = 1\n",
    "filter_horizontal = filter_vertical.T\n",
    "filter_diagonal = np.identity(filtersize)\n",
    "filter_antidiagonal = np.rot90(filter_diagonal)"
   ]
  },
  {
   "cell_type": "code",
   "execution_count": null,
   "id": "9cb724ea",
   "metadata": {},
   "outputs": [],
   "source": []
  },
  {
   "cell_type": "markdown",
   "id": "5ec239f5",
   "metadata": {},
   "source": [
    "# Bonusaufgabe: k-means Clustering in 2D"
   ]
  },
  {
   "cell_type": "markdown",
   "id": "c0aae0fd",
   "metadata": {},
   "source": [
    "Diese Aufgabe ist eine freiwillige Bonusaufgabe. Sie können sich hier der Herausforderung stellen, einen k-means Clustering Algorithmus selber zu implementieren. Der Algorithmus teilt eine Punktewolke in $\\mathbb{R}^2$ in $k$ Clusters auf.\n",
    "\n",
    "Wir geben Ihnen zuerst eine Beschreibung des gesamten Algorithmus. Anschliessend implementieren und testen Sie die Schritte einzeln, bevor Sie sie zum Algorithmus zusammenfügen und diesen auf einem Testdatensatz anwenden."
   ]
  },
  {
   "cell_type": "markdown",
   "id": "fe489348",
   "metadata": {},
   "source": [
    "**Clustering Algorithmus**\n",
    "\n",
    "Inputs: Koordinaten $(x_i, y_i)$ aller Punkte, Anzahl $k$ Clusters.\n",
    "\n",
    "Am Anfang werden $k$ Punkte zufällig gewählt. Diese dienen als Ausgangswerte für die Schwerpunkte der Clusters.\n",
    "\n",
    "Nun werden folgende zwei Schritte iterativ ausgeführt:\n",
    "\n",
    "1. Weise jeden Punkt dem Cluster zu, dessen Schwerpunkt (Centroid) am nächsten liegt.\n",
    "\n",
    "2. Berechne die Schwerpunkte der Clusters neu (Mittelwert der Koordinaten in jedem Cluster.\n",
    "\n",
    "Die Iteration wird solange durchgeführt, bis sich die Position der Schwerpunkte nicht mehr ändert."
   ]
  },
  {
   "cell_type": "markdown",
   "id": "11e0b669",
   "metadata": {},
   "source": [
    "## a)"
   ]
  },
  {
   "cell_type": "markdown",
   "id": "78c04eac",
   "metadata": {},
   "source": [
    "Schreiben Sie eine Funktion, die die euklidische Distanz zwischen zwei Punkten berechnet."
   ]
  },
  {
   "cell_type": "code",
   "execution_count": null,
   "id": "158fb599",
   "metadata": {},
   "outputs": [],
   "source": []
  },
  {
   "cell_type": "markdown",
   "id": "3c98f49b",
   "metadata": {},
   "source": [
    "## b)"
   ]
  },
  {
   "cell_type": "markdown",
   "id": "d37f6868",
   "metadata": {},
   "source": [
    "Implementieren Sie den ersten Schritt der Iteration: Die Zuweisung der Punkte zu Clusters mit gegebenen Schwerpunkten. Sie können das als Funktion schreiben, oder einfach als Codesnippet, das sie nach dem Testen in den Algorithmus kopieren.\n",
    "\n",
    "Verwenden Sie hier die vordefinierten Arrays `points` und `centroids`, welche die Datenpunkte und die Schwerpunkte der Clusters enthalten. Iterieren Sie durch alle Datenpunkte, finden Sie den nächstgelegenen Schwerpunkt, und speichern Sie den Index dieses Schwerpunktes in einem Array `assignment`.\n",
    "\n",
    "*Hinweis: Da im Array `assignment` Indizes gespeichert werden, ist es vorteilhaft, den Datentyp der Arrayeinträge als `int` festzulegen (`dtype=int`).*\n",
    "\n",
    "Zum Überprüfen können sie die Punkte als Scatterplot darstellen, wobei die Farbe jedes Punktes der Zuweisung zum Cluster entspricht."
   ]
  },
  {
   "cell_type": "code",
   "execution_count": null,
   "id": "87f9f303",
   "metadata": {},
   "outputs": [],
   "source": [
    "n_clusters = 2\n",
    "points = pickle.load(open('Data2/testpoints.p', 'rb'))\n",
    "centroids = pickle.load(open('Data2/testcentroids.p', 'rb'))"
   ]
  },
  {
   "cell_type": "code",
   "execution_count": null,
   "id": "e91d8a86",
   "metadata": {},
   "outputs": [],
   "source": []
  },
  {
   "cell_type": "markdown",
   "id": "3589b35c",
   "metadata": {},
   "source": [
    "## c)"
   ]
  },
  {
   "cell_type": "markdown",
   "id": "c9b71fa2",
   "metadata": {},
   "source": [
    "Implementieren Sie den zweiten Schritt der Iteration: Die Neuberechnung der Schwerpunkte.\n",
    "    \n",
    "Verwenden Sie die vordefinierten Array `points` und `assignment`. Die Anzahl Cluster ist auch bekannt und in der Variable `n_clusters` gespeichert. Ermitteln Sie den Mittelwert der Koordinaten aller Punkten, die zum gleichen Cluster gehören, wobei x- und y-Koordinaten  separat gemittelt werden. Speichern Sie diese Mittelwerte in `new_centroids`. Sie entsprechen den Koordinaten  der neuen Schwerpunkte.\n",
    "\n",
    "Zum Überprüfen können Sie wieder die Punkte als Scatterplot darstellen und zusätzlich die Schwerpunkte rot markiert plotten.\n",
    "\n",
    "<br>\n",
    "<details>\n",
    "    <summary><u>Tipp 1 anzeigen</u></summary>\n",
    "    <br>\n",
    "    Initialisieren Sie ein Array <code>coord_sum</code> der Grösse <code>(n_clusters, 2)</code>, um die Summe der Koordinaten der Punkte in jedem Cluster zu speichern, und ein Array <code>cluster_size</code> der Grösse <code>(n_clusters)</code>, um die Anzahl Punkte in jedem Cluster zu speichern.\n",
    "    Iterieren Sie durch die Punkte, um die Koordinaten aufzusummieren und die Grösse der Clusters zu bestimmen.\n",
    "</details>\n",
    "\n",
    "<br>\n",
    "<details>\n",
    "    <summary><u>Tipp 2 anzeigen</u></summary>\n",
    "    <br>\n",
    "    <b>Methode 1</b>: Ein äusserer for-Loop mit Laufvariable <code>k</code> iteriert durch alle Clusters. Ein innerer for-Loop iteriert durch alle Punkte. Bei jedem Punkt prüfen Sie, ob er im <code>k</code>-ten Cluster ist und falls ja addieren Sie seine Koordinaten zu <code>coord_sum[k]</code> und erhöhen <code>n_clusters[k]</code> um 1. <br>\n",
    "    <b>Methode 2</b>: Nur ein for-Loop, der durch alle Punkte iteriert, Laufvariable <code>i</code>. Lesen Sie den Index <code>k</code> des Clusters, in dem der <code>i</code>-te Punkt liegt, aus dem Array <code>assignment</code>. Addieren Sie die Koordinaten des <code>i</code>-ten Punktes zu <code>coord_sum[k]</code> und erhöhen Sie <code>n_clusters[k]</code> um 1. <br><br>\n",
    "    Bilden Sie aus <code>coord_sum</code> und <code>cluster_size</code> den Mittelwert der Koordinaten jedes Clusters und speichern Sie diese im Array <code>new_centroids</code>.\n",
    "</details>"
   ]
  },
  {
   "cell_type": "code",
   "execution_count": null,
   "id": "bc25940c",
   "metadata": {},
   "outputs": [],
   "source": [
    "n_clusters = 2\n",
    "points = pickle.load(open('Data2/testpoints.p', 'rb'))\n",
    "assignment = pickle.load(open('Data2/testassignment.p', 'rb'))"
   ]
  },
  {
   "cell_type": "code",
   "execution_count": null,
   "id": "0bccabff",
   "metadata": {},
   "outputs": [],
   "source": []
  },
  {
   "cell_type": "markdown",
   "id": "e86e8f31",
   "metadata": {},
   "source": [
    "## d)"
   ]
  },
  {
   "cell_type": "markdown",
   "id": "07b86780",
   "metadata": {},
   "source": [
    "Setzen Sie nun die zwei Schritte zum iterativen Algorithmus zusammen. Schreiben Sie hierzu eine Funktion, die folgende Argumente nimmt:\n",
    "\n",
    "- points: Das Array mit den Datenpunkten.\n",
    "- n_clusters: Ein Integer mit der Anzahl Clusters, in die die Punkte eingeteilt werden sollen.\n",
    "- tol: Eine absolute Toleranz für die Abbruchbedingung (siehe unten).\n",
    "- max_iterations: Ein Integer, das angibt, nach wie vielen Durchgängen die Iteration spätestens abgebrochen wird.\n",
    "\n",
    "Für die Initialisierung erstellen sie ein Zufallsgenerator-Objekt mit `rng = np.random.default_rng()` und verwenden dessen Funktion `rng.choice()` um zufällige Punkte aus dem Datensatz zu wählen.\n",
    "\n",
    "Die zwei Schritten kommen dann in eine `while`-Schleife mit folgenden Abbruchbedingungen:\n",
    "\n",
    "- Kein Schwerpunkt hat sich im letzten Durchlauf um mehr als `tol` verschoben, **oder**\n",
    "- Die Anzahl Durchläufe ist grösser als `max_iterations`.\n",
    "\n",
    "Am Ende gibt die Funktion die Arrays `assignment` und `centroids` aus, die die Zuweisung der Punkte zu Clusters und die Schwerpunkte der Clusters enthalten.\n",
    "\n",
    "Testen Sie Ihren Code am Datensatz 'Data2/xy_dataset.txt'. Sie können mit `sklearn.datasets.make_blobs(centers=n_clusters)` auch eigene Datensätze mit mehr oder weniger Clusters generieren. Wenn Sie die Zwischenresultate des Algorithmus anschauen wollen, können Sie `max_iterations` auf 1, 2, 3, etc. setzen und das Resultat plotten.\n",
    "\n",
    "Extrabonus: Verallgemeinern Sie den Algorithmus für Punkte in $\\mathbb{R}^n$."
   ]
  },
  {
   "cell_type": "code",
   "execution_count": null,
   "id": "5d0334bb",
   "metadata": {},
   "outputs": [],
   "source": [
    "from sklearn.datasets import make_blobs"
   ]
  },
  {
   "cell_type": "code",
   "execution_count": null,
   "id": "02745b72",
   "metadata": {},
   "outputs": [],
   "source": []
  }
 ],
 "metadata": {
  "kernelspec": {
   "display_name": "datenanalyse-env",
   "language": "python",
   "name": "datenanalyse-env"
  },
  "language_info": {
   "codemirror_mode": {
    "name": "ipython",
    "version": 3
   },
   "file_extension": ".py",
   "mimetype": "text/x-python",
   "name": "python",
   "nbconvert_exporter": "python",
   "pygments_lexer": "ipython3",
   "version": "3.10.10"
  },
  "latex_envs": {
   "LaTeX_envs_menu_present": true,
   "autoclose": false,
   "autocomplete": true,
   "bibliofile": "biblio.bib",
   "cite_by": "apalike",
   "current_citInitial": 1,
   "eqLabelWithNumbers": true,
   "eqNumInitial": 1,
   "hotkeys": {
    "equation": "Ctrl-E",
    "itemize": "Ctrl-I"
   },
   "labels_anchors": false,
   "latex_user_defs": false,
   "report_style_numbering": false,
   "user_envs_cfg": false
  },
  "toc": {
   "base_numbering": 1,
   "nav_menu": {},
   "number_sections": false,
   "sideBar": true,
   "skip_h1_title": false,
   "title_cell": "Table of Contents",
   "title_sidebar": "Contents",
   "toc_cell": false,
   "toc_position": {
    "height": "calc(100% - 180px)",
    "left": "10px",
    "top": "150px",
    "width": "460.8px"
   },
   "toc_section_display": true,
   "toc_window_display": true
  }
 },
 "nbformat": 4,
 "nbformat_minor": 5
}
