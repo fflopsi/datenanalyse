{
 "cells": [
  {
   "cell_type": "markdown",
   "metadata": {
    "tags": []
   },
   "source": [
    "# Von C++ nach Python: Teil 0\n",
    "**Hinweis**: Dieser Teil wird nicht in dieser Form im Unterricht gezeigt. Er dient als Referenz und zum Ausprobieren für Sie."
   ]
  },
  {
   "cell_type": "markdown",
   "metadata": {
    "tags": []
   },
   "source": [
    "## Input und Output\n",
    "### Output\n",
    "Wir können die print-Funktion verwenden, um Text auszugeben. "
   ]
  },
  {
   "cell_type": "code",
   "execution_count": 1,
   "metadata": {},
   "outputs": [
    {
     "name": "stdout",
     "output_type": "stream",
     "text": [
      "Hello and welcome to Datenanalyse in der Physik.\n"
     ]
    }
   ],
   "source": [
    "print(\"Hello and welcome to Datenanalyse in der Physik.\")"
   ]
  },
  {
   "cell_type": "markdown",
   "metadata": {},
   "source": [
    "Ausgabe mehrerer Wörter in einer Zeile mit Leerschlag dazwischen."
   ]
  },
  {
   "cell_type": "code",
   "execution_count": 2,
   "metadata": {},
   "outputs": [
    {
     "name": "stdout",
     "output_type": "stream",
     "text": [
      "Hello there !\n"
     ]
    }
   ],
   "source": [
    "print(\"Hello\",\"there\", \"!\")"
   ]
  },
  {
   "cell_type": "markdown",
   "metadata": {},
   "source": [
    "### Input"
   ]
  },
  {
   "cell_type": "markdown",
   "metadata": {},
   "source": [
    "Kommentieren Sie die Zeilen nicht mehr aus und schauen Sie, was passiert. "
   ]
  },
  {
   "cell_type": "code",
   "execution_count": 7,
   "metadata": {},
   "outputs": [],
   "source": [
    "name = input(\"What is your name: \")\n",
    "print(\"Hello\", name) "
   ]
  },
  {
   "cell_type": "markdown",
   "metadata": {},
   "source": [
    "Falls Sie eine ganze Zahl einlesen, können Sie den Input-String mit *int* in eine ganze Zahl konvertieren. "
   ]
  },
  {
   "cell_type": "code",
   "execution_count": 8,
   "metadata": {},
   "outputs": [],
   "source": [
    "# number = int(input(\"Enter a number: \"))"
   ]
  },
  {
   "cell_type": "markdown",
   "metadata": {
    "tags": []
   },
   "source": [
    "## Formatierung\n",
    "Die Formatierung ist relevant. Leerschläge und Einrückung spielen eine Rolle! "
   ]
  },
  {
   "cell_type": "markdown",
   "metadata": {
    "tags": []
   },
   "source": [
    "### Kommentare"
   ]
  },
  {
   "cell_type": "markdown",
   "metadata": {
    "tags": []
   },
   "source": [
    "Einzeilige Kommentare können mit *#* hinzugefügt werden."
   ]
  },
  {
   "cell_type": "code",
   "execution_count": 9,
   "metadata": {
    "scrolled": true
   },
   "outputs": [
    {
     "name": "stdout",
     "output_type": "stream",
     "text": [
      "Hello again.\n"
     ]
    }
   ],
   "source": [
    "# single-line comments can be added anywhere\n",
    "print(\"Hello again.\") # also here"
   ]
  },
  {
   "cell_type": "markdown",
   "metadata": {
    "tags": []
   },
   "source": [
    "Mehrzeilige Kommentare werden zwischen *\"\"\"* und *\"\"\"* geschrieben. "
   ]
  },
  {
   "cell_type": "code",
   "execution_count": 10,
   "metadata": {
    "scrolled": true
   },
   "outputs": [
    {
     "name": "stdout",
     "output_type": "stream",
     "text": [
      "Hello!\n"
     ]
    }
   ],
   "source": [
    "\"\"\" a multi-line comment \n",
    "can be added like this \"\"\" \n",
    "print(\"Hello!\")"
   ]
  },
  {
   "cell_type": "markdown",
   "metadata": {
    "tags": []
   },
   "source": [
    "### Anweisungen\n",
    "Pro Zeile gibt es eine Anweisung. Diese müssen nicht durch ein Semikolon getrennt werden. "
   ]
  },
  {
   "cell_type": "code",
   "execution_count": 12,
   "metadata": {
    "scrolled": true
   },
   "outputs": [
    {
     "name": "stdout",
     "output_type": "stream",
     "text": [
      "Hurray, finally ...\n",
      "... no Semicolons!\n"
     ]
    }
   ],
   "source": [
    "print(\"Hurray, finally ...\")\n",
    "print(\"... no Semicolons!\")"
   ]
  },
  {
   "cell_type": "markdown",
   "metadata": {
    "tags": []
   },
   "source": [
    "Mehrere Anweisungen pro Zeile oder Einrückungen an der falschen Stelle führen zu Fehlern!\n",
    "\n",
    "Entfernen Sie in den nächsten Code-Fragmenten die *#*, um die Fehlermeldungen zu sehen. "
   ]
  },
  {
   "cell_type": "code",
   "execution_count": 13,
   "metadata": {
    "scrolled": true
   },
   "outputs": [],
   "source": [
    "# print(\"Hurray, finally ...\") print(\"... no Semicolons!\")"
   ]
  },
  {
   "cell_type": "code",
   "execution_count": 14,
   "metadata": {
    "scrolled": true
   },
   "outputs": [],
   "source": [
    "# print(\"Hurray, finally ...\") \n",
    "#    print(\"... no Semicolons!\")"
   ]
  },
  {
   "cell_type": "markdown",
   "metadata": {},
   "source": [
    "### Blöcke \n",
    "Blöcke müssen eingerückt werden. Alle eingerückten Anweisungen gehören zum Block. Der Block endet, wo die Einrückung endet. Der Start eines Blocks ist markiert durch einen Doppelpunkt.\n",
    "\n",
    "Rücken Sie im folgenden Code die print-Instruktion ein, um zu sehen, wie die Einrückung die Semantik des Programms verändert. "
   ]
  },
  {
   "cell_type": "code",
   "execution_count": 16,
   "metadata": {},
   "outputs": [
    {
     "name": "stdout",
     "output_type": "stream",
     "text": [
      "10\n"
     ]
    }
   ],
   "source": [
    "# Zählen von 1 bis 10?\n",
    "x = 0\n",
    "while x < 10:\n",
    "    x = x + 1\n",
    "print(x)"
   ]
  },
  {
   "cell_type": "markdown",
   "metadata": {},
   "source": [
    "Rücken Sie im folgenden Code die print(\"number\")-Instruktion ein, um zu sehen, wie die Einrückung die Semantik des Programms verändert. "
   ]
  },
  {
   "cell_type": "code",
   "execution_count": 17,
   "metadata": {},
   "outputs": [
    {
     "name": "stdout",
     "output_type": "stream",
     "text": [
      "small\n",
      "number\n"
     ]
    }
   ],
   "source": [
    "x = 3\n",
    "if x < 5:\n",
    "    print(\"small\")\n",
    "else:\n",
    "    print(\"big\")\n",
    "print(\"number\")"
   ]
  },
  {
   "cell_type": "markdown",
   "metadata": {
    "tags": []
   },
   "source": [
    "## Variablen\n"
   ]
  },
  {
   "cell_type": "markdown",
   "metadata": {
    "tags": []
   },
   "source": [
    "### Alles ist ein Objekt\n",
    "In Python ist alles ein Objekt. \n",
    "\n",
    "Ein Objekt hat einen (unveränderlichen) Typ und eine (unveränderliche) Adresse (die *id*). Der Typ kann mit *type* abegefragt werden, die Adresse mit *id*. \n"
   ]
  },
  {
   "cell_type": "code",
   "execution_count": 18,
   "metadata": {},
   "outputs": [
    {
     "name": "stdout",
     "output_type": "stream",
     "text": [
      "value is 4\n",
      "type is <class 'int'>\n",
      "id (address) is 9793184\n"
     ]
    }
   ],
   "source": [
    "print(\"value is\", 4)\n",
    "print(\"type is\", type(4))\n",
    "print(\"id (address) is\", id(4))"
   ]
  },
  {
   "cell_type": "markdown",
   "metadata": {
    "jp-MarkdownHeadingCollapsed": true,
    "tags": []
   },
   "source": [
    "\n",
    "Zudem hat ein Objekt einen Wert, der für die meisten \"einfachen\" Typen unveränderlich ist. Insbesondere sind *int, float, complex, bool, str, tuple, NoneType* alle unveränderlich. Nur für selbst definierte Klassen und für Datenstrukturen wie Listen, Wörterbücher, ... sind die Objekte veränderlich. Mehr dazu später.\n",
    "\n",
    "Wenn wir scheinbar ein Objekt eines unveränderlichen Typen verändern, dann erstellen wir in Wahrheit ein neues Objekt. \n",
    "\n",
    "Beispiel: Der String *\"hello\"* ändert sich durchs Anfügen des Aufrufezeichens nicht. Es wird ein neuer String *\"hello!\"* an einer neuen Adresse erstellt. *\"hello\"* befindet sich nach wie vor an der gleichen Adresse, unverändert. "
   ]
  },
  {
   "cell_type": "code",
   "execution_count": 19,
   "metadata": {},
   "outputs": [
    {
     "name": "stdout",
     "output_type": "stream",
     "text": [
      "id of hello: 140267192381936\n",
      "id of hello!: 140267192382064\n",
      "id of hello: 140267192381936\n"
     ]
    }
   ],
   "source": [
    "print(\"id of hello:\", id(\"hello\"))\n",
    "print(\"id of hello!:\", id(\"hello\"+\"!\"))\n",
    "print(\"id of hello:\", id(\"hello\"))"
   ]
  },
  {
   "cell_type": "markdown",
   "metadata": {
    "tags": []
   },
   "source": [
    "### Dynamisch typisiert\n",
    "Python ist dynamisch typisiert. Der Typ einer Variablen kann sich zur Laufzeit ändern, indem die Variable verschiedene Objekte referenziert. Der Typ der Objekte bleibt jedoch immer der gleiche. "
   ]
  },
  {
   "cell_type": "code",
   "execution_count": 21,
   "metadata": {},
   "outputs": [
    {
     "name": "stdout",
     "output_type": "stream",
     "text": [
      "<class 'int'>\n",
      "<class 'str'>\n"
     ]
    }
   ],
   "source": [
    "x = 4\n",
    "print(type(x))\n",
    "x = \"hello\"\n",
    "print(type(x))"
   ]
  },
  {
   "cell_type": "markdown",
   "metadata": {},
   "source": [
    "Es wird zur Laufzeit geprüft, ob die aufgerufenen Funktionen für die von der Variablen referenzierten Objekte Sinn ergeben. Falls nicht, gibt es einen Laufzeitfehler.\n",
    "\n",
    "Entfernen Sie das #, um zu sehen, was passiert, wenn sie einen String und einen Integer addieren. "
   ]
  },
  {
   "cell_type": "code",
   "execution_count": 22,
   "metadata": {},
   "outputs": [],
   "source": [
    "if True:\n",
    "    x = \"hello\"\n",
    "else:\n",
    "    x = 3\n",
    "# y = x + 5"
   ]
  },
  {
   "cell_type": "markdown",
   "metadata": {
    "tags": []
   },
   "source": [
    "### Zuweisung mehrerer Variablen\n",
    "Wir können mehreren Variablen gleichzeitig in einer Instruktion einen Wert zuweisen."
   ]
  },
  {
   "cell_type": "code",
   "execution_count": 23,
   "metadata": {
    "jp-MarkdownHeadingCollapsed": true,
    "tags": []
   },
   "outputs": [
    {
     "name": "stdout",
     "output_type": "stream",
     "text": [
      "4 5\n",
      "3 4 5\n"
     ]
    }
   ],
   "source": [
    "x, y = 4, 5 # equivalent to (x,y) = (4,5)\n",
    "print(x, y)\n",
    "x, y, z = 3, 4, 5\n",
    "print(x, y, z)"
   ]
  },
  {
   "cell_type": "markdown",
   "metadata": {},
   "source": [
    "Dies ist insbesondere sehr nützlich, um die Werte zweier Variablen zu tauschen!\n",
    "\n",
    "Ändern Sie den Code unten so ab, so dass die Werte von *x* und *y* korrekt getauscht werden. "
   ]
  },
  {
   "cell_type": "code",
   "execution_count": 24,
   "metadata": {
    "tags": []
   },
   "outputs": [
    {
     "name": "stdout",
     "output_type": "stream",
     "text": [
      "4 4\n"
     ]
    }
   ],
   "source": [
    "x = 3\n",
    "y = 4\n",
    "x = y\n",
    "y = x\n",
    "print(x, y)"
   ]
  },
  {
   "cell_type": "markdown",
   "metadata": {},
   "source": [
    "Lösung:"
   ]
  },
  {
   "cell_type": "code",
   "execution_count": 25,
   "metadata": {
    "tags": []
   },
   "outputs": [
    {
     "name": "stdout",
     "output_type": "stream",
     "text": [
      "4 3\n"
     ]
    }
   ],
   "source": [
    "x = 3\n",
    "y = 4\n",
    "x, y = y, x\n",
    "print(x, y)"
   ]
  },
  {
   "cell_type": "markdown",
   "metadata": {
    "tags": []
   },
   "source": [
    "### Lesen vor Initialisierung\n",
    "Wenn Sie eine Variable lesen, bevor Sie sie initialisieren, führt dies zu einem Fehler. \n",
    "\n",
    "Entfernen Sie das *#*, um zu sehen, was passiert, wenn die Variable *b* gelesen wird, bevor wir ihr einen Wert zuweisen. "
   ]
  },
  {
   "cell_type": "code",
   "execution_count": 26,
   "metadata": {},
   "outputs": [],
   "source": [
    "# a = b"
   ]
  },
  {
   "cell_type": "markdown",
   "metadata": {
    "tags": []
   },
   "source": [
    "## \"Einfache\" Typen\n",
    "### Zahlen\n",
    "#### Ganze Zahlen (int)"
   ]
  },
  {
   "cell_type": "markdown",
   "metadata": {},
   "source": [
    "Ganze Zahlen können beliebig gross sein (solange genug Speicher vorhanden ist). Overflow ist kein Problem. "
   ]
  },
  {
   "cell_type": "code",
   "execution_count": 28,
   "metadata": {},
   "outputs": [
    {
     "name": "stdout",
     "output_type": "stream",
     "text": [
      "42 2 27 30 7729684762313578932578932234234234234234 -5\n",
      "0b101010 0o33 0x1b\n"
     ]
    }
   ],
   "source": [
    "i1 = 42\n",
    "i2 = 0b10 #binary\n",
    "i3 = 0x1b #hexadecimal\n",
    "i4 = 0o36 #octal\n",
    "i5 = 7729684762313578932578932234234234234234\n",
    "i6 = -5\n",
    "print(i1, i2, i3, i4, i5, i6)\n",
    "\n",
    "# output integers as string of its binary/octal/hexadecimal representation\n",
    "print(bin(i1), oct(27), hex(27))"
   ]
  },
  {
   "cell_type": "markdown",
   "metadata": {},
   "source": [
    "#### Fliesskommazahlen (float)"
   ]
  },
  {
   "cell_type": "markdown",
   "metadata": {},
   "source": [
    "Der Datentyp *float* in Python ist wie *double* in C++, aber die Präzision ist abhängig von der Plattform (CPU, Betriebssystem). "
   ]
  },
  {
   "cell_type": "code",
   "execution_count": 29,
   "metadata": {},
   "outputs": [
    {
     "name": "stdout",
     "output_type": "stream",
     "text": [
      "-0.1 0.0034567\n"
     ]
    }
   ],
   "source": [
    "f1 = -0.1\n",
    "f2 = 34.567e-4\n",
    "\n",
    "print(f1, f2)"
   ]
  },
  {
   "cell_type": "markdown",
   "metadata": {},
   "source": [
    "Bei gewissen Zahlen kommt es zu Rundungseffekten."
   ]
  },
  {
   "cell_type": "code",
   "execution_count": 30,
   "metadata": {},
   "outputs": [
    {
     "name": "stdout",
     "output_type": "stream",
     "text": [
      "1234567890.0987654\n"
     ]
    }
   ],
   "source": [
    "f = 1234567890.0987654321\n",
    "print(f)"
   ]
  },
  {
   "cell_type": "markdown",
   "metadata": {},
   "source": [
    "Vorsicht falls auf Gleichheit getestet wird bei Fliesskommazahlen! \n",
    "Entfernen der zweiten Bedingung führt zu Endlosschleife!"
   ]
  },
  {
   "cell_type": "code",
   "execution_count": 31,
   "metadata": {},
   "outputs": [
    {
     "name": "stdout",
     "output_type": "stream",
     "text": [
      "0\n",
      "0.1\n",
      "0.2\n",
      "0.30000000000000004\n",
      "0.4\n",
      "0.5\n",
      "0.6\n",
      "0.7\n",
      "0.7999999999999999\n",
      "0.8999999999999999\n",
      "0.9999999999999999\n",
      "1.0999999999999999\n",
      "1.2\n",
      "1.3\n",
      "1.4000000000000001\n",
      "1.5000000000000002\n",
      "1.6000000000000003\n",
      "1.7000000000000004\n",
      "1.8000000000000005\n",
      "1.9000000000000006\n"
     ]
    }
   ],
   "source": [
    "# Fliesskommaarithmetik ist wie bei C++ double (IEEE 754)\n",
    "a = 0\n",
    "while a != 1 and a < 2: # zweite Bedingung damit überhaupt abgebrochen wird\n",
    "    print(a)\n",
    "    a = a + 0.1"
   ]
  },
  {
   "cell_type": "markdown",
   "metadata": {},
   "source": [
    "### Wahrheitswerte (bool)"
   ]
  },
  {
   "cell_type": "code",
   "execution_count": 33,
   "metadata": {},
   "outputs": [
    {
     "name": "stdout",
     "output_type": "stream",
     "text": [
      "True False <class 'bool'>\n"
     ]
    }
   ],
   "source": [
    "b1 = True\n",
    "b2 = False\n",
    "\n",
    "print(b1, b2, type(b1))"
   ]
  },
  {
   "cell_type": "markdown",
   "metadata": {
    "tags": []
   },
   "source": [
    "## \"Einfache\" Operatoren\n",
    "### Numerische Operatoren"
   ]
  },
  {
   "cell_type": "code",
   "execution_count": 34,
   "metadata": {},
   "outputs": [
    {
     "name": "stdout",
     "output_type": "stream",
     "text": [
      "15\n"
     ]
    }
   ],
   "source": [
    "# addition, subtraction, multiplication, and parantheses\n",
    "x = (2 + 3) * (5 - 2)\n",
    "print(x)"
   ]
  },
  {
   "cell_type": "code",
   "execution_count": 35,
   "metadata": {},
   "outputs": [
    {
     "name": "stdout",
     "output_type": "stream",
     "text": [
      "1 += 4 is 5\n",
      "5 -= 3 is 2\n"
     ]
    }
   ],
   "source": [
    "# there is no ++ as in C++, but we can use += and -=\n",
    "x = 1\n",
    "print(x,\"+= 4 is\", end = \" \")\n",
    "x += 4\n",
    "print(x)\n",
    "print(x, \"-= 3 is\", end = \" \")\n",
    "x -= 3\n",
    "print(x)"
   ]
  },
  {
   "cell_type": "code",
   "execution_count": 36,
   "metadata": {},
   "outputs": [
    {
     "name": "stdout",
     "output_type": "stream",
     "text": [
      "2^5 = 32\n"
     ]
    }
   ],
   "source": [
    "# power\n",
    "print(\"2^5 =\", 2**5)"
   ]
  },
  {
   "cell_type": "code",
   "execution_count": 37,
   "metadata": {},
   "outputs": [
    {
     "name": "stdout",
     "output_type": "stream",
     "text": [
      "float division: 3 / 6 = 0.5\n",
      "float division: 6 / 3 = 2.0\n",
      "integer division: 3 // 6 = 0\n",
      "integer division: 6 // 3 = 2\n"
     ]
    }
   ],
   "source": [
    "# two types of division\n",
    "\n",
    "x = 3\n",
    "y = 6\n",
    "# / always results in a float\n",
    "print(\"float division:\", x, \"/\", y, \"=\", x/y)\n",
    "print(\"float division:\", y, \"/\", x, \"=\", y/x)\n",
    "# // always results in an int (floor!)\n",
    "print(\"integer division:\", x, \"//\", y, \"=\", x//y)\n",
    "print(\"integer division:\", y, \"//\", x, \"=\", y//x)"
   ]
  },
  {
   "cell_type": "code",
   "execution_count": 38,
   "metadata": {},
   "outputs": [
    {
     "name": "stdout",
     "output_type": "stream",
     "text": [
      "4\n"
     ]
    }
   ],
   "source": [
    "# remainder (modulo)\n",
    "print( 18 % 7 ) "
   ]
  },
  {
   "cell_type": "markdown",
   "metadata": {},
   "source": [
    "### Relationale Operatoren\n",
    "Operationen zum Vergleich von Werten."
   ]
  },
  {
   "cell_type": "code",
   "execution_count": 39,
   "metadata": {},
   "outputs": [
    {
     "name": "stdout",
     "output_type": "stream",
     "text": [
      "x is greater than y: False\n",
      "x is smaller than y: True\n",
      "x is at most y: True\n",
      "x is at least y: False\n",
      "x and y have the same value: False\n",
      "x and y have different values: True\n"
     ]
    }
   ],
   "source": [
    "x = 4\n",
    "y = 6\n",
    "print(\"x is greater than y:\", x > y)\n",
    "print(\"x is smaller than y:\", x < y)\n",
    "print(\"x is at most y:\", x <= y)\n",
    "print(\"x is at least y:\", x >= y)\n",
    "print(\"x and y have the same value:\", x == y)\n",
    "print(\"x and y have different values:\", x != y)"
   ]
  },
  {
   "cell_type": "markdown",
   "metadata": {
    "tags": []
   },
   "source": [
    "### Boolesche Operatoren\n",
    "Operationen auf Wahrheitswerten. "
   ]
  },
  {
   "cell_type": "code",
   "execution_count": 40,
   "metadata": {},
   "outputs": [
    {
     "name": "stdout",
     "output_type": "stream",
     "text": [
      "b1 and b2: False\n",
      "b1 or b2: True\n",
      "not b4: False\n"
     ]
    }
   ],
   "source": [
    "b1 = True\n",
    "b2 = False\n",
    "b3 = b1 or b2\n",
    "b4 = 3 < 4\n",
    "b5 = not b4\n",
    "print(\"b1 and b2:\", b1 and b2)\n",
    "print(\"b1 or b2:\", b3)\n",
    "print(\"not b4:\", b5)\n"
   ]
  },
  {
   "cell_type": "markdown",
   "metadata": {
    "tags": []
   },
   "source": [
    "## Kontrollstrukturen\n",
    "### Bedingungen\n",
    "#### if-Anweisung\n",
    "Die if/elseif/else-Anweisung hat die folgende Syntax. *elif* und *else* können weggelassen werden."
   ]
  },
  {
   "cell_type": "code",
   "execution_count": 41,
   "metadata": {},
   "outputs": [
    {
     "name": "stdout",
     "output_type": "stream",
     "text": [
      "A perfect number, good choice!\n",
      "Bye.\n"
     ]
    }
   ],
   "source": [
    "number = 6\n",
    "\n",
    "if number == 42:\n",
    "    print(\"Naturally, the answer!\")\n",
    "elif number == 28 or number == 6:\n",
    "    print(\"A perfect number, good choice!\")\n",
    "else:\n",
    "    print(number, \"is just some boring number.\")\n",
    "print(\"Bye.\")"
   ]
  },
  {
   "cell_type": "markdown",
   "metadata": {},
   "source": [
    "Falls Sie einen Block explizit schreiben wollen, aber dennoch keinen Code ausführen möchten, gibt es die *pass*-Instruktion, die nichts tut!\n",
    "\n",
    "Schauen Sie, was passiert, wenn Sie im folgenden Code den Wert von x auf 3, 4 und 5 setzen."
   ]
  },
  {
   "cell_type": "code",
   "execution_count": 42,
   "metadata": {},
   "outputs": [],
   "source": [
    "x = 3\n",
    "if x == 3:\n",
    "    pass\n",
    "elif x == 4:\n",
    "    pass\n",
    "else:\n",
    "    print(\"x is not equal to 3 and 4.\")"
   ]
  },
  {
   "cell_type": "markdown",
   "metadata": {
    "tags": []
   },
   "source": [
    "#### Bedingte Ausdrücke\n",
    "Ein Ausdruck kann von einer Bedingung abhängen. Bedingte Ausdrücke können mit \"*if_value if condition else else_value*\" ausgedrückt werden. In C++ ist es \"*condition ? if_value : else_value*\".\n",
    "\n",
    "Beachten Sie, dass *if_value* und *else_value* nicht zwingend den gleichen Typ haben müssen."
   ]
  },
  {
   "cell_type": "code",
   "execution_count": 43,
   "metadata": {},
   "outputs": [
    {
     "data": {
      "text/plain": [
       "'small'"
      ]
     },
     "execution_count": 43,
     "metadata": {},
     "output_type": "execute_result"
    }
   ],
   "source": [
    "x = 3\n",
    "\"small\" if x < 4 else 1000"
   ]
  },
  {
   "cell_type": "code",
   "execution_count": 44,
   "metadata": {},
   "outputs": [
    {
     "name": "stdout",
     "output_type": "stream",
     "text": [
      "3\n"
     ]
    }
   ],
   "source": [
    "# compute the minimum of x and y\n",
    "x = 4\n",
    "y = 3\n",
    "minimum = x if x < y else y \n",
    "print(minimum)"
   ]
  },
  {
   "cell_type": "code",
   "execution_count": 45,
   "metadata": {},
   "outputs": [
    {
     "name": "stdout",
     "output_type": "stream",
     "text": [
      "Your number is odd.\n"
     ]
    }
   ],
   "source": [
    "# determine whether number is even or odd \n",
    "number = 3\n",
    "print(\"Your number is even.\" if number % 2 == 0 else \"Your number is odd.\")"
   ]
  },
  {
   "cell_type": "code",
   "execution_count": 46,
   "metadata": {},
   "outputs": [
    {
     "name": "stdout",
     "output_type": "stream",
     "text": [
      "I see 4 mice.\n"
     ]
    }
   ],
   "source": [
    "# output the number of mice\n",
    "number = 4\n",
    "print('I see', 'a mouse.' if number == 1 else str(number)+' mice.' if number < 5 else 'many mice.')"
   ]
  },
  {
   "cell_type": "markdown",
   "metadata": {},
   "source": [
    "### While-Schleifen"
   ]
  },
  {
   "cell_type": "code",
   "execution_count": null,
   "metadata": {},
   "outputs": [],
   "source": [
    "# while with one condition\n",
    "x = 0\n",
    "while x <= 3:\n",
    "    print(x)\n",
    "    x += 1"
   ]
  },
  {
   "cell_type": "code",
   "execution_count": null,
   "metadata": {},
   "outputs": [],
   "source": [
    "# while with multiple conditions\n",
    "x = 0\n",
    "y = 10\n",
    "while x <= 10 and y >= 0:\n",
    "    print(\"x =\", x, \"y =\", y)\n",
    "    x += 2\n",
    "    y -= 3"
   ]
  },
  {
   "cell_type": "code",
   "execution_count": null,
   "metadata": {},
   "outputs": [],
   "source": [
    "# Collatz sequence of mice\n",
    "a = 5\n",
    "while a != 1:\n",
    "    a = a // 2 if a%2 == 0 else a*3+1\n",
    "    print('I see', 'a mouse' if a == 1 else str(a)+' mice' if a < 5 else 'many mice')"
   ]
  },
  {
   "cell_type": "markdown",
   "metadata": {},
   "source": [
    "Ersetzen Sie die Anweisung *i += 1* mit *pass*, um eine Endlosschleife zu generieren. "
   ]
  },
  {
   "cell_type": "code",
   "execution_count": null,
   "metadata": {},
   "outputs": [],
   "source": [
    "# an infinite loop?\n",
    "i = 0\n",
    "while i < 4:\n",
    "    i += 1"
   ]
  },
  {
   "cell_type": "markdown",
   "metadata": {
    "tags": []
   },
   "source": [
    "### For-Schleifen\n",
    "#### For-Schleifen über Wertebereiche"
   ]
  },
  {
   "cell_type": "markdown",
   "metadata": {},
   "source": [
    "Ein Wertebereich kann mit *range(first, last, step)* erzeugt werden. *first* bezieht sich auf den Startwert (inklusiv), *last* auf den Endwert (exklusiv) und *step* auf die Schrittgrösse. "
   ]
  },
  {
   "cell_type": "code",
   "execution_count": null,
   "metadata": {},
   "outputs": [],
   "source": [
    "for i in range(0, 7, 1):\n",
    "    print(i, end = \" \")"
   ]
  },
  {
   "cell_type": "code",
   "execution_count": null,
   "metadata": {},
   "outputs": [],
   "source": [
    "for i in range(0, 7, 2):\n",
    "    print(i, end = \" \")"
   ]
  },
  {
   "cell_type": "markdown",
   "metadata": {
    "tags": []
   },
   "source": [
    "#### For-Schleifen über Listen\n",
    "Wir können mit *for* auch über Listen iterieren. Mehr zum Thema Listen gibt es später. "
   ]
  },
  {
   "cell_type": "code",
   "execution_count": null,
   "metadata": {},
   "outputs": [],
   "source": [
    "l = [3, 5, 25]\n",
    "for x in l:\n",
    "    print(x, end = \" \")"
   ]
  },
  {
   "cell_type": "code",
   "execution_count": null,
   "metadata": {},
   "outputs": [],
   "source": [
    "l = [\"hi\", 6, 7, \"there\"]\n",
    "for x in l:\n",
    "    print(x, end = \" \")"
   ]
  },
  {
   "cell_type": "markdown",
   "metadata": {
    "tags": []
   },
   "source": [
    "## Funktionen\n",
    "### Definition und Aufruf\n",
    "Eine neue Funktion *f* kann mit *def f()* definiert werden. Funktionskörper folgt nach Doppelpunkt in eingerücktem Block. "
   ]
  },
  {
   "cell_type": "code",
   "execution_count": null,
   "metadata": {},
   "outputs": [],
   "source": [
    "# function definition of f\n",
    "def f():\n",
    "    print(\"a new function\")"
   ]
  },
  {
   "cell_type": "markdown",
   "metadata": {},
   "source": [
    "Ein Funktionsaufruf von *f* geschieht mit *f()*."
   ]
  },
  {
   "cell_type": "code",
   "execution_count": null,
   "metadata": {},
   "outputs": [],
   "source": [
    "# function definition of f\n",
    "def f():\n",
    "    print(\"a new function\")\n",
    "\n",
    "# function call of f\n",
    "f()"
   ]
  },
  {
   "cell_type": "markdown",
   "metadata": {},
   "source": [
    "Die Reihenfolge spielt eine Rolle! Entfernen Sie das *#*, um zu sehen, was passiert, wenn wir eine Funktion *g* aufrufen bevor sie definiert wird."
   ]
  },
  {
   "cell_type": "code",
   "execution_count": null,
   "metadata": {
    "tags": []
   },
   "outputs": [],
   "source": [
    "# function call of g\n",
    "# g()\n",
    "\n",
    "# function definition of g\n",
    "def g():\n",
    "    print(\"a new function\")\n"
   ]
  },
  {
   "cell_type": "markdown",
   "metadata": {},
   "source": [
    "### Parameter\n",
    "Eine Funktion kann beliebig viele Parameter haben. Sie werden in der Klammer durch Komma getrennt angegeben, sowohl bei der Definition als auch beim Aufruf.\n",
    "\n",
    "Da Python dynamisch typisiert ist, genügt ein Name; es braucht keinen Typ."
   ]
  },
  {
   "cell_type": "code",
   "execution_count": 48,
   "metadata": {},
   "outputs": [
    {
     "name": "stdout",
     "output_type": "stream",
     "text": [
      "5\n"
     ]
    }
   ],
   "source": [
    "# function minVal prints the minimum of its parameters x and y\n",
    "def minVal(x, y):\n",
    "    if x < y:\n",
    "        print(x)\n",
    "    else:\n",
    "        print(y)\n",
    "\n",
    "# call minVal with parameters x = 5 and y = 10\n",
    "minVal(5, 10)"
   ]
  },
  {
   "cell_type": "markdown",
   "metadata": {},
   "source": [
    "### Rückgabewert\n",
    "Eine Funktion kann einen Wert mit *return* zurückgeben. Der Rückgabetyp muss nicht explizit angegeben werden. "
   ]
  },
  {
   "cell_type": "code",
   "execution_count": 51,
   "metadata": {},
   "outputs": [
    {
     "name": "stdout",
     "output_type": "stream",
     "text": [
      "3\n"
     ]
    }
   ],
   "source": [
    "# function minVal returns the minimum of its parameters x and y\n",
    "def minVal(x, y):\n",
    "    if x < y:\n",
    "        return x\n",
    "    else:\n",
    "        return y\n",
    "\n",
    "# call minVal with parameters x = 4 and y = 3\n",
    "print(minVal(4, 3))"
   ]
  },
  {
   "cell_type": "markdown",
   "metadata": {},
   "source": [
    "Eine Funktion kann auch nichts zurückgeben. Dies geschieht entweder automatisch am Ende der Funktion oder durch explizites Schreiben von *return*. Der Rückgabewert ist dann *None* und der Typ ist *NoneType*.\n",
    "\n",
    "Falls Sie mal *None* statt einen Wert ausgeben, haben Sie vermutlich vergessen, den Wert mit *return* zurückzugeben. "
   ]
  },
  {
   "cell_type": "code",
   "execution_count": 52,
   "metadata": {},
   "outputs": [
    {
     "name": "stdout",
     "output_type": "stream",
     "text": [
      "f(2) = None with type <class 'NoneType'>\n"
     ]
    }
   ],
   "source": [
    "# function that does nothing and explicitly returns None of type NoneType\n",
    "def f(x):\n",
    "    return    \n",
    "print(\"f(2) =\", f(2), \"with type\", type(f(2)))"
   ]
  },
  {
   "cell_type": "code",
   "execution_count": 53,
   "metadata": {},
   "outputs": [
    {
     "name": "stdout",
     "output_type": "stream",
     "text": [
      "g(2) = None with type <class 'NoneType'>\n"
     ]
    }
   ],
   "source": [
    "# function that does nothing and only implicitly returns None of type NoneType\n",
    "def g(x):\n",
    "    pass\n",
    "print(\"g(2) =\", g(2), \"with type\", type(g(2)))"
   ]
  },
  {
   "cell_type": "code",
   "execution_count": 54,
   "metadata": {},
   "outputs": [
    {
     "name": "stdout",
     "output_type": "stream",
     "text": [
      "return value = None\n",
      "The number was negative.\n"
     ]
    }
   ],
   "source": [
    "# function f returns nothing (i.e., None) if its parameter x is negative and x otherwise\n",
    "def f(x):\n",
    "    if x < 0:\n",
    "        return\n",
    "    else:\n",
    "        return x\n",
    "\n",
    "y = f(-3)\n",
    "print(\"return value =\", y)\n",
    "\n",
    "# check whether y is None\n",
    "if y == None:\n",
    "    print(\"The number was negative.\")"
   ]
  },
  {
   "cell_type": "markdown",
   "metadata": {
    "tags": []
   },
   "source": [
    "### Globale Variablen\n",
    "Funktionen können lesend auf globale Variablen zugreifen. Dies sollte jedoch vermieden werden wann immer möglich!\n",
    "\n",
    "Es ist wichtig, dass die globale Variable **vor dem ersten Aufruf** der Funktion definiert wird. Es ist jedoch möglich, die globale Variable nach der Funktionsdefinition zu definieren.  "
   ]
  },
  {
   "cell_type": "code",
   "execution_count": 57,
   "metadata": {},
   "outputs": [
    {
     "name": "stdout",
     "output_type": "stream",
     "text": [
      "11.0\n"
     ]
    }
   ],
   "source": [
    "# how to read global variables in functions\n",
    "# avoid the existence of global variables, if possible\n",
    "\n",
    "def scaled(x):\n",
    "    return x * scale\n",
    "\n",
    "scale = 1.1\n",
    "print(scaled(10))"
   ]
  },
  {
   "cell_type": "markdown",
   "metadata": {},
   "source": [
    "## Aliasing\n",
    "Aliasing bedeutet, dass zwei unterschiedliche Variablen auf das gleiche Objekt zeigen. Dies führt normalerweise zu keinen Problemen wenn nur gelesen wird. Das Problem ist, wenn über eine Variable Änderungen am Objekt vorgenommen werden, die man dann von der anderen Variable aus sieht. Da die meisten \"einfachen\" Objekte unveränderlich sind, ist das dort kein Problem. \n",
    "\n",
    "Man kann mit \"*id(x) == id(y)*\" oder mit \"*x is y*\" testen, ob *x* und *y* auf das gleiche Objekt zeigen. \n",
    "\n",
    "### Aliasing bei unveränderlichen Typen\n",
    "Ein Beispiel mit einem unveränderlichen Typen (String), wo also Aliasing zu keinem Problem führt:"
   ]
  },
  {
   "cell_type": "code",
   "execution_count": 73,
   "metadata": {
    "tags": []
   },
   "outputs": [
    {
     "name": "stdout",
     "output_type": "stream",
     "text": [
      "s1 = hello and s2 = hello\n",
      "aliasing\n",
      "s1 = hello and s2 = hello!\n",
      "no aliasing\n"
     ]
    }
   ],
   "source": [
    "# aliasing of s1 and s2\n",
    "s1 = \"hello\"\n",
    "s2 = s1\n",
    "print(\"s1 =\", s1, \"and s2 =\", s2)\n",
    "print(\"aliasing\" if s1 is s2 else \"no aliasing\")\n",
    "\n",
    "# if we change s2 now, this creates a new string and leaves s1 unaffected!\n",
    "s2 = s1 + \"!\"\n",
    "print(\"s1 =\", s1, \"and s2 =\", s2)\n",
    "print(\"aliasing\" if s1 is s2 else \"no aliasing\")\n"
   ]
  },
  {
   "cell_type": "markdown",
   "metadata": {},
   "source": [
    "### Aliasing bei veränderlichen Typen\n",
    "Ein Beispiel mit einem veränderlichen Typen (list), wo also Aliasing zu einem Problem führen könnte. Wenn man eine Liste verändert, ändert sich die Adresse nicht, nur der Wert. Dementsprechend ändert sich der Wert jeder Variable, die auf diese Liste zeigt. (Mehr zu Listen gibt es später.)"
   ]
  },
  {
   "cell_type": "code",
   "execution_count": 74,
   "metadata": {},
   "outputs": [
    {
     "name": "stdout",
     "output_type": "stream",
     "text": [
      "l1 = ['h', 'e', 'l', 'l', 'o'] and l2 = ['h', 'e', 'l', 'l', 'o']\n",
      "aliasing\n",
      "l1 = ['h', 'e', 'l', 'l', 'o', '!'] and l2 = ['h', 'e', 'l', 'l', 'o', '!']\n",
      "aliasing\n"
     ]
    }
   ],
   "source": [
    "# aliasing of l1 and l2\n",
    "l1 = list(\"hello\")\n",
    "l2 = l1\n",
    "print(\"l1 =\", l1, \"and l2 =\", l2)\n",
    "print(\"aliasing\" if l1 is l2 else \"no aliasing\")\n",
    "\n",
    "# if we change l2 now, this also changes l1!\n",
    "l2.append(\"!\")\n",
    "print(\"l1 =\", l1, \"and l2 =\", l2)\n",
    "print(\"aliasing\" if l1 is l2 else \"no aliasing\")"
   ]
  },
  {
   "cell_type": "markdown",
   "metadata": {
    "tags": []
   },
   "source": [
    "## Expliziter Umgang mit Typen\n",
    "Durch die dynamische Typisierung von Python kann man Programme schreiben, ohne jemals Typen hinzuschreiben. Dennoch sind sie da.\n",
    "### Herausfinden des Typs\n",
    "Den Typ eines Objekts oder einer Variable kann man mit *type* herausfinden. "
   ]
  },
  {
   "cell_type": "code",
   "execution_count": 75,
   "metadata": {},
   "outputs": [
    {
     "data": {
      "text/plain": [
       "int"
      ]
     },
     "execution_count": 75,
     "metadata": {},
     "output_type": "execute_result"
    }
   ],
   "source": [
    "type(3)"
   ]
  },
  {
   "cell_type": "code",
   "execution_count": 76,
   "metadata": {},
   "outputs": [
    {
     "data": {
      "text/plain": [
       "float"
      ]
     },
     "execution_count": 76,
     "metadata": {},
     "output_type": "execute_result"
    }
   ],
   "source": [
    "type(3.0)"
   ]
  },
  {
   "cell_type": "code",
   "execution_count": 77,
   "metadata": {
    "tags": []
   },
   "outputs": [
    {
     "data": {
      "text/plain": [
       "str"
      ]
     },
     "execution_count": 77,
     "metadata": {},
     "output_type": "execute_result"
    }
   ],
   "source": [
    "type(\"hi\")"
   ]
  },
  {
   "cell_type": "code",
   "execution_count": 78,
   "metadata": {
    "tags": []
   },
   "outputs": [
    {
     "data": {
      "text/plain": [
       "int"
      ]
     },
     "execution_count": 78,
     "metadata": {},
     "output_type": "execute_result"
    }
   ],
   "source": [
    "x = 6\n",
    "type(x)"
   ]
  },
  {
   "cell_type": "markdown",
   "metadata": {
    "tags": []
   },
   "source": [
    "### Konvertieren des Typs\n",
    "Man kann den Typ explizit ändern. "
   ]
  },
  {
   "cell_type": "code",
   "execution_count": 79,
   "metadata": {},
   "outputs": [
    {
     "data": {
      "text/plain": [
       "4"
      ]
     },
     "execution_count": 79,
     "metadata": {},
     "output_type": "execute_result"
    }
   ],
   "source": [
    "# convert float to int\n",
    "int(4.9) "
   ]
  },
  {
   "cell_type": "code",
   "execution_count": 80,
   "metadata": {},
   "outputs": [
    {
     "data": {
      "text/plain": [
       "3.0"
      ]
     },
     "execution_count": 80,
     "metadata": {},
     "output_type": "execute_result"
    }
   ],
   "source": [
    "# convert int to float\n",
    "float(3)"
   ]
  },
  {
   "cell_type": "code",
   "execution_count": 81,
   "metadata": {},
   "outputs": [
    {
     "data": {
      "text/plain": [
       "'234'"
      ]
     },
     "execution_count": 81,
     "metadata": {},
     "output_type": "execute_result"
    }
   ],
   "source": [
    "# convert int to string\n",
    "str(234) "
   ]
  },
  {
   "cell_type": "code",
   "execution_count": 82,
   "metadata": {},
   "outputs": [
    {
     "data": {
      "text/plain": [
       "'3.4'"
      ]
     },
     "execution_count": 82,
     "metadata": {},
     "output_type": "execute_result"
    }
   ],
   "source": [
    "# convert float to string\n",
    "str(3.4)"
   ]
  },
  {
   "cell_type": "code",
   "execution_count": 83,
   "metadata": {
    "tags": []
   },
   "outputs": [
    {
     "name": "stdout",
     "output_type": "stream",
     "text": [
      "46\n"
     ]
    }
   ],
   "source": [
    "# convert string s to int and add 3 to it\n",
    "s = \"43\"\n",
    "x = int(s) + 3 \n",
    "print(x)"
   ]
  },
  {
   "cell_type": "code",
   "execution_count": 84,
   "metadata": {
    "tags": []
   },
   "outputs": [
    {
     "data": {
      "text/plain": [
       "'I own 2 cats.'"
      ]
     },
     "execution_count": 84,
     "metadata": {},
     "output_type": "execute_result"
    }
   ],
   "source": [
    "#convert int x to string and concatenate the strings\n",
    "x = 2\n",
    "\"I own \" + str(x) + \" cats.\" "
   ]
  },
  {
   "cell_type": "markdown",
   "metadata": {
    "tags": []
   },
   "source": [
    "### Typ-Annotationen\n",
    "Man muss den Typ einer Variable nicht explizit angeben, kann das aber mit Typ-Annotationen dennoch tun. Die Syntax sieht dann so aus: \"*variable: typ*\"."
   ]
  },
  {
   "cell_type": "code",
   "execution_count": 85,
   "metadata": {},
   "outputs": [],
   "source": [
    "x: int = 2"
   ]
  },
  {
   "cell_type": "markdown",
   "metadata": {
    "tags": []
   },
   "source": [
    "Man kann auch die Parameter und der Rückgabewert (mit \"*-> typ*\" vor dem Doppelpunkt) einer Funktion mit Typ-Annotationen versehen. Die werden dann auch bei dem *help*-Aufruf ausgegeben. "
   ]
  },
  {
   "cell_type": "code",
   "execution_count": 86,
   "metadata": {
    "tags": []
   },
   "outputs": [
    {
     "name": "stdout",
     "output_type": "stream",
     "text": [
      "Help on function f in module __main__:\n",
      "\n",
      "f(x: int) -> int\n",
      "\n"
     ]
    }
   ],
   "source": [
    "def f(x: int) -> int:\n",
    "    return x\n",
    "\n",
    "help(f)"
   ]
  },
  {
   "cell_type": "markdown",
   "metadata": {
    "tags": []
   },
   "source": [
    "Typ-Annotationen hindern einen aber nicht daran, den Variablen einen Wert eines anderen Typs zuzuweisen. Es ist nur eine Hilfe für das Verständnis des Codes. Und man kann potentiell externe Tools verwenden, um die Typen überprüfen zu lassen. "
   ]
  },
  {
   "cell_type": "code",
   "execution_count": 87,
   "metadata": {
    "scrolled": true,
    "tags": []
   },
   "outputs": [
    {
     "name": "stdout",
     "output_type": "stream",
     "text": [
      "<class 'int'>\n"
     ]
    }
   ],
   "source": [
    "x: int = 2\n",
    "x = \"hello\"\n",
    "x: str = 3\n",
    "print(type(x))"
   ]
  },
  {
   "cell_type": "markdown",
   "metadata": {
    "tags": []
   },
   "source": [
    "## Module und Keywords\n",
    "Python hat eine extrem grosse Anzahl Libraries in Form von Modulen, die man mit *import* importieren kann. \n",
    "\n",
    "Man kann ein Modul laden mit einem neuen namespace. Die entsprechenden Funktionen können dann mit \"*namespace.function*\" aufgerufen werden. "
   ]
  },
  {
   "cell_type": "code",
   "execution_count": 90,
   "metadata": {
    "tags": []
   },
   "outputs": [
    {
     "data": {
      "text/plain": [
       "3.0"
      ]
     },
     "execution_count": 90,
     "metadata": {},
     "output_type": "execute_result"
    }
   ],
   "source": [
    "# import math module and load it into a new namespace (called math)\n",
    "import math\n",
    "\n",
    "# call sqrt function from math module with math.sqrt\n",
    "math.sqrt(9)"
   ]
  },
  {
   "cell_type": "markdown",
   "metadata": {
    "jp-MarkdownHeadingCollapsed": true,
    "tags": []
   },
   "source": [
    "Man kann Module auch mit einem anderen Namen für den Namespace importieren."
   ]
  },
  {
   "cell_type": "code",
   "execution_count": 91,
   "metadata": {
    "tags": []
   },
   "outputs": [
    {
     "data": {
      "text/plain": [
       "3.0"
      ]
     },
     "execution_count": 91,
     "metadata": {},
     "output_type": "execute_result"
    }
   ],
   "source": [
    "# import math module and load it into a new namespace called ma\n",
    "import math as ma\n",
    "\n",
    "# call sqrt function from math module with ma.sqrt\n",
    "ma.sqrt(9)"
   ]
  },
  {
   "cell_type": "markdown",
   "metadata": {
    "jp-MarkdownHeadingCollapsed": true,
    "tags": []
   },
   "source": [
    "Grundsätzlich kann man ein ganzes Modul auch in den aktuellen namespace laden. Die Funktionen können dann direkt aufgerufen werden (ohne \"*namespace.*\"). Dies ist nicht empfehlenswert!"
   ]
  },
  {
   "cell_type": "code",
   "execution_count": 92,
   "metadata": {},
   "outputs": [
    {
     "data": {
      "text/plain": [
       "3.0"
      ]
     },
     "execution_count": 92,
     "metadata": {},
     "output_type": "execute_result"
    }
   ],
   "source": [
    "# import math module into current namespace\n",
    "# do not do this!\n",
    "from math import * \n",
    "\n",
    "# call sqrt function from math module with sqrt\n",
    "sqrt(9)"
   ]
  },
  {
   "cell_type": "markdown",
   "metadata": {
    "tags": []
   },
   "source": [
    "Man kann auch nur Teile eines Moduls importieren."
   ]
  },
  {
   "cell_type": "code",
   "execution_count": 93,
   "metadata": {},
   "outputs": [
    {
     "name": "stdout",
     "output_type": "stream",
     "text": [
      "2023-02-08\n"
     ]
    }
   ],
   "source": [
    "# import date from module datetime\n",
    "from datetime import date \n",
    "# today's date\n",
    "print(date.today())"
   ]
  },
  {
   "cell_type": "markdown",
   "metadata": {
    "tags": []
   },
   "source": [
    "Mehr interessante Module lernen wir in Woche 2 und 3 der Vorlesung kennen. \n",
    "\n",
    "Hier noch eine Liste aller Keywords in Python."
   ]
  },
  {
   "cell_type": "code",
   "execution_count": 94,
   "metadata": {},
   "outputs": [
    {
     "name": "stdout",
     "output_type": "stream",
     "text": [
      "['False', 'None', 'True', 'and', 'as', 'assert', 'async', 'await', 'break', 'class', 'continue', 'def', 'del', 'elif', 'else', 'except', 'finally', 'for', 'from', 'global', 'if', 'import', 'in', 'is', 'lambda', 'nonlocal', 'not', 'or', 'pass', 'raise', 'return', 'try', 'while', 'with', 'yield']\n"
     ]
    }
   ],
   "source": [
    "import keyword\n",
    "print(keyword.kwlist)"
   ]
  }
 ],
 "metadata": {
  "kernelspec": {
   "display_name": "Python 3",
   "language": "python",
   "name": "python3"
  },
  "language_info": {
   "codemirror_mode": {
    "name": "ipython",
    "version": 3
   },
   "file_extension": ".py",
   "mimetype": "text/x-python",
   "name": "python",
   "nbconvert_exporter": "python",
   "pygments_lexer": "ipython3",
   "version": "3.8.5"
  },
  "toc-autonumbering": true,
  "toc-showcode": false,
  "toc-showmarkdowntxt": false
 },
 "nbformat": 4,
 "nbformat_minor": 4
}
