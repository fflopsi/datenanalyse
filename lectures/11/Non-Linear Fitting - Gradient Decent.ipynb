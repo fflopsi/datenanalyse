{
 "cells": [
  {
   "cell_type": "markdown",
   "metadata": {},
   "source": [
    "# Load libraries"
   ]
  },
  {
   "cell_type": "code",
   "execution_count": 1,
   "metadata": {
    "ExecuteTime": {
     "end_time": "2024-05-07T10:07:37.995943513Z",
     "start_time": "2024-05-07T10:07:37.422581908Z"
    }
   },
   "outputs": [],
   "source": [
    "import numpy as np\n",
    "from numpy.linalg import inv\n",
    "import matplotlib.pyplot as plt\n",
    "from scipy.optimize import curve_fit"
   ]
  },
  {
   "cell_type": "markdown",
   "metadata": {},
   "source": [
    "# Define functions"
   ]
  },
  {
   "cell_type": "code",
   "execution_count": 2,
   "metadata": {
    "ExecuteTime": {
     "end_time": "2024-05-07T10:07:39.045946303Z",
     "start_time": "2024-05-07T10:07:39.007566426Z"
    }
   },
   "outputs": [],
   "source": [
    "# Function that calculates the weighted sum of the squares of the distance between the model and the data\n",
    "# This is the so called \"cost function\"\n",
    "# x, y : Data\n",
    "# w : Weights\n",
    "# model : The model function which is a function of x and a\n",
    "# a : Model parameters\n",
    "\n",
    "def S(x, y, w, model, a):\n",
    "    return np.sum(w*(y-model(x, a))**2)\n",
    "\n",
    "\n",
    "# Function that numerically calculates the first derivative of S\n",
    "# S : The function S\n",
    "# x, y : Data\n",
    "# w : Weights\n",
    "# model : The model function\n",
    "# a : Model parameters\n",
    "# delta : The differential of a, we will calculate S at the positions a - delta and a + delta\n",
    "\n",
    "def dS(S, x, y, w, model, a, delta):\n",
    "    # Numerical calculation of the first derivative of S\n",
    "    \n",
    "    # Number of fit parameters\n",
    "    m = len(a)\n",
    "    \n",
    "    # Return vector \n",
    "    delta_S = np.zeros(m)\n",
    "    \n",
    "    # Iterate over all parameters\n",
    "    for i in range(0,m):\n",
    "        # Differential vector for only the differentiation parameter (partial differentiation)\n",
    "        delta_a = np.zeros(m)\n",
    "        delta_a[i] = delta\n",
    "        \n",
    "        # Differential vector at the position a\n",
    "        delta_a_plus = a + delta_a\n",
    "        delta_a_minus = a - delta_a\n",
    "        \n",
    "        # Calculate partial differential for i-th parameter \n",
    "        delta_S[i] = (S(x, y, w, model, delta_a_plus)-S(x, y, w, model, delta_a_minus))/(2*delta)\n",
    "    return delta_S\n",
    "\n",
    "\n",
    "# Function that numerically calculates the second derivative of S\n",
    "# S : The function S\n",
    "# x, y : Data\n",
    "# w : Weights\n",
    "# model : The model function\n",
    "# a : Model parameters\n",
    "# delta : The differential of a\n",
    "\n",
    "def dS2(S, x, y, w, model, a, delta):\n",
    "    # Numerical calculation of the decond derivatice of S\n",
    "    \n",
    "    # Number of fit parameters\n",
    "    m = len(a)\n",
    "    \n",
    "    # Return vector \n",
    "    delta_S = np.zeros((m,m))\n",
    "    \n",
    "    # Iterate over all parameters\n",
    "    for i in range(0,m):\n",
    "        for j in range(0,m):\n",
    "            # Differential vector for only the differentiation parameter (partial differentiation)\n",
    "            delta_ai = np.zeros(m)\n",
    "            delta_aj = np.zeros(m)\n",
    "            delta_ai[i] = delta\n",
    "            delta_aj[j] = delta\n",
    "                       \n",
    "            # Differential vector at the position a\n",
    "            delta_a_plusplus = a + delta_ai + delta_aj\n",
    "            delta_a_plusminus = a + delta_ai - delta_aj\n",
    "            delta_a_minusplus = a - delta_ai + delta_aj\n",
    "            delta_a_minusminus = a - delta_ai - delta_aj           \n",
    "            \n",
    "            # Calculate partial differential for i-th parameter \n",
    "            delta_S[i,j] = (S(x, y, w, model, delta_a_plusplus)-S(x, y, w, model, delta_a_minusplus)-S(x, y, w, model, delta_a_plusminus)+S(x, y, w, model, delta_a_minusminus))/(2*delta)**2\n",
    "    return delta_S\n",
    "\n",
    "# Function that returns the length, or norm of a vector, equivalent to the numpy function linalg.norm\n",
    "\n",
    "def length(a):\n",
    "    # Length of vector a\n",
    "    a_length = 0\n",
    "    for a_i in a:\n",
    "        a_length = a_length + a_i**2\n",
    "    return np.sqrt(a_length)\n",
    "\n",
    "\n",
    "# Function that performs a gradient descent algorithm to minimize the cost function S\n",
    "# S : The function S\n",
    "# x, y : Data\n",
    "# w : Weights\n",
    "# model : The model function\n",
    "# a_init : Initial guess for the fir parameters\n",
    "# min_gradient : Termination condition based on the minimal gradient\n",
    "# max_i: Termination condition based on the maximal number of iterations\n",
    "# alpha : Scaling parameter of the gradient\n",
    "# delta : The differential of a\n",
    "\n",
    "def gradient_descent_simple(S, x, y, w, model, a_init, min_gradient, max_i, alpha, delta):\n",
    "    \n",
    "    # First step\n",
    "    # ----------\n",
    "    \n",
    "    # Next Values of parameters\n",
    "    a_next = a_init\n",
    "    # Calculate gradient and for given value of parameters\n",
    "    gradient =  dS(S, x, y, w, model, a_next, delta)\n",
    "    # Magnitude of the gradient\n",
    "    d_a = np.array([length(gradient)])\n",
    "    \n",
    "\n",
    "    \n",
    "    # Start iteration\n",
    "    # ---------------\n",
    "    i = 0\n",
    "    while ((d_a[i] > min_gradient) and (i < max_i)):\n",
    "        \n",
    "        # Calculate next step using the gradient \n",
    "        a_next = a_next - alpha * gradient\n",
    "        # Calculate next gradient\n",
    "        gradient =  dS(S, x, y, w, model, a_next, delta)\n",
    "        \n",
    "        # Termination condition\n",
    "        d_a = np.append(d_a, [length(gradient)])\n",
    "    \n",
    "        # Next Step\n",
    "        i = i + 1\n",
    "    \n",
    "    return a_next, i, d_a\n",
    "\n",
    "\n",
    "# Function that performs the improved gradient descent algorithm to minimize the cost function S\n",
    "# S : The function S\n",
    "# x, y : Data\n",
    "# w : Weights\n",
    "# model : The model function\n",
    "# a_init : Initial guess for the fir parameters\n",
    "# min_gradient : Termination condition based on the minimal gradient\n",
    "# max_i: Termination condition based on the maximal number of iterations\n",
    "# alpha : Scaling parameter of the gradient\n",
    "# delta : The differential of a\n",
    "\n",
    "def gradient_descent(S, x, y, w, model, a_init, min_gradient, max_i, alpha, delta):\n",
    "    \n",
    "    # First step\n",
    "    # ----------\n",
    "    \n",
    "    # Next Values of parameters\n",
    "    a_next = a_init\n",
    "    # Calculate gradient and Hesse matrix for given value of parameters\n",
    "    gradient =  dS(S, x, y, w, model, a_next, delta)\n",
    "    hesse = dS2(S, x, y, w, model, a_next, delta)\n",
    "    hdiag = np.diagonal(hesse)\n",
    "    # Magnitude of the gradient\n",
    "    d_a = np.array([length(gradient)])\n",
    "    \n",
    "\n",
    "    \n",
    "    # Start iteration\n",
    "    # ---------------\n",
    "    i = 0\n",
    "    while ((d_a[i] > min_gradient) and (i < max_i)):\n",
    "        \n",
    "        # Calculate next step using the gradient \n",
    "        a_next = a_next - alpha * 1/hdiag * gradient\n",
    "        \n",
    "        # Calculate next gradient and Hesse matrix\n",
    "        gradient =  dS(S, x, y, w, model, a_next, delta)\n",
    "        hesse = dS2(S, x, y, w, model, a_next, delta)\n",
    "        hdiag = np.diagonal(hesse)\n",
    "        \n",
    "        # Termination condition\n",
    "        d_a = np.append(d_a, [length(gradient)])\n",
    "    \n",
    "        # Next Step\n",
    "        i = i + 1\n",
    "    \n",
    "    return a_next, i, d_a\n",
    "\n",
    "\n",
    "# Function that performs the Newton method to minimize the cost function S\n",
    "# S : The function S\n",
    "# x, y : Data\n",
    "# w : Weights\n",
    "# model : The model function\n",
    "# a_init : Initial guess for the fir parameters\n",
    "# min_gradient : Termination condition based on the minimal gradient\n",
    "# max_i: Termination condition based on the maximal number of iterations\n",
    "# alpha : Scaling parameter of the gradient\n",
    "# delta : The differential of a\n",
    "\n",
    "def Newton(S, x, y, w, model, a_init, min_gradient, max_i, alpha, delta):\n",
    "   \n",
    "    # First step\n",
    "    # ----------\n",
    "    \n",
    "    # Next Values of parameters\n",
    "    a_next = a_init\n",
    "    # Calculate gradient and Hesse matrix for given value of parameters\n",
    "    gradient =  dS(S, x, y, w, model, a_next, delta)\n",
    "    hesse = dS2(S, x, y, w, model, a_next, delta)\n",
    "    # Magnitude of the gradient\n",
    "    d_a = np.array([length(gradient)])\n",
    "    \n",
    "\n",
    "    \n",
    "    # Start iteration\n",
    "    # ---------------\n",
    "    i = 0\n",
    "    while ((d_a[i] > min_gradient) and (i < max_i)):\n",
    "        \n",
    "    \n",
    "        # a_next = a_next - alpha * gradient\n",
    "        a_next = a_next - alpha * np.linalg.inv(hesse)@gradient\n",
    "        \n",
    "        # Calculate next gradient and Hesse matrix\n",
    "        gradient =  dS(S, x, y, w, model, a_next, delta)\n",
    "        hesse = dS2(S, x, y, w, model, a_next, delta)\n",
    "        \n",
    "        # Termination condition\n",
    "        d_a = np.append(d_a, [length(gradient)])\n",
    "    \n",
    "        # Next Step\n",
    "        i = i + 1\n",
    "    \n",
    "    return a_next, i, d_a\n",
    "\n",
    "\n",
    "# Function that performs the Marquardt method to minimize the cost function S\n",
    "# S : The function S\n",
    "# x, y : Data\n",
    "# w : Weights\n",
    "# model : The model function\n",
    "# a_init : Initial guess for the fir parameters\n",
    "# min_gradient : Termination condition based on the minimal gradient\n",
    "# max_i: Termination condition based on the maximal number of iterations\n",
    "# alpha : Scaling parameter of the gradient\n",
    "# delta : The differential of a\n",
    "\n",
    "def Marquardt(S, x, y, w, model, a_init, min_gradient, max_i, alpha, delta):\n",
    "\n",
    "    m = len(a_init)\n",
    "    alpha_mod = np.identity(m) * (1 + alpha)\n",
    "    \n",
    "    # First step\n",
    "    # ----------\n",
    "    \n",
    "    # Next Values of parameters\n",
    "    a_next = a_init\n",
    "    # Calculate gradient and Hesse matrix for given value of parameters\n",
    "    gradient =  dS(S, x, y, w, model, a_next, delta)\n",
    "    hesse = dS2(S, x, y, w, model, a_next, delta)\n",
    "    hmod = hesse@alpha_mod\n",
    "    # Magnitude of the gradient\n",
    "    d_a = np.array([length(gradient)])\n",
    "    \n",
    "\n",
    "    \n",
    "    # Start iteration\n",
    "    # ---------------\n",
    "    i = 0\n",
    "    while ((d_a[i] > min_gradient) and (i < max_i)):\n",
    "        \n",
    "        # Calculate next step using the gradient \n",
    "        a_next = a_next - np.linalg.inv(hmod)@gradient\n",
    "        \n",
    "        # Calculate next gradient and Hesse matrix\n",
    "        gradient =  dS(S, x, y, w, model, a_next, delta)\n",
    "        hesse = dS2(S, x, y, w, model, a_next, delta)\n",
    "        hmod = hesse@alpha_mod\n",
    "        \n",
    "        # Termination condition\n",
    "        d_a = np.append(d_a, [length(gradient)])\n",
    "    \n",
    "        # Next Step\n",
    "        i = i + 1\n",
    "    \n",
    "    return a_next, i, d_a\n",
    "\n"
   ]
  },
  {
   "cell_type": "markdown",
   "metadata": {},
   "source": [
    "# Create Data"
   ]
  },
  {
   "cell_type": "markdown",
   "metadata": {},
   "source": [
    "## Model"
   ]
  },
  {
   "cell_type": "markdown",
   "metadata": {},
   "source": [
    "Polynomial model with <strong>a</strong> being a vector holding the polynomial parameters, <strong>a</strong>[0] is the offset, <strong>a</strong>[1] the linear parameter ... "
   ]
  },
  {
   "cell_type": "code",
   "execution_count": 3,
   "metadata": {
    "ExecuteTime": {
     "end_time": "2024-05-07T10:07:45.657405925Z",
     "start_time": "2024-05-07T10:07:45.645954394Z"
    }
   },
   "outputs": [],
   "source": [
    "def model(x, a):\n",
    "    y = 0\n",
    "    i = 0\n",
    "    for ai in a:\n",
    "        y = y + ai*x**i\n",
    "        i = i + 1\n",
    "    return y"
   ]
  },
  {
   "cell_type": "markdown",
   "metadata": {},
   "source": [
    "Exponential decay model <strong>a</strong> being a vector holding the parameters, amplitude <strong>a</strong>[0] and decay <strong>a</strong>[1]"
   ]
  },
  {
   "cell_type": "code",
   "execution_count": 4,
   "metadata": {
    "ExecuteTime": {
     "end_time": "2024-05-07T10:07:48.704200159Z",
     "start_time": "2024-05-07T10:07:48.693420895Z"
    }
   },
   "outputs": [],
   "source": [
    "def model(x, a):\n",
    "    return a[0]*np.exp(-a[1]*x)"
   ]
  },
  {
   "cell_type": "markdown",
   "metadata": {},
   "source": [
    "## Independent variable - x"
   ]
  },
  {
   "cell_type": "code",
   "execution_count": 5,
   "metadata": {
    "ExecuteTime": {
     "end_time": "2024-05-07T10:07:51.079813904Z",
     "start_time": "2024-05-07T10:07:51.065448920Z"
    }
   },
   "outputs": [],
   "source": [
    "x_min = 0\n",
    "x_max = 1\n",
    "x_n = 10\n",
    "\n",
    "x = np.linspace(x_min, x_max, x_n)"
   ]
  },
  {
   "cell_type": "markdown",
   "metadata": {},
   "source": [
    "## Dependent variable - y"
   ]
  },
  {
   "cell_type": "markdown",
   "metadata": {},
   "source": [
    "## Model parameters"
   ]
  },
  {
   "cell_type": "code",
   "execution_count": 6,
   "metadata": {
    "ExecuteTime": {
     "end_time": "2024-05-07T10:07:53.372261003Z",
     "start_time": "2024-05-07T10:07:53.368561230Z"
    }
   },
   "outputs": [],
   "source": [
    "# Vector holding the values of the model parameters\n",
    "a = np.array([1, 5])"
   ]
  },
  {
   "cell_type": "markdown",
   "metadata": {},
   "source": [
    "## Simulate experiment"
   ]
  },
  {
   "cell_type": "code",
   "execution_count": 7,
   "metadata": {
    "ExecuteTime": {
     "end_time": "2024-05-07T10:07:56.848641938Z",
     "start_time": "2024-05-07T10:07:56.840769660Z"
    }
   },
   "outputs": [],
   "source": [
    "# Number of measurements per data point\n",
    "m = 10\n",
    "\n",
    "# Measurement uncertainty\n",
    "sigma = 0.05"
   ]
  },
  {
   "cell_type": "code",
   "execution_count": 8,
   "metadata": {
    "ExecuteTime": {
     "end_time": "2024-05-07T10:08:00.899618442Z",
     "start_time": "2024-05-07T10:08:00.891545090Z"
    }
   },
   "outputs": [],
   "source": [
    "# Full measurement data\n",
    "\n",
    "# Generate empty arrays\n",
    "y_meas = np.zeros((x_n,m)) # Array holding all individual measurement values\n",
    "y = np.zeros(x_n) # Vector holding the y values, the mean value of all measurements taken per x_i\n",
    "w = np.zeros(x_n) # Vector holding the weights of the data points = 1/variance of each y\n",
    "\n",
    "\n",
    "i = 0\n",
    "# go through all x as x_i\n",
    "for x_i in x:\n",
    "    # generate m measured values per x value\n",
    "    # m normally distributed random numbers reflecting the measurement uncertainty\n",
    "    noise = np.random.normal(0,1,m)\n",
    "    # generate m measured values \n",
    "    y_i = model(x_i, a)+noise*sigma\n",
    "    y_meas[i,:] = y_i\n",
    "    # calculate the mean of all measured values    \n",
    "    y[i] = np.sum(y_i)/m\n",
    "    # and the weights (as invers variance)\n",
    "    w[i] = (m-1)/np.sum((y_i-y[i])**2)\n",
    "    # increment\n",
    "    i = i+1\n"
   ]
  },
  {
   "cell_type": "markdown",
   "metadata": {},
   "source": [
    "## Plot data"
   ]
  },
  {
   "cell_type": "code",
   "execution_count": 9,
   "metadata": {
    "ExecuteTime": {
     "end_time": "2024-05-07T10:08:03.852779251Z",
     "start_time": "2024-05-07T10:08:03.625390134Z"
    }
   },
   "outputs": [
    {
     "data": {
      "text/plain": "<Figure size 1000x600 with 1 Axes>",
      "image/png": "[encoded data removed]"
     },
     "metadata": {},
     "output_type": "display_data"
    }
   ],
   "source": [
    "# plot data\n",
    "plt.figure(\n",
    "    num=1,\n",
    "    figsize=(10,6),\n",
    "    facecolor='white')\n",
    "plt.xlabel(r'$x$')\n",
    "plt.ylabel(r'$y$')\n",
    "plt.xscale('linear')\n",
    "plt.yscale('linear')\n",
    "plt.errorbar(x,y,yerr=np.sqrt(1/w), fmt='bo')\n",
    "plt.show()"
   ]
  },
  {
   "cell_type": "markdown",
   "metadata": {},
   "source": [
    "# Non-linear regression"
   ]
  },
  {
   "cell_type": "markdown",
   "metadata": {},
   "source": [
    "### Gradient descent"
   ]
  },
  {
   "cell_type": "code",
   "execution_count": 10,
   "metadata": {
    "ExecuteTime": {
     "end_time": "2024-05-07T10:08:15.611936425Z",
     "start_time": "2024-05-07T10:08:15.569801214Z"
    }
   },
   "outputs": [
    {
     "name": "stdout",
     "output_type": "stream",
     "text": [
      "Fit Results:\n",
      "============\n",
      "Best fit:  [1.04322885 4.94864637]\n",
      "a_0 = 1.04\n",
      "a_1 = 4.95\n",
      "Iterations:  4195\n",
      "Amplitude = 1.04\n",
      "Gamma = 4.95\n"
     ]
    }
   ],
   "source": [
    "#a_init = np.array([10.0, 1.0])\n",
    "a_init = np.array([2.0, 1.0])\n",
    "\n",
    "delta = 0.001 # differential for numerical differntiation\n",
    "alpha = 0.0001 # scaling factor for gradient descent\n",
    "\n",
    "\n",
    "a_next_0, i_0, d_a_0 = gradient_descent_simple(S, x, y, w, model, a_init, 1e-1, 10000, alpha, delta)\n",
    "\n",
    "print('Fit Results:')\n",
    "print('============')\n",
    "print('Best fit: ',a_next_0)\n",
    "i = 0\n",
    "for ai in a_next_0:\n",
    "    print(\"a_{} = {:0.2f}\".format(i, ai))\n",
    "    i = i+1\n",
    "print('Iterations: ', i_0)\n",
    "print('Amplitude = {:0.2f}'.format(a_next_0[0]))\n",
    "print('Gamma = {:0.2f}'.format(a_next_0[1]))"
   ]
  },
  {
   "cell_type": "markdown",
   "metadata": {},
   "source": [
    "### Newton's Method"
   ]
  },
  {
   "cell_type": "code",
   "execution_count": 11,
   "metadata": {
    "ExecuteTime": {
     "end_time": "2024-05-07T10:08:19.051774008Z",
     "start_time": "2024-05-07T10:08:18.805049577Z"
    }
   },
   "outputs": [
    {
     "name": "stdout",
     "output_type": "stream",
     "text": [
      "Fit Results:\n",
      "============\n",
      "Best fit:\n",
      "a_0 = 1.04\n",
      "a_1 = 130.06\n",
      "============\n",
      "Iterations:  234\n",
      "Amplitude = 1.04\n",
      "Gamma = 130.06\n"
     ]
    }
   ],
   "source": [
    "a_init = np.array([2.0, 1.0])\n",
    "\n",
    "delta = 0.001 # differential for numerical differntiation\n",
    "alpha = 0.1 # scaling factor for gradient descent\n",
    "\n",
    "\n",
    "a_next_2, i_2, d_a_2 = Newton(S, x, y, w, model, a_init, 1e-1, 10000, alpha, delta)\n",
    "\n",
    "print('Fit Results:')\n",
    "print('============')\n",
    "print('Best fit:')\n",
    "i = 0\n",
    "for ai in a_next_2:\n",
    "    print(\"a_{} = {:0.2f}\".format(i, ai))\n",
    "    i = i+1\n",
    "print('============')\n",
    "print('Iterations: ', i_2)\n",
    "print('Amplitude = {:0.2f}'.format(a_next_2[0]))\n",
    "print('Gamma = {:0.2f}'.format(a_next_2[1],))"
   ]
  },
  {
   "cell_type": "markdown",
   "metadata": {},
   "source": [
    "### Gradient descent with modified alpha"
   ]
  },
  {
   "cell_type": "code",
   "execution_count": 12,
   "metadata": {
    "ExecuteTime": {
     "end_time": "2024-05-07T10:08:22.551211411Z",
     "start_time": "2024-05-07T10:08:22.548444502Z"
    }
   },
   "outputs": [
    {
     "name": "stdout",
     "output_type": "stream",
     "text": [
      "Fit Results:\n",
      "============\n",
      "Best fit:\n",
      "a_0 = 1.04\n",
      "a_1 = 4.96\n",
      "============\n",
      "Iterations:  18\n",
      "Amplitude = 1.04\n",
      "Gamma = 4.96\n"
     ]
    }
   ],
   "source": [
    "#a_init = np.array([10.0, 1.0])\n",
    "a_init = np.array([2.0, 1.0])\n",
    "\n",
    "delta = 0.001 # differential for numerical differntiation\n",
    "alpha = 1 # scaling factor for gradient descent\n",
    "\n",
    "\n",
    "a_next_1, i_1, d_a_1 = gradient_descent(S, x, y, w, model, a_init, 1e-1, 10000, alpha, delta)\n",
    "\n",
    "print('Fit Results:')\n",
    "print('============')\n",
    "print('Best fit:')\n",
    "i = 0\n",
    "for ai in a_next_1:\n",
    "    print(\"a_{} = {:0.2f}\".format(i, ai))\n",
    "    i = i+1\n",
    "print('============')\n",
    "print('Iterations: ', i_1)\n",
    "print('Amplitude = {:0.2f}'.format(a_next_1[0]))\n",
    "print('Gamma = {:0.2f}'.format(a_next_1[1]))"
   ]
  },
  {
   "cell_type": "markdown",
   "metadata": {},
   "source": [
    "### Marquardt's Method"
   ]
  },
  {
   "cell_type": "code",
   "execution_count": 13,
   "metadata": {
    "ExecuteTime": {
     "end_time": "2024-05-07T10:08:24.725476805Z",
     "start_time": "2024-05-07T10:08:24.697596527Z"
    }
   },
   "outputs": [
    {
     "name": "stdout",
     "output_type": "stream",
     "text": [
      "Fit Results:\n",
      "============\n",
      "Best fit:\n",
      "a_0 = 1.04\n",
      "a_1 = 4.96\n",
      "============\n",
      "Iterations:  17\n",
      "Amplitude = 1.04\n",
      "Gamma = 4.96\n"
     ]
    }
   ],
   "source": [
    "a_init = np.array([2.0, 1.0])\n",
    "\n",
    "delta = 0.001 # differential for numerical differntiation\n",
    "alpha = 1 # scaling factor for gradient descent\n",
    "\n",
    "\n",
    "a_next_3, i_3, d_a_3 = Marquardt(S, x, y, w, model, a_init, 1e-1, 10000, alpha, delta)\n",
    "\n",
    "print('Fit Results:')\n",
    "print('============')\n",
    "print('Best fit:')\n",
    "i = 0\n",
    "for ai in a_next_3:\n",
    "    print(\"a_{} = {:0.2f}\".format(i, ai))\n",
    "    i = i+1\n",
    "print('============')\n",
    "print('Iterations: ', i_3)\n",
    "print('Amplitude = {:0.2f}'.format(a_next_3[0]))\n",
    "print('Gamma = {:0.2f}'.format(a_next_3[1]))"
   ]
  },
  {
   "cell_type": "code",
   "execution_count": 14,
   "metadata": {
    "ExecuteTime": {
     "end_time": "2024-05-07T10:08:27.521694403Z",
     "start_time": "2024-05-07T10:08:26.562476887Z"
    }
   },
   "outputs": [
    {
     "data": {
      "text/plain": "<Figure size 1000x600 with 1 Axes>",
      "image/png": "[encoded data removed]"
     },
     "metadata": {},
     "output_type": "display_data"
    }
   ],
   "source": [
    "# plot convergence\n",
    "plt.figure(\n",
    "    num=1,\n",
    "    figsize=(10,6),\n",
    "    facecolor='white')\n",
    "plt.xlabel(r'$i$')\n",
    "plt.ylabel(r'|$\\nabla S|$')\n",
    "plt.xscale('log')\n",
    "plt.yscale('log')\n",
    "plt.plot(np.linspace(0,i_0,i_0+1),d_a_0, label='constant alpha')\n",
    "plt.plot(np.linspace(0,i_1,i_1+1),d_a_1, label='adjusted alpha')\n",
    "plt.plot(np.linspace(0,i_2,i_2+1),d_a_2, label='Newton')\n",
    "plt.plot(np.linspace(0,i_3,i_3+1),d_a_3, label='Marquardt')\n",
    "plt.legend()\n",
    "plt.show()"
   ]
  },
  {
   "cell_type": "code",
   "execution_count": 15,
   "metadata": {
    "ExecuteTime": {
     "end_time": "2024-05-07T10:09:06.865287277Z",
     "start_time": "2024-05-07T10:09:06.857796310Z"
    }
   },
   "outputs": [],
   "source": [
    "y_fit_0 = model(x, a_next_0)\n",
    "y_fit_1 = model(x, a_next_1)\n",
    "y_fit_2 = model(x, a_next_2)\n",
    "y_fit_3 = model(x, a_next_3)"
   ]
  },
  {
   "cell_type": "code",
   "execution_count": 16,
   "metadata": {
    "ExecuteTime": {
     "end_time": "2024-05-07T10:09:08.619258675Z",
     "start_time": "2024-05-07T10:09:08.441677165Z"
    }
   },
   "outputs": [
    {
     "data": {
      "text/plain": "<Figure size 1000x600 with 1 Axes>",
      "image/png": "[encoded data removed]"
     },
     "metadata": {},
     "output_type": "display_data"
    }
   ],
   "source": [
    "# plot data\n",
    "plt.figure(\n",
    "    num=1,\n",
    "    figsize=(10,6),\n",
    "    facecolor='white')\n",
    "plt.xlabel(r'$x$')\n",
    "plt.ylabel(r'$y$')\n",
    "plt.xscale('linear')\n",
    "plt.yscale('linear')\n",
    "plt.errorbar(x,y,yerr=np.sqrt(1/w), fmt='bo', label='data')\n",
    "plt.plot(x,y_fit_0, label='constant alpha')\n",
    "plt.plot(x,y_fit_1, label='adjusted alpha')\n",
    "plt.plot(x,y_fit_2, label='Newton')\n",
    "plt.plot(x,y_fit_3, label='Marquardt')\n",
    "plt.legend()\n",
    "plt.show()"
   ]
  },
  {
   "cell_type": "code",
   "execution_count": null,
   "metadata": {},
   "outputs": [],
   "source": []
  }
 ],
 "metadata": {
  "kernelspec": {
   "display_name": "Python 3 (ipykernel)",
   "language": "python",
   "name": "python3"
  },
  "language_info": {
   "codemirror_mode": {
    "name": "ipython",
    "version": 3
   },
   "file_extension": ".py",
   "mimetype": "text/x-python",
   "name": "python",
   "nbconvert_exporter": "python",
   "pygments_lexer": "ipython3",
   "version": "3.12.0"
  }
 },
 "nbformat": 4,
 "nbformat_minor": 4
}
